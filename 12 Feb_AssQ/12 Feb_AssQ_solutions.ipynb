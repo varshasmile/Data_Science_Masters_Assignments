{
 "cells": [
  {
   "cell_type": "code",
   "execution_count": 1,
   "id": "b780a856-4281-40cb-bbda-ac428408ee2e",
   "metadata": {},
   "outputs": [],
   "source": [
    "import logging\n",
    "\n",
    "logging.basicConfig(filename='Exception_Handling_Ass1.log', level=logging.DEBUG, format='%(asctime)s %(name)s %(levelname)s %(message)s')"
   ]
  },
  {
   "cell_type": "markdown",
   "id": "a732a4f1-a4ac-4e04-a187-8d9620b796ae",
   "metadata": {},
   "source": [
    "Q1. What is an Exception in python? Write the difference between Exceptions and Syntax errors."
   ]
  },
  {
   "cell_type": "markdown",
   "id": "e52bfbd8-d2ca-4c34-80f0-ea5b41372662",
   "metadata": {},
   "source": [
    "In Python, an exception is an event that occurs during the execution of a program that disrupts the normal flow of instructions. When an exception occurs, it is \"raised\" or \"thrown\" by the program, and if it is not handled, the program terminates and displays an error message.\n",
    "\n",
    "Exceptions in Python provide a way to handle errors. They allow you to handle errors that may occur during the execution of your code, preventing the program from crashing or producing unexpected results.\n",
    "\n",
    "difference between Exceptions and Syntax errors:\n",
    "Syntax Errors:\n",
    "Syntax errors occur during the parsing of the code, indicating that the code is not written according to the Python syntax rules.\n",
    "Syntax errors are typically raised by the Python interpreter when it encounters invalid code structures, such as missing colons, unmatched parentheses, or incorrect indentation.\n",
    "Syntax errors prevent the program from running at all and need to be fixed before the code can be executed.\n",
    "Examples of syntax errors: SyntaxError: invalid syntax, IndentationError: unexpected indent.\n",
    "\n",
    "Exceptions:\n",
    "Exceptions occur during the execution of the code when an unexpected condition or error is encountered.\n",
    "Exceptions can be raised by the program explicitly or by the Python interpreter when it encounters certain conditions, such as division by zero,etc.\n",
    "Exceptions can be handled using exception handling mechanisms, such as try-except blocks, allowing the program to recover from errors and continue executing.\n",
    "Examples of exceptions: ZeroDivisionError, IndexError, FileNotFoundError."
   ]
  },
  {
   "cell_type": "markdown",
   "id": "19564f10-888e-4d3c-b0a7-d751db00935c",
   "metadata": {},
   "source": [
    "Q2. What happens when an exception is not handled? Explain with an example."
   ]
  },
  {
   "cell_type": "markdown",
   "id": "0b9cddad-7121-41e3-b195-f6f00c7eadd0",
   "metadata": {},
   "source": [
    "When an exception is not handled in Python, it leads to an unhandled exception error, causing the program to terminate abruptly and display an error message. This means that the normal flow of the program is disrupted, and any remaining code after the point where the exception occurred is not executed.\n",
    "\n",
    "Example:"
   ]
  },
  {
   "cell_type": "code",
   "execution_count": 2,
   "id": "e0315749-e67c-41ac-8370-8a4a50aa3a65",
   "metadata": {},
   "outputs": [
    {
     "ename": "ZeroDivisionError",
     "evalue": "division by zero",
     "output_type": "error",
     "traceback": [
      "\u001b[0;31m---------------------------------------------------------------------------\u001b[0m",
      "\u001b[0;31mZeroDivisionError\u001b[0m                         Traceback (most recent call last)",
      "Cell \u001b[0;32mIn[2], line 7\u001b[0m\n\u001b[1;32m      5\u001b[0m b \u001b[38;5;241m=\u001b[39m \u001b[38;5;241m0\u001b[39m\n\u001b[1;32m      6\u001b[0m logging\u001b[38;5;241m.\u001b[39minfo(\u001b[38;5;124m'\u001b[39m\u001b[38;5;124mwe attempt to divide two numbers 10 and 0. If b is 0, a ZeroDivisionError exception is raised and program terminates abruptly , rest of program is not excecuted.\u001b[39m\u001b[38;5;124m'\u001b[39m)\n\u001b[0;32m----> 7\u001b[0m result \u001b[38;5;241m=\u001b[39m \u001b[43ma\u001b[49m\u001b[43m \u001b[49m\u001b[38;5;241;43m/\u001b[39;49m\u001b[43m \u001b[49m\u001b[43mb\u001b[49m\n\u001b[1;32m      8\u001b[0m logging\u001b[38;5;241m.\u001b[39minfo(\u001b[38;5;124m\"\u001b[39m\u001b[38;5;124mThe result is: \u001b[39m\u001b[38;5;132;01m%s\u001b[39;00m\u001b[38;5;124m\"\u001b[39m, result)\n",
      "\u001b[0;31mZeroDivisionError\u001b[0m: division by zero"
     ]
    }
   ],
   "source": [
    "logging.info('Question No. 2: ')\n",
    "logging.info('In this example, we attempt to divide two numbers a and b without Exception Handling.')\n",
    "# Divide two numbers\n",
    "a = 10\n",
    "b = 0\n",
    "logging.info('we attempt to divide two numbers 10 and 0. If b is 0, a ZeroDivisionError exception is raised and program terminates abruptly , rest of program is not excecuted.')\n",
    "result = a / b\n",
    "logging.info(\"The result is: %s\", result)"
   ]
  },
  {
   "cell_type": "markdown",
   "id": "d1ff20f5-0405-4453-91b4-bfc95b2b8585",
   "metadata": {},
   "source": [
    "Q3. Which Python statements are used to catch and handle exceptions? Explain with an example."
   ]
  },
  {
   "cell_type": "markdown",
   "id": "ec677d66-a94a-4ebd-b415-82ce789039a2",
   "metadata": {},
   "source": [
    "In Python, the try and except statements are used to catch and handle exceptions. The try block contains the code that may raise an exception, and the except block specifies the code that handles the exception.\n",
    "\n",
    "Example:"
   ]
  },
  {
   "cell_type": "code",
   "execution_count": 3,
   "id": "72c5b168-49cb-4ded-88fd-97e307fb4b7b",
   "metadata": {},
   "outputs": [],
   "source": [
    "logging.info('Question No. 3: ')\n",
    "logging.info('In this example, within the try block, we have the code that may raise an exception.')\n",
    "try:\n",
    "    logging.info('We are inside TRY block where we try to divide n 10 by 0')\n",
    "    num1 = 10\n",
    "    num2 = 0\n",
    "    logging.info('We attempt to divide num1 by num2, and since num2 is 0, a ZeroDivisionError exception will be raised.')\n",
    "    result = num1 / num2\n",
    "    logging.info(\"The result is: %s\", result)\n",
    "\n",
    "except ZeroDivisionError as e:\n",
    "    logging.info('Inside the except block, we handle the specific ZeroDivisionError exception')\n",
    "    logging.error(\"Exception occurred: %s\", e)\n",
    "    logging.error(\"Cannot divide by zero\")\n",
    "    logging.error(\"Division operation failed\")\n",
    "\n",
    "finally:\n",
    "    logging.info('Inside the Finally block that always executes, regardless of whether an exception occurred or not')\n",
    "    logging.info(\"End of the program\")\n"
   ]
  },
  {
   "cell_type": "markdown",
   "id": "64460acb-d217-4183-99d1-5d20591de87b",
   "metadata": {},
   "source": [
    "Q4. Explain with an example:\n",
    "1. try and else\n",
    "2. finally\n",
    "3. raise"
   ]
  },
  {
   "cell_type": "markdown",
   "id": "984f5bc9-a5f7-45df-b092-f2c1ede02b2c",
   "metadata": {},
   "source": [
    "1. try and else:\n",
    "\n",
    "The try block is used to enclose the code that may raise an exception. If an exception occurs within the try block, it is caught and handled in the corresponding except block. However, if no exception occurs, the code in the else block is executed."
   ]
  },
  {
   "cell_type": "markdown",
   "id": "da9d9f9c-7a7a-4730-8c8a-775d53abefa3",
   "metadata": {},
   "source": [
    "2. finally:\n",
    "\n",
    "The finally block is used to specify code that will always execute, regardless of whether an exception occurred or not. It is useful for performing cleanup operations or releasing resources."
   ]
  },
  {
   "cell_type": "markdown",
   "id": "58fcaf1a-4d42-42d4-afbb-4e3383992583",
   "metadata": {},
   "source": [
    "Example:"
   ]
  },
  {
   "cell_type": "code",
   "execution_count": 4,
   "id": "d2ffac2a-a5c8-4619-9db9-946ebe4f9d1b",
   "metadata": {},
   "outputs": [],
   "source": [
    "logging.info('Question No. 4: ')\n",
    "\n",
    "try:\n",
    "    logging.info('Inside try block, trying to divide 10 by 5.')\n",
    "    num1 = 10\n",
    "    num2 = 5\n",
    "    result = num1 / num2\n",
    "    logging.info(\"The result is: %s\", result)\n",
    "    logging.info('the division operation within the try block does not raise an exception because num2 is not zero.')\n",
    "\n",
    "except ZeroDivisionError as e:\n",
    "    logging.info('Inside except block since try block had ZeroDivisionError')\n",
    "    logging.error(\"Exception occurred: %s\", e)\n",
    "    logging.error(\"Cannot divide by zero\")\n",
    "    logging.error(\"Division operation failed\")\n",
    "\n",
    "else:\n",
    "    logging.info('Inside the else block, is executed because of successful division operation of try block.')\n",
    "    logging.info(\"No exception occurred\")\n",
    "    logging.info(\"The division was successful\")\n",
    "    \n",
    "finally:\n",
    "    logging.info('Inside Finally block, Regardless of whether an exception occurs or not, finally block is executed.')\n",
    "    logging.info(\"End of the program\")"
   ]
  },
  {
   "cell_type": "markdown",
   "id": "b4caf319-ab21-442b-9bd4-6ed26504cc4b",
   "metadata": {},
   "source": [
    "3. raise:\n",
    "\n",
    "The raise statement is used to manually raise an exception within your code. You can raise built-in exceptions or create custom exceptions.\n",
    "\n",
    "Example:"
   ]
  },
  {
   "cell_type": "code",
   "execution_count": 5,
   "id": "a0907eec-717b-46ae-abb4-7acd509dbbf5",
   "metadata": {},
   "outputs": [],
   "source": [
    "try:\n",
    "    logging.info('Inside try block to check the validity of age')\n",
    "    age = -5\n",
    "    if age < 0:\n",
    "        logging.info('we check the age is negative. We manually raise a ValueError with a custom error message using the raise statement')\n",
    "        raise ValueError(\"Invalid age\")\n",
    "\n",
    "except ValueError as e:\n",
    "    logging.info('Inside the except block, catches the raised exception and logs the error details.')\n",
    "    logging.error(\"Exception occurred: %s\", e)\n",
    "    logging.error(\"Invalid age value\")"
   ]
  },
  {
   "cell_type": "markdown",
   "id": "c3745443-143b-4ca3-8ace-a9b21ac8e6d9",
   "metadata": {},
   "source": [
    "Q5. What are Custom Exceptions in python? Why do we need Custom Exceptions? Explain with an example."
   ]
  },
  {
   "cell_type": "markdown",
   "id": "a5ed02ae-4a2c-4777-8ba6-57d09271a998",
   "metadata": {},
   "source": [
    "Custom exceptions in Python are user-defined exceptions that inherit from the base Exception class or any other built-in exception class. They allow you to define your own specific exception types to handle unique error conditions in your code. Custom exceptions provide more flexibility and clarity in handling exceptional situations and can make your code more readable and maintainable.\n",
    "\n",
    "We need custom exceptions when we encounter specific errors that are not covered by the built-in exceptions. By defining custom exceptions, we can create a clear separation between different types of errors and handle them in a more specific and meaningful way.\n",
    "\n",
    "Example:"
   ]
  },
  {
   "cell_type": "code",
   "execution_count": 8,
   "id": "d3774dc8-49c0-4366-8fbf-8ce3c3e2b2e6",
   "metadata": {},
   "outputs": [
    {
     "name": "stdin",
     "output_type": "stream",
     "text": [
      "Enter your age 390\n"
     ]
    }
   ],
   "source": [
    "logging.info('Question No. 5: ')\n",
    "\n",
    "class validateAge(Exception):\n",
    "    logging.info('Inside validateAge class, defined as a subclass of the built-in Exception class.')\n",
    "    def __init__(self, msg):\n",
    "        self.msg = msg\n",
    "        \n",
    "def age_validation(age):\n",
    "    logging.info('Inside age_validation function, takes age as input and performs the validation checks. ' + str(age))\n",
    "    if age < 0:\n",
    "        logging.info('Inside if block to check if the age is less than 0, we raise a validateAge exception '  + str(age))\n",
    "        raise validateAge('Age cannot be negative')\n",
    "    elif age > 200 : \n",
    "        logging.info('Inside elif block to check if the age is greater than 200, we raise a validateAge exception '  + str(age))\n",
    "        raise validateAge(\"Age entered is very high\" )\n",
    "    else :\n",
    "        logging.info('Inside else block to validate given the age as valid '+ str(age))\n",
    "        logging.info(f\"Entered age {age} is valid\" )\n",
    "        \n",
    "try:\n",
    "    logging.info('Inside try block to input age and validate it using age_validation function.')\n",
    "    age = int(input('Enter your age'))\n",
    "    age_validation(age)\n",
    "except validateAge as e:\n",
    "    logging.info('Inside except block, Exception of type validateAge is raised, the except block is executed.')\n",
    "    logging.info(e)"
   ]
  },
  {
   "cell_type": "markdown",
   "id": "ba76e4f6-3811-420b-babf-a991b930cbf0",
   "metadata": {},
   "source": [
    "Q6. Create a custom exception class. Use this class to handle an exception."
   ]
  },
  {
   "cell_type": "code",
   "execution_count": 9,
   "id": "e15c8495-478e-460f-8ade-198a22d18f6e",
   "metadata": {},
   "outputs": [],
   "source": [
    "logging.info('Question No. 6: ')\n",
    "\n",
    "logging.info('Custom exception class called InvalidInputError that is raised when the input number for calculating the square root is negative.')\n",
    "class InvalidInputError(Exception):\n",
    "    logging.info('Inside InvalidInputError class, subclass of the built-in Exception class.')\n",
    "    def __init__(self, msg):\n",
    "        self.msg = msg\n",
    "    \n",
    "def calculate_square_root(number):\n",
    "    logging.info('calculate_square_root function takes a number as input and attempts to calculate the square root: ' + str(number))\n",
    "    try:\n",
    "        logging.info('Inside try block trying to calculate the sq root of given no.')\n",
    "        if number < 0:\n",
    "            logging.info('we check if the number is less than 0. We raise an InvalidInputError by creating an instance of the custom exception class and passing an error message.')\n",
    "            raise InvalidInputError(\"Input number cannot be negative\")\n",
    "\n",
    "        result = number ** 0.5\n",
    "        logging.info(\"The square root of %s is: %s\", number, result)\n",
    "\n",
    "    except InvalidInputError as e:\n",
    "        logging.info('Inside the except block, we catch the InvalidInputError')\n",
    "        logging.error(\"InvalidInputError occurred: %s\", e)\n",
    "        logging.error(\"Invalid input detected: %s\", number)\n",
    "\n",
    "\n",
    "calculate_square_root(25)\n",
    "calculate_square_root(-16)\n"
   ]
  },
  {
   "cell_type": "code",
   "execution_count": null,
   "id": "e6ab9630-a146-467a-869c-093cf158286f",
   "metadata": {},
   "outputs": [],
   "source": []
  }
 ],
 "metadata": {
  "kernelspec": {
   "display_name": "Python 3 (ipykernel)",
   "language": "python",
   "name": "python3"
  },
  "language_info": {
   "codemirror_mode": {
    "name": "ipython",
    "version": 3
   },
   "file_extension": ".py",
   "mimetype": "text/x-python",
   "name": "python",
   "nbconvert_exporter": "python",
   "pygments_lexer": "ipython3",
   "version": "3.10.8"
  }
 },
 "nbformat": 4,
 "nbformat_minor": 5
}
