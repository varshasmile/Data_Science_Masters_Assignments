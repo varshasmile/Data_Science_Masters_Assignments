{
 "cells": [
  {
   "cell_type": "code",
   "execution_count": 1,
   "id": "3ba3ce9a-5f35-4ec4-a903-bef3e64a48b1",
   "metadata": {},
   "outputs": [],
   "source": [
    "import pandas as pd"
   ]
  },
  {
   "cell_type": "markdown",
   "id": "9fb20889-6f23-4b6b-bd37-33e1d5501596",
   "metadata": {},
   "source": [
    "Q1. Create a Pandas Series that contains the following data: 4, 8, 15, 16, 23, and 42. Then, print the series."
   ]
  },
  {
   "cell_type": "code",
   "execution_count": 2,
   "id": "7de76ef5-5682-4543-a4b7-97317d86bbd2",
   "metadata": {},
   "outputs": [
    {
     "name": "stdout",
     "output_type": "stream",
     "text": [
      "0     4\n",
      "1     8\n",
      "2    15\n",
      "3    16\n",
      "4    23\n",
      "5    42\n",
      "dtype: int64\n"
     ]
    }
   ],
   "source": [
    "pd_series = pd.Series([4, 8, 15, 16, 23, 42])\n",
    "print(pd_series)"
   ]
  },
  {
   "cell_type": "markdown",
   "id": "36c7b11a-8551-45c0-a213-e10eab4d3a68",
   "metadata": {},
   "source": [
    "Q2. Create a variable of list type containing 10 elements in it, and apply pandas.Series function on the\n",
    "variable print it."
   ]
  },
  {
   "cell_type": "code",
   "execution_count": 3,
   "id": "a10a3e3e-7bbf-43a0-ad80-b885ef28665d",
   "metadata": {},
   "outputs": [
    {
     "name": "stdout",
     "output_type": "stream",
     "text": [
      "0     10\n",
      "1     20\n",
      "2     30\n",
      "3     40\n",
      "4     50\n",
      "5     60\n",
      "6     70\n",
      "7     80\n",
      "8     90\n",
      "9    100\n",
      "dtype: int64\n"
     ]
    }
   ],
   "source": [
    "my_list = [10, 20, 30, 40, 50, 60, 70, 80, 90, 100]\n",
    "\n",
    "series = pd.Series(my_list)\n",
    "print(series)"
   ]
  },
  {
   "cell_type": "markdown",
   "id": "b57cfa64-139c-4f25-a5b3-15d34b1577f2",
   "metadata": {},
   "source": [
    "Q3. Create a Pandas DataFrame that contains the following data:\n",
    "\n",
    "Then, print the DataFrame."
   ]
  },
  {
   "cell_type": "code",
   "execution_count": 6,
   "id": "c4b1f643-bb6c-45a6-87b1-cf9cb30ed512",
   "metadata": {},
   "outputs": [
    {
     "name": "stdout",
     "output_type": "stream",
     "text": [
      "     Name  Age  Gender\n",
      "0   Alice   25  Female\n",
      "1     Bob   30    Male\n",
      "2  Claire   27  Female\n"
     ]
    }
   ],
   "source": [
    "my_dict = {\"Name\" : ['Alice', 'Bob', 'Claire'],\n",
    "          \"Age\" : [25, 30, 27],\n",
    "          \"Gender\" : ['Female', 'Male', 'Female']}\n",
    "\n",
    "my_df = pd.DataFrame(my_dict)\n",
    "print(my_df)"
   ]
  },
  {
   "cell_type": "markdown",
   "id": "e725fdce-a26c-43d9-8b9e-613d20b40d99",
   "metadata": {},
   "source": [
    "Q4. What is ‘DataFrame’ in pandas and how is it different from pandas.series? Explain with an example."
   ]
  },
  {
   "cell_type": "markdown",
   "id": "a0417f36-7625-461f-ae70-02a802fdcd71",
   "metadata": {},
   "source": [
    "In Pandas, a DataFrame is a two-dimensional labeled data structure that represents a tabular data object with rows and columns. It is one of the primary data structures in Pandas and provides a way to store and manipulate data in a flexible and efficient manner.\n",
    "\n",
    "A DataFrame can be thought of as a collection of Pandas Series, where each column in the DataFrame represents a Series. In other words, a DataFrame is a container that holds multiple Series objects, aligned by a common index.\n",
    "\n",
    "Pandas Series is a one-dimensional labeled array capable of holding any data type, whereas a DataFrame is a two-dimensional labeled data structure that can hold multiple Series objects, aligned by a common index. The DataFrame is used to represent tabular data with rows and columns, providing more flexibility for data manipulation and analysis compared to a single Series."
   ]
  },
  {
   "cell_type": "code",
   "execution_count": 9,
   "id": "65af7e6a-c147-47dc-9cf4-8f4a5ff04d3d",
   "metadata": {},
   "outputs": [
    {
     "name": "stdout",
     "output_type": "stream",
     "text": [
      "0    10\n",
      "1    20\n",
      "2    30\n",
      "3    40\n",
      "4    50\n",
      "dtype: int64\n"
     ]
    }
   ],
   "source": [
    "import pandas as pd\n",
    "\n",
    "# Creating a Pandas Series\n",
    "series = pd.Series([10, 20, 30, 40, 50])\n",
    "\n",
    "# Creating a DataFrame\n",
    "data = {'Name': ['John', 'Jane', 'Alice', 'Bob', 'Charlie'],\n",
    "        'Age': [25, 30, 28, 35, 32],\n",
    "        'City': ['New York', 'London', 'Paris', 'Tokyo', 'Sydney']}\n",
    "df = pd.DataFrame(data)\n",
    "\n",
    "# Printing the Series\n",
    "print(series)"
   ]
  },
  {
   "cell_type": "code",
   "execution_count": 10,
   "id": "105d4996-90f2-4b7b-83e0-6671adfad93f",
   "metadata": {},
   "outputs": [
    {
     "name": "stdout",
     "output_type": "stream",
     "text": [
      "      Name  Age      City\n",
      "0     John   25  New York\n",
      "1     Jane   30    London\n",
      "2    Alice   28     Paris\n",
      "3      Bob   35     Tokyo\n",
      "4  Charlie   32    Sydney\n"
     ]
    }
   ],
   "source": [
    "# Printing the DataFrame\n",
    "print(df)"
   ]
  },
  {
   "cell_type": "markdown",
   "id": "0ae55c94-faaa-4920-86b7-6db647737263",
   "metadata": {},
   "source": [
    "Q5. What are some common functions you can use to manipulate data in a Pandas DataFrame? Can\n",
    "you give an example of when you might use one of these functions?"
   ]
  },
  {
   "cell_type": "markdown",
   "id": "04e77cdb-6e9a-419b-b6a7-a28307dcb35f",
   "metadata": {},
   "source": [
    "i. head() and tail(): These functions allow you to view the first few rows (head()) or the last few rows (tail()) of a DataFrame. They are useful for quickly inspecting the structure and contents of a DataFrame.\n",
    "\n",
    "ii. info(): This function provides a summary of the DataFrame, including the number of rows, column names, data types, and memory usage. It is helpful for getting an overview of the data and checking for missing values or inconsistent data types.\n",
    "\n",
    "iii. describe(): This function generates descriptive statistics of the DataFrame, such as count, mean, standard deviation, minimum, maximum, and quartile values for numerical columns. It gives you insights into the distribution and summary statistics of the data.\n",
    "\n",
    "iv. shape: This attribute returns a tuple representing the dimensions of the DataFrame (number of rows, number of columns). It is useful for quickly checking the size of the DataFrame.\n",
    "\n",
    "v. loc[] and iloc[]: These indexing functions are used for selecting specific rows or columns in a DataFrame. loc[] is label-based indexing, while iloc[] is integer-based indexing. They allow you to extract or modify specific data points based on their row/column labels or positions.\n",
    "\n",
    "Example:"
   ]
  },
  {
   "cell_type": "code",
   "execution_count": 12,
   "id": "078d64ad-d7a7-48a6-8864-c4e80fd134ac",
   "metadata": {},
   "outputs": [],
   "source": [
    "df1 = pd.read_csv('services.csv')"
   ]
  },
  {
   "cell_type": "code",
   "execution_count": 14,
   "id": "001497ea-21a1-40bf-a02b-d888d5242929",
   "metadata": {},
   "outputs": [
    {
     "data": {
      "text/html": [
       "<div>\n",
       "<style scoped>\n",
       "    .dataframe tbody tr th:only-of-type {\n",
       "        vertical-align: middle;\n",
       "    }\n",
       "\n",
       "    .dataframe tbody tr th {\n",
       "        vertical-align: top;\n",
       "    }\n",
       "\n",
       "    .dataframe thead th {\n",
       "        text-align: right;\n",
       "    }\n",
       "</style>\n",
       "<table border=\"1\" class=\"dataframe\">\n",
       "  <thead>\n",
       "    <tr style=\"text-align: right;\">\n",
       "      <th></th>\n",
       "      <th>id</th>\n",
       "      <th>location_id</th>\n",
       "      <th>program_id</th>\n",
       "      <th>accepted_payments</th>\n",
       "      <th>alternate_name</th>\n",
       "      <th>application_process</th>\n",
       "      <th>audience</th>\n",
       "      <th>description</th>\n",
       "      <th>eligibility</th>\n",
       "      <th>email</th>\n",
       "      <th>...</th>\n",
       "      <th>interpretation_services</th>\n",
       "      <th>keywords</th>\n",
       "      <th>languages</th>\n",
       "      <th>name</th>\n",
       "      <th>required_documents</th>\n",
       "      <th>service_areas</th>\n",
       "      <th>status</th>\n",
       "      <th>wait_time</th>\n",
       "      <th>website</th>\n",
       "      <th>taxonomy_ids</th>\n",
       "    </tr>\n",
       "  </thead>\n",
       "  <tbody>\n",
       "    <tr>\n",
       "      <th>0</th>\n",
       "      <td>1</td>\n",
       "      <td>1</td>\n",
       "      <td>NaN</td>\n",
       "      <td>NaN</td>\n",
       "      <td>NaN</td>\n",
       "      <td>Walk in or apply by phone.</td>\n",
       "      <td>Older adults age 55 or over, ethnic minorities...</td>\n",
       "      <td>A walk-in center for older adults that provide...</td>\n",
       "      <td>Age 55 or over for most programs, age 60 or ov...</td>\n",
       "      <td>NaN</td>\n",
       "      <td>...</td>\n",
       "      <td>NaN</td>\n",
       "      <td>ADULT PROTECTION AND CARE SERVICES, Meal Sites...</td>\n",
       "      <td>NaN</td>\n",
       "      <td>Fair Oaks Adult Activity Center</td>\n",
       "      <td>NaN</td>\n",
       "      <td>Colma</td>\n",
       "      <td>active</td>\n",
       "      <td>No wait.</td>\n",
       "      <td>NaN</td>\n",
       "      <td>NaN</td>\n",
       "    </tr>\n",
       "    <tr>\n",
       "      <th>1</th>\n",
       "      <td>2</td>\n",
       "      <td>2</td>\n",
       "      <td>NaN</td>\n",
       "      <td>NaN</td>\n",
       "      <td>NaN</td>\n",
       "      <td>Apply by phone for an appointment.</td>\n",
       "      <td>Residents of San Mateo County age 55 or over</td>\n",
       "      <td>Provides training and job placement to eligibl...</td>\n",
       "      <td>Age 55 or over, county resident and willing an...</td>\n",
       "      <td>NaN</td>\n",
       "      <td>...</td>\n",
       "      <td>NaN</td>\n",
       "      <td>EMPLOYMENT/TRAINING SERVICES, Job Development,...</td>\n",
       "      <td>NaN</td>\n",
       "      <td>Second Career Employment Program</td>\n",
       "      <td>NaN</td>\n",
       "      <td>San Mateo County</td>\n",
       "      <td>active</td>\n",
       "      <td>Varies.</td>\n",
       "      <td>NaN</td>\n",
       "      <td>NaN</td>\n",
       "    </tr>\n",
       "    <tr>\n",
       "      <th>2</th>\n",
       "      <td>3</td>\n",
       "      <td>3</td>\n",
       "      <td>NaN</td>\n",
       "      <td>NaN</td>\n",
       "      <td>NaN</td>\n",
       "      <td>Phone for information (403-4300 Ext. 4322).</td>\n",
       "      <td>Older adults age 55 or over who can benefit fr...</td>\n",
       "      <td>Offers supportive counseling services to San M...</td>\n",
       "      <td>Resident of San Mateo County age 55 or over</td>\n",
       "      <td>NaN</td>\n",
       "      <td>...</td>\n",
       "      <td>NaN</td>\n",
       "      <td>Geriatric Counseling, Older Adults, Gay, Lesbi...</td>\n",
       "      <td>NaN</td>\n",
       "      <td>Senior Peer Counseling</td>\n",
       "      <td>NaN</td>\n",
       "      <td>San Mateo County</td>\n",
       "      <td>active</td>\n",
       "      <td>Varies.</td>\n",
       "      <td>NaN</td>\n",
       "      <td>NaN</td>\n",
       "    </tr>\n",
       "  </tbody>\n",
       "</table>\n",
       "<p>3 rows × 22 columns</p>\n",
       "</div>"
      ],
      "text/plain": [
       "   id  location_id  program_id accepted_payments alternate_name  \\\n",
       "0   1            1         NaN               NaN            NaN   \n",
       "1   2            2         NaN               NaN            NaN   \n",
       "2   3            3         NaN               NaN            NaN   \n",
       "\n",
       "                           application_process  \\\n",
       "0                   Walk in or apply by phone.   \n",
       "1           Apply by phone for an appointment.   \n",
       "2  Phone for information (403-4300 Ext. 4322).   \n",
       "\n",
       "                                            audience  \\\n",
       "0  Older adults age 55 or over, ethnic minorities...   \n",
       "1       Residents of San Mateo County age 55 or over   \n",
       "2  Older adults age 55 or over who can benefit fr...   \n",
       "\n",
       "                                         description  \\\n",
       "0  A walk-in center for older adults that provide...   \n",
       "1  Provides training and job placement to eligibl...   \n",
       "2  Offers supportive counseling services to San M...   \n",
       "\n",
       "                                         eligibility email  ...  \\\n",
       "0  Age 55 or over for most programs, age 60 or ov...   NaN  ...   \n",
       "1  Age 55 or over, county resident and willing an...   NaN  ...   \n",
       "2        Resident of San Mateo County age 55 or over   NaN  ...   \n",
       "\n",
       "  interpretation_services                                           keywords  \\\n",
       "0                     NaN  ADULT PROTECTION AND CARE SERVICES, Meal Sites...   \n",
       "1                     NaN  EMPLOYMENT/TRAINING SERVICES, Job Development,...   \n",
       "2                     NaN  Geriatric Counseling, Older Adults, Gay, Lesbi...   \n",
       "\n",
       "  languages                              name required_documents  \\\n",
       "0       NaN   Fair Oaks Adult Activity Center                NaN   \n",
       "1       NaN  Second Career Employment Program                NaN   \n",
       "2       NaN            Senior Peer Counseling                NaN   \n",
       "\n",
       "      service_areas  status wait_time website taxonomy_ids  \n",
       "0             Colma  active  No wait.     NaN          NaN  \n",
       "1  San Mateo County  active   Varies.     NaN          NaN  \n",
       "2  San Mateo County  active   Varies.     NaN          NaN  \n",
       "\n",
       "[3 rows x 22 columns]"
      ]
     },
     "execution_count": 14,
     "metadata": {},
     "output_type": "execute_result"
    }
   ],
   "source": [
    "df1.head(3)"
   ]
  },
  {
   "cell_type": "code",
   "execution_count": 16,
   "id": "5a90ca9d-d80a-4546-9fb2-8fec054b62a5",
   "metadata": {},
   "outputs": [
    {
     "data": {
      "text/html": [
       "<div>\n",
       "<style scoped>\n",
       "    .dataframe tbody tr th:only-of-type {\n",
       "        vertical-align: middle;\n",
       "    }\n",
       "\n",
       "    .dataframe tbody tr th {\n",
       "        vertical-align: top;\n",
       "    }\n",
       "\n",
       "    .dataframe thead th {\n",
       "        text-align: right;\n",
       "    }\n",
       "</style>\n",
       "<table border=\"1\" class=\"dataframe\">\n",
       "  <thead>\n",
       "    <tr style=\"text-align: right;\">\n",
       "      <th></th>\n",
       "      <th>id</th>\n",
       "      <th>location_id</th>\n",
       "      <th>program_id</th>\n",
       "      <th>accepted_payments</th>\n",
       "      <th>alternate_name</th>\n",
       "      <th>application_process</th>\n",
       "      <th>audience</th>\n",
       "      <th>description</th>\n",
       "      <th>eligibility</th>\n",
       "      <th>email</th>\n",
       "      <th>...</th>\n",
       "      <th>interpretation_services</th>\n",
       "      <th>keywords</th>\n",
       "      <th>languages</th>\n",
       "      <th>name</th>\n",
       "      <th>required_documents</th>\n",
       "      <th>service_areas</th>\n",
       "      <th>status</th>\n",
       "      <th>wait_time</th>\n",
       "      <th>website</th>\n",
       "      <th>taxonomy_ids</th>\n",
       "    </tr>\n",
       "  </thead>\n",
       "  <tbody>\n",
       "    <tr>\n",
       "      <th>21</th>\n",
       "      <td>22</td>\n",
       "      <td>22</td>\n",
       "      <td>NaN</td>\n",
       "      <td>Cash, Check, Credit Card</td>\n",
       "      <td>Fotos para pasaportes</td>\n",
       "      <td>Walk in or apply by phone or mail</td>\n",
       "      <td>Profit and nonprofit businesses, the public, m...</td>\n",
       "      <td>[NOTE THIS IS NOT A REAL SERVICE--THIS IS FOR ...</td>\n",
       "      <td>None</td>\n",
       "      <td>passports@example.org</td>\n",
       "      <td>...</td>\n",
       "      <td>We offer 3-way interpretation services over th...</td>\n",
       "      <td>Salud, Medicina</td>\n",
       "      <td>Spanish</td>\n",
       "      <td>Passport Photos</td>\n",
       "      <td>Government-issued picture identification</td>\n",
       "      <td>Alameda County, San Mateo County</td>\n",
       "      <td>active</td>\n",
       "      <td>No wait to 2 weeks.</td>\n",
       "      <td>http://www.example.com</td>\n",
       "      <td>105, 108, 108-05, 108-05-01, 111, 111-05</td>\n",
       "    </tr>\n",
       "    <tr>\n",
       "      <th>22</th>\n",
       "      <td>23</td>\n",
       "      <td>22</td>\n",
       "      <td>NaN</td>\n",
       "      <td>NaN</td>\n",
       "      <td>NaN</td>\n",
       "      <td>Walk in or apply by phone or mail</td>\n",
       "      <td>Second service and nonprofit businesses, the p...</td>\n",
       "      <td>[NOTE THIS IS NOT A REAL ORGANIZATION--THIS IS...</td>\n",
       "      <td>None</td>\n",
       "      <td>NaN</td>\n",
       "      <td>...</td>\n",
       "      <td>NaN</td>\n",
       "      <td>Ruby on Rails/Postgres/Redis, testing, wic</td>\n",
       "      <td>NaN</td>\n",
       "      <td>Example Service Name</td>\n",
       "      <td>NaN</td>\n",
       "      <td>San Mateo County, Alameda County</td>\n",
       "      <td>active</td>\n",
       "      <td>No wait to 2 weeks</td>\n",
       "      <td>http://www.example.com</td>\n",
       "      <td>NaN</td>\n",
       "    </tr>\n",
       "  </tbody>\n",
       "</table>\n",
       "<p>2 rows × 22 columns</p>\n",
       "</div>"
      ],
      "text/plain": [
       "    id  location_id  program_id         accepted_payments  \\\n",
       "21  22           22         NaN  Cash, Check, Credit Card   \n",
       "22  23           22         NaN                       NaN   \n",
       "\n",
       "           alternate_name                application_process  \\\n",
       "21  Fotos para pasaportes  Walk in or apply by phone or mail   \n",
       "22                    NaN  Walk in or apply by phone or mail   \n",
       "\n",
       "                                             audience  \\\n",
       "21  Profit and nonprofit businesses, the public, m...   \n",
       "22  Second service and nonprofit businesses, the p...   \n",
       "\n",
       "                                          description eligibility  \\\n",
       "21  [NOTE THIS IS NOT A REAL SERVICE--THIS IS FOR ...        None   \n",
       "22  [NOTE THIS IS NOT A REAL ORGANIZATION--THIS IS...        None   \n",
       "\n",
       "                    email  ...  \\\n",
       "21  passports@example.org  ...   \n",
       "22                    NaN  ...   \n",
       "\n",
       "                              interpretation_services  \\\n",
       "21  We offer 3-way interpretation services over th...   \n",
       "22                                                NaN   \n",
       "\n",
       "                                      keywords languages  \\\n",
       "21                             Salud, Medicina   Spanish   \n",
       "22  Ruby on Rails/Postgres/Redis, testing, wic       NaN   \n",
       "\n",
       "                    name                        required_documents  \\\n",
       "21       Passport Photos  Government-issued picture identification   \n",
       "22  Example Service Name                                       NaN   \n",
       "\n",
       "                       service_areas  status            wait_time  \\\n",
       "21  Alameda County, San Mateo County  active  No wait to 2 weeks.   \n",
       "22  San Mateo County, Alameda County  active   No wait to 2 weeks   \n",
       "\n",
       "                   website                              taxonomy_ids  \n",
       "21  http://www.example.com  105, 108, 108-05, 108-05-01, 111, 111-05  \n",
       "22  http://www.example.com                                       NaN  \n",
       "\n",
       "[2 rows x 22 columns]"
      ]
     },
     "execution_count": 16,
     "metadata": {},
     "output_type": "execute_result"
    }
   ],
   "source": [
    "df1.tail(2)"
   ]
  },
  {
   "cell_type": "code",
   "execution_count": 17,
   "id": "902eab71-e55b-44d8-88a0-80dd1d5bc7fb",
   "metadata": {},
   "outputs": [
    {
     "name": "stdout",
     "output_type": "stream",
     "text": [
      "<class 'pandas.core.frame.DataFrame'>\n",
      "RangeIndex: 23 entries, 0 to 22\n",
      "Data columns (total 22 columns):\n",
      " #   Column                   Non-Null Count  Dtype  \n",
      "---  ------                   --------------  -----  \n",
      " 0   id                       23 non-null     int64  \n",
      " 1   location_id              23 non-null     int64  \n",
      " 2   program_id               0 non-null      float64\n",
      " 3   accepted_payments        1 non-null      object \n",
      " 4   alternate_name           1 non-null      object \n",
      " 5   application_process      23 non-null     object \n",
      " 6   audience                 14 non-null     object \n",
      " 7   description              23 non-null     object \n",
      " 8   eligibility              21 non-null     object \n",
      " 9   email                    1 non-null      object \n",
      " 10  fees                     21 non-null     object \n",
      " 11  funding_sources          21 non-null     object \n",
      " 12  interpretation_services  1 non-null      object \n",
      " 13  keywords                 21 non-null     object \n",
      " 14  languages                1 non-null      object \n",
      " 15  name                     23 non-null     object \n",
      " 16  required_documents       1 non-null      object \n",
      " 17  service_areas            21 non-null     object \n",
      " 18  status                   23 non-null     object \n",
      " 19  wait_time                19 non-null     object \n",
      " 20  website                  2 non-null      object \n",
      " 21  taxonomy_ids             1 non-null      object \n",
      "dtypes: float64(1), int64(2), object(19)\n",
      "memory usage: 4.1+ KB\n"
     ]
    }
   ],
   "source": [
    "df1.info()"
   ]
  },
  {
   "cell_type": "code",
   "execution_count": 19,
   "id": "ccf13026-a2ce-4dce-848c-901b4c2a824d",
   "metadata": {},
   "outputs": [
    {
     "data": {
      "text/html": [
       "<div>\n",
       "<style scoped>\n",
       "    .dataframe tbody tr th:only-of-type {\n",
       "        vertical-align: middle;\n",
       "    }\n",
       "\n",
       "    .dataframe tbody tr th {\n",
       "        vertical-align: top;\n",
       "    }\n",
       "\n",
       "    .dataframe thead th {\n",
       "        text-align: right;\n",
       "    }\n",
       "</style>\n",
       "<table border=\"1\" class=\"dataframe\">\n",
       "  <thead>\n",
       "    <tr style=\"text-align: right;\">\n",
       "      <th></th>\n",
       "      <th>id</th>\n",
       "      <th>location_id</th>\n",
       "      <th>program_id</th>\n",
       "    </tr>\n",
       "  </thead>\n",
       "  <tbody>\n",
       "    <tr>\n",
       "      <th>count</th>\n",
       "      <td>23.00000</td>\n",
       "      <td>23.000000</td>\n",
       "      <td>0.0</td>\n",
       "    </tr>\n",
       "    <tr>\n",
       "      <th>mean</th>\n",
       "      <td>12.00000</td>\n",
       "      <td>11.956522</td>\n",
       "      <td>NaN</td>\n",
       "    </tr>\n",
       "    <tr>\n",
       "      <th>std</th>\n",
       "      <td>6.78233</td>\n",
       "      <td>6.711444</td>\n",
       "      <td>NaN</td>\n",
       "    </tr>\n",
       "    <tr>\n",
       "      <th>min</th>\n",
       "      <td>1.00000</td>\n",
       "      <td>1.000000</td>\n",
       "      <td>NaN</td>\n",
       "    </tr>\n",
       "    <tr>\n",
       "      <th>25%</th>\n",
       "      <td>6.50000</td>\n",
       "      <td>6.500000</td>\n",
       "      <td>NaN</td>\n",
       "    </tr>\n",
       "    <tr>\n",
       "      <th>50%</th>\n",
       "      <td>12.00000</td>\n",
       "      <td>12.000000</td>\n",
       "      <td>NaN</td>\n",
       "    </tr>\n",
       "    <tr>\n",
       "      <th>75%</th>\n",
       "      <td>17.50000</td>\n",
       "      <td>17.500000</td>\n",
       "      <td>NaN</td>\n",
       "    </tr>\n",
       "    <tr>\n",
       "      <th>max</th>\n",
       "      <td>23.00000</td>\n",
       "      <td>22.000000</td>\n",
       "      <td>NaN</td>\n",
       "    </tr>\n",
       "  </tbody>\n",
       "</table>\n",
       "</div>"
      ],
      "text/plain": [
       "             id  location_id  program_id\n",
       "count  23.00000    23.000000         0.0\n",
       "mean   12.00000    11.956522         NaN\n",
       "std     6.78233     6.711444         NaN\n",
       "min     1.00000     1.000000         NaN\n",
       "25%     6.50000     6.500000         NaN\n",
       "50%    12.00000    12.000000         NaN\n",
       "75%    17.50000    17.500000         NaN\n",
       "max    23.00000    22.000000         NaN"
      ]
     },
     "execution_count": 19,
     "metadata": {},
     "output_type": "execute_result"
    }
   ],
   "source": [
    "df1.describe()"
   ]
  },
  {
   "cell_type": "code",
   "execution_count": 21,
   "id": "0a87ff24-4243-4157-85c7-b11c4158ca63",
   "metadata": {},
   "outputs": [
    {
     "data": {
      "text/plain": [
       "(23, 22)"
      ]
     },
     "execution_count": 21,
     "metadata": {},
     "output_type": "execute_result"
    }
   ],
   "source": [
    "df1.shape"
   ]
  },
  {
   "cell_type": "markdown",
   "id": "86ef3513-59b0-4b9b-b1ec-7a066b6e5b73",
   "metadata": {},
   "source": [
    "Q6. Which of the following is mutable in nature Series, DataFrame, Panel?"
   ]
  },
  {
   "cell_type": "markdown",
   "id": "95f30437-e1df-45f6-a578-339bc5d5b247",
   "metadata": {},
   "source": [
    "DataFrame is mutable in nature. Series is also mutable but it is size immutable."
   ]
  },
  {
   "cell_type": "markdown",
   "id": "f495a1af-a5da-4aa7-9aa6-9ba42213c95e",
   "metadata": {},
   "source": [
    "Q7. Create a DataFrame using multiple Series. Explain with an example."
   ]
  },
  {
   "cell_type": "code",
   "execution_count": 23,
   "id": "4ccd3679-3588-4c97-901d-87ccf98c28dc",
   "metadata": {},
   "outputs": [
    {
     "name": "stdout",
     "output_type": "stream",
     "text": [
      "    Name  Age      City\n",
      "0   John   25  New York\n",
      "1   Jane   30    London\n",
      "2  Alice   28     Paris\n",
      "3    Bob   35     Tokyo\n"
     ]
    }
   ],
   "source": [
    "import pandas as pd\n",
    "\n",
    "# Creating multiple Series\n",
    "name_series = pd.Series(['John', 'Jane', 'Alice', 'Bob'])\n",
    "age_series = pd.Series([25, 30, 28, 35])\n",
    "city_series = pd.Series(['New York', 'London', 'Paris', 'Tokyo'])\n",
    "\n",
    "# Creating a DataFrame using the Series\n",
    "data = {'Name': name_series, 'Age': age_series, 'City': city_series}\n",
    "df = pd.DataFrame(data)\n",
    "\n",
    "# Printing the DataFrame\n",
    "print(df)"
   ]
  },
  {
   "cell_type": "code",
   "execution_count": null,
   "id": "3b69b8a7-2252-46ea-8a34-1c1ebc05e4b7",
   "metadata": {},
   "outputs": [],
   "source": []
  }
 ],
 "metadata": {
  "kernelspec": {
   "display_name": "Python 3 (ipykernel)",
   "language": "python",
   "name": "python3"
  },
  "language_info": {
   "codemirror_mode": {
    "name": "ipython",
    "version": 3
   },
   "file_extension": ".py",
   "mimetype": "text/x-python",
   "name": "python",
   "nbconvert_exporter": "python",
   "pygments_lexer": "ipython3",
   "version": "3.10.8"
  }
 },
 "nbformat": 4,
 "nbformat_minor": 5
}
