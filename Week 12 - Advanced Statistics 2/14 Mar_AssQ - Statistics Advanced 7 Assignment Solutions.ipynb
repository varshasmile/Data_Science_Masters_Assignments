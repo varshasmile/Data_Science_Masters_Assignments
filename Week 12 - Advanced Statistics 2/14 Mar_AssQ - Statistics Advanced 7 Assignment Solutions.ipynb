{
 "cells": [
  {
   "cell_type": "markdown",
   "id": "13b43a98-e44c-477e-9df4-503e738f57f2",
   "metadata": {},
   "source": [
    "Q1. Write a Python function that takes in two arrays of data and calculates the F-value for a variance ratio\n",
    "test. The function should return the F-value and the corresponding p-value for the test."
   ]
  },
  {
   "cell_type": "code",
   "execution_count": 1,
   "id": "23f75507-fba4-41cd-bdd8-d100828adb23",
   "metadata": {},
   "outputs": [
    {
     "name": "stdout",
     "output_type": "stream",
     "text": [
      "F-value: 1.492537313432836\n",
      "p-value: 0.3537254080171972\n"
     ]
    }
   ],
   "source": [
    "import numpy as np\n",
    "from scipy.stats import f\n",
    "\n",
    "def variance_ratio_test(data1, data2):\n",
    "    # Convert the input data to NumPy arrays\n",
    "    data1 = np.array(data1)\n",
    "    data2 = np.array(data2)\n",
    "    \n",
    "    # Calculate the variance of each dataset\n",
    "    var1 = np.var(data1, ddof=1)\n",
    "    var2 = np.var(data2, ddof=1)\n",
    "    \n",
    "     # Ensure that var1 >= var2 for the F-test\n",
    "    if var1 < var2:\n",
    "        var1, var2 = var2, var1\n",
    "        data1, data2 = data2, data1\n",
    "        \n",
    "    # Calculate the F-value\n",
    "    f_value = var1 / var2\n",
    "    \n",
    "    # Calculate the degrees of freedom for the F-distribution\n",
    "    df1 = len(data1) - 1\n",
    "    df2 = len(data2) - 1\n",
    "    \n",
    "    # Calculate the p-value using the F-distribution\n",
    "    p_value = 1 - f.cdf(f_value, df1, df2)\n",
    "    \n",
    "    return f_value, p_value\n",
    "\n",
    "data1 = [10, 12, 15, 8, 11]\n",
    "data2 = [14, 16, 12, 18, 20]\n",
    "\n",
    "f_value, p_value = variance_ratio_test(data1, data2)\n",
    "print(\"F-value:\", f_value)\n",
    "print(\"p-value:\", p_value)"
   ]
  },
  {
   "cell_type": "markdown",
   "id": "847f1f81-8bd1-4a00-85ac-2431d2ffa799",
   "metadata": {},
   "source": [
    "Q2. Given a significance level of 0.05 and the degrees of freedom for the numerator and denominator of an\n",
    "F-distribution, write a Python function that returns the critical F-value for a two-tailed test."
   ]
  },
  {
   "cell_type": "code",
   "execution_count": 2,
   "id": "cccd8fdb-c3b3-479e-86a5-7e3b227488ce",
   "metadata": {},
   "outputs": [
    {
     "name": "stdout",
     "output_type": "stream",
     "text": [
      "Critical F-value: 4.825621493405406\n"
     ]
    }
   ],
   "source": [
    "from scipy.stats import f\n",
    "\n",
    "def critical_f_value(alpha, df_num, df_den):\n",
    "    critical_f_val = f.ppf(1 - alpha / 2, df_num, df_den)\n",
    "    \n",
    "    return critical_f_val\n",
    "\n",
    "alpha = 0.05\n",
    "df_num = 3\n",
    "df_den = 10\n",
    "\n",
    "critical_f = critical_f_value(alpha, df_num, df_den)\n",
    "print(\"Critical F-value:\", critical_f)"
   ]
  },
  {
   "cell_type": "markdown",
   "id": "b4ace7c4-06db-4549-b4d2-88e518ae8f1e",
   "metadata": {},
   "source": [
    "Q3. Write a Python program that generates random samples from two normal distributions with known variances and uses an F-test to determine if the variances are equal. The program should output the F-value, degrees of freedom, and p-value for the test."
   ]
  },
  {
   "cell_type": "code",
   "execution_count": 3,
   "id": "65f0ce9f-e930-49e6-ba1b-796a4d8e0374",
   "metadata": {},
   "outputs": [
    {
     "name": "stdout",
     "output_type": "stream",
     "text": [
      "F-value: 42.0615826733983\n",
      "Degrees of Freedom (numerator): 99\n",
      "Degrees of Freedom (denominator): 99\n",
      "p-value: 6.910376057829185e-10\n"
     ]
    }
   ],
   "source": [
    "import numpy as np\n",
    "from scipy.stats import f_oneway\n",
    "\n",
    "def f_test_for_variances(data1, data2):\n",
    "    # Convert the input data to NumPy arrays\n",
    "    data1 = np.array(data1)\n",
    "    data2 = np.array(data2)\n",
    "\n",
    "    # Calculate the variances of each dataset\n",
    "    var1 = np.var(data1, ddof=1)\n",
    "    var2 = np.var(data2, ddof=1)\n",
    "    \n",
    "     # Ensure that var1 >= var2 for the F-test\n",
    "    if var1 < var2:\n",
    "        var1, var2 = var2, var1\n",
    "        data1, data2 = data2, data1\n",
    "    \n",
    "    # Calculate the F-value and p-value using the F-test\n",
    "    f_value, p_value = f_oneway(data1, data2)\n",
    "    \n",
    "    # Calculate the degrees of freedom for the F-distribution\n",
    "    df_num = len(data1) - 1\n",
    "    df_den = len(data2) - 1\n",
    "    \n",
    "    return f_value, df_num, df_den, p_value\n",
    "\n",
    "# Example usage\n",
    "data1 = np.random.normal(loc=10, scale=2, size=100)\n",
    "data2 = np.random.normal(loc=12, scale=3, size=100)\n",
    "\n",
    "f_value, df_num, df_den, p_value = f_test_for_variances(data1, data2)\n",
    "print(\"F-value:\", f_value)\n",
    "print(\"Degrees of Freedom (numerator):\", df_num)\n",
    "print(\"Degrees of Freedom (denominator):\", df_den)\n",
    "print(\"p-value:\", p_value)"
   ]
  },
  {
   "cell_type": "markdown",
   "id": "aa046d4d-9c36-49c6-b635-e3a23116620e",
   "metadata": {},
   "source": [
    "Q4.The variances of two populations are known to be 10 and 15. A sample of 12 observations is taken from\n",
    "each population. Conduct an F-test at the 5% significance level to determine if the variances are\n",
    "significantly different."
   ]
  },
  {
   "cell_type": "code",
   "execution_count": 5,
   "id": "15ccd3cf-7767-4888-aa0f-3dee55a032b6",
   "metadata": {},
   "outputs": [
    {
     "name": "stdout",
     "output_type": "stream",
     "text": [
      "F-value: 1.5\n",
      "Degrees of Freedom (numerator): 11\n",
      "Degrees of Freedom (denominator): 11\n",
      "p-value: 0.25619489936789974\n",
      "Variances are significantly different: False\n"
     ]
    }
   ],
   "source": [
    "from scipy.stats import f\n",
    "\n",
    "def f_test_for_variances(known_variance1, known_variance2, sample_size1, sample_size2, alpha=0.05):\n",
    "    # Calculate the larger and smaller variances\n",
    "    larger_var = max(known_variance1, known_variance2)\n",
    "    smaller_var = min(known_variance1, known_variance2)\n",
    "    \n",
    "    # Calculate the F-value\n",
    "    f_value = larger_var / smaller_var\n",
    "    \n",
    "    # Calculate the degrees of freedom for the F-distribution\n",
    "    df_num = sample_size2 - 1\n",
    "    df_den = sample_size1 - 1\n",
    "\n",
    "    # Calculate the p-value using the F-distribution\n",
    "    p_value = 1 - f.cdf(f_value, df_num, df_den)\n",
    "\n",
    "    # Compare the p-value to the significance level\n",
    "    is_different = p_value < alpha\n",
    "\n",
    "    return f_value, df_num, df_den, p_value, is_different\n",
    "\n",
    "# Example usage\n",
    "known_variance1 = 10\n",
    "known_variance2 = 15\n",
    "sample_size1 = 12\n",
    "sample_size2 = 12\n",
    "alpha = 0.05\n",
    "\n",
    "f_value, df_num, df_den, p_value, is_different = f_test_for_variances(known_variance1, known_variance2, sample_size1, sample_size2, alpha)\n",
    "\n",
    "print(\"F-value:\", f_value)\n",
    "print(\"Degrees of Freedom (numerator):\", df_num)\n",
    "print(\"Degrees of Freedom (denominator):\", df_den)\n",
    "print(\"p-value:\", p_value)\n",
    "print(\"Variances are significantly different:\", is_different)"
   ]
  },
  {
   "cell_type": "markdown",
   "id": "99b1cf42-cdb3-40a0-bc4a-aa212bef60e1",
   "metadata": {},
   "source": [
    "Q5. A manufacturer claims that the variance of the diameter of a certain product is 0.005. A sample of 25\n",
    "products is taken, and the sample variance is found to be 0.006. Conduct an F-test at the 1% significance\n",
    "level to determine if the claim is justified."
   ]
  },
  {
   "cell_type": "code",
   "execution_count": 2,
   "id": "f00026b0-c3e1-465a-8a39-ae1f477d4d99",
   "metadata": {},
   "outputs": [
    {
     "name": "stdout",
     "output_type": "stream",
     "text": [
      "F-value: 1.2\n",
      "Degrees of Freedom (numerator): 24\n",
      "Degrees of Freedom (denominator): 24\n",
      "p-value: 0.6587309365634488\n",
      "Claim is justified: True\n"
     ]
    }
   ],
   "source": [
    "from scipy.stats import f\n",
    "\n",
    "def f_test_for_variance(sample_variance, claimed_variance, sample_size, alpha=0.01):\n",
    "    # Calculate the F-value\n",
    "    f_value = sample_variance / claimed_variance\n",
    "    \n",
    "    # Calculate the degrees of freedom for the F-distribution\n",
    "    df_num = sample_size - 1\n",
    "    df_den = sample_size - 1\n",
    "    \n",
    "    # Calculate the p-value using the F-distribution\n",
    "    p_value = 2 * (1 - f.cdf(f_value, df_num, df_den))\n",
    "    \n",
    "    # Compare the p-value to the significance level\n",
    "    is_claim_justified = p_value >= alpha\n",
    "    \n",
    "    return f_value, df_num, df_den, p_value, is_claim_justified\n",
    "\n",
    "# Given data\n",
    "sample_variance = 0.006\n",
    "claimed_variance = 0.005\n",
    "sample_size = 25\n",
    "alpha = 0.01\n",
    "\n",
    "f_value, df_num, df_den, p_value, is_claim_justified = f_test_for_variance(sample_variance, claimed_variance, sample_size, alpha)\n",
    "\n",
    "print(\"F-value:\", f_value)\n",
    "print(\"Degrees of Freedom (numerator):\", df_num)\n",
    "print(\"Degrees of Freedom (denominator):\", df_den)\n",
    "print(\"p-value:\", p_value)\n",
    "print(\"Claim is justified:\", is_claim_justified)"
   ]
  },
  {
   "cell_type": "markdown",
   "id": "7bd65d67-8dfe-433b-8d74-84d854784fc7",
   "metadata": {},
   "source": [
    "Q6. Write a Python function that takes in the degrees of freedom for the numerator and denominator of an\n",
    "F-distribution and calculates the mean and variance of the distribution. The function should return the\n",
    "mean and variance as a tuple."
   ]
  },
  {
   "attachments": {
    "1a694ec8-c09f-48e6-b1d7-72ab96021094.png": {
     "image/png": "[encoded data removed]"
    },
    "e94f64d0-7201-4b88-a62b-55692903d33c.png": {
     "image/png": "[encoded data removed]"
    }
   },
   "cell_type": "markdown",
   "id": "c83f3a96-3fcf-4073-aa13-1e019e9666fc",
   "metadata": {},
   "source": [
    "![mean .png](attachment:1a694ec8-c09f-48e6-b1d7-72ab96021094.png) ![variance.png](attachment:e94f64d0-7201-4b88-a62b-55692903d33c.png)"
   ]
  },
  {
   "cell_type": "code",
   "execution_count": 4,
   "id": "4f1ba26d-bd66-4750-a95e-79902d189e57",
   "metadata": {},
   "outputs": [
    {
     "data": {
      "text/plain": [
       "(1.25, 1.3541666666666667)"
      ]
     },
     "execution_count": 4,
     "metadata": {},
     "output_type": "execute_result"
    }
   ],
   "source": [
    "def f_distribution_properties(df_num, df_den):\n",
    "    # Calculate the mean of the F-distribution\n",
    "    mean = df_den / (df_den - 2)\n",
    "\n",
    "    # Calculate the variance of the F-distribution\n",
    "    variance = (2 * (df_den ** 2) * (df_num + df_den - 2)) / (df_num * (df_den - 2) ** 2 * (df_den - 4))\n",
    "\n",
    "    return (mean, variance)\n",
    "\n",
    "# Example usage\n",
    "df_num = 5\n",
    "df_den = 10\n",
    "\n",
    "mean_variance = f_distribution_properties(df_num, df_den)\n",
    "mean_variance"
   ]
  },
  {
   "cell_type": "markdown",
   "id": "6ca1c3c2-5bfe-46e5-b096-3883b29a4ec9",
   "metadata": {},
   "source": [
    "Q7. A random sample of 10 measurements is taken from a normal population with unknown variance. The\n",
    "sample variance is found to be 25. Another random sample of 15 measurements is taken from another\n",
    "normal population with unknown variance, and the sample variance is found to be 20. Conduct an F-test\n",
    "at the 10% significance level to determine if the variances are significantly different."
   ]
  },
  {
   "cell_type": "code",
   "execution_count": 5,
   "id": "9aa5e5f3-f086-4f21-80e9-1f52ccf38652",
   "metadata": {},
   "outputs": [
    {
     "name": "stdout",
     "output_type": "stream",
     "text": [
      "p-value: 0.6832194382585954\n",
      "Variances are significantly different: False\n"
     ]
    }
   ],
   "source": [
    "from scipy.stats import f\n",
    "\n",
    "def f_test_for_variances(sample_variance1, sample_variance2, sample_size1, sample_size2, alpha=0.10):\n",
    "    # Calculate the larger and smaller sample variances\n",
    "    larger_variance = max(sample_variance1, sample_variance2)\n",
    "    smaller_variance = min(sample_variance1, sample_variance2)\n",
    "\n",
    "    # Calculate the F-value\n",
    "    f_value = larger_variance / smaller_variance\n",
    "    \n",
    "    # Calculate the degrees of freedom for the F-distribution\n",
    "    df_num = sample_size1 - 1\n",
    "    df_den = sample_size2 - 1\n",
    "\n",
    "    # Calculate the p-value using the F-distribution\n",
    "    p_value = 2 * (1 - f.cdf(f_value, df_num, df_den))\n",
    "    \n",
    "    # Compare the p-value to the significance level\n",
    "    is_different = p_value < alpha\n",
    "\n",
    "    return p_value, is_different\n",
    "\n",
    "# Given data\n",
    "sample_variance1 = 25\n",
    "sample_variance2 = 20\n",
    "sample_size1 = 10\n",
    "sample_size2 = 15\n",
    "alpha = 0.10\n",
    "\n",
    "p_value, is_different = f_test_for_variances(sample_variance1, sample_variance2, sample_size1, sample_size2, alpha)\n",
    "\n",
    "print(\"p-value:\", p_value)\n",
    "print(\"Variances are significantly different:\", is_different)"
   ]
  },
  {
   "cell_type": "markdown",
   "id": "34b38e54-05b4-43c6-9282-9cea3aaadc93",
   "metadata": {},
   "source": [
    "Q8. The following data represent the waiting times in minutes at two different restaurants on a Saturday\n",
    "night: Restaurant A: 24, 25, 28, 23, 22, 20, 27; Restaurant B: 31, 33, 35, 30, 32, 36. Conduct an F-test at the 5%\n",
    "significance level to determine if the variances are significantly different."
   ]
  },
  {
   "cell_type": "code",
   "execution_count": 11,
   "id": "fa42a840-5ffc-4010-be0e-01b2664acca1",
   "metadata": {},
   "outputs": [
    {
     "name": "stdout",
     "output_type": "stream",
     "text": [
      "p-value: 0.3374133569640825\n",
      "Variances are significantly different: False\n"
     ]
    }
   ],
   "source": [
    "import numpy as np\n",
    "from scipy.stats import f\n",
    "\n",
    "def f_test_for_variances(data1, data2, alpha):\n",
    "    data1 = np.array(data1)\n",
    "    data2 = np.array(data2)\n",
    "    \n",
    "    var1 = np.var(data1)\n",
    "    var2 = np.var(data2)\n",
    "    \n",
    "    if var1 < var2:\n",
    "        var1, var2 = var2, var1\n",
    "        data1, data2 = data2, data1\n",
    "    \n",
    "    f_value = var1 / var2\n",
    "    \n",
    "    df_num = len(data1) - 1\n",
    "    df_den = len(data2) - 1\n",
    "    \n",
    "    p_value = 1 - f.cdf(f_value, df_num, df_den)\n",
    "    \n",
    "    # Compare the p-value to the significance level\n",
    "    is_different = p_value < alpha\n",
    "\n",
    "    return p_value, is_different\n",
    "\n",
    "Restaurant_A = [24, 25, 28, 23, 22, 20, 27] \n",
    "Restaurant_B = [31, 33, 35, 30, 32, 36]\n",
    "alpha = 0.05\n",
    "\n",
    "p_value, is_different = f_test_for_variances(Restaurant_A, Restaurant_B, alpha)\n",
    "\n",
    "print(\"p-value:\", p_value)\n",
    "print(\"Variances are significantly different:\", is_different)"
   ]
  },
  {
   "cell_type": "markdown",
   "id": "d72fc94a-10a5-44f6-a94b-a13742d5b7ca",
   "metadata": {},
   "source": [
    "Q9. The following data represent the test scores of two groups of students: Group A: 80, 85, 90, 92, 87, 83;\n",
    "Group B: 75, 78, 82, 79, 81, 84. Conduct an F-test at the 1% significance level to determine if the variances\n",
    "are significantly different."
   ]
  },
  {
   "cell_type": "code",
   "execution_count": 12,
   "id": "bc72e029-fb65-41da-ab6d-434518b18f1b",
   "metadata": {},
   "outputs": [
    {
     "name": "stdout",
     "output_type": "stream",
     "text": [
      "p-value: 0.2415521774535344\n",
      "Variances are significantly different: False\n"
     ]
    }
   ],
   "source": [
    "import numpy as np\n",
    "from scipy.stats import f\n",
    "\n",
    "def f_test_for_variances(data1, data2, alpha):\n",
    "    data1 = np.array(data1)\n",
    "    data2 = np.array(data2)\n",
    "    \n",
    "    var1 = np.var(data1)\n",
    "    var2 = np.var(data2)\n",
    "    \n",
    "    if var1 < var2:\n",
    "        var1, var2 = var2, var1\n",
    "        data1, data2 = data2, data1\n",
    "    \n",
    "    f_value = var1 / var2\n",
    "    \n",
    "    df_num = len(data1) - 1\n",
    "    df_den = len(data2) - 1\n",
    "    \n",
    "    p_value = 1 - f.cdf(f_value, df_num, df_den)\n",
    "    \n",
    "    # Compare the p-value to the significance level\n",
    "    is_different = p_value < alpha\n",
    "\n",
    "    return p_value, is_different\n",
    "\n",
    "Group_A = [80, 85, 90, 92, 87, 83] \n",
    "Group_B = [75, 78, 82, 79, 81, 84]\n",
    "alpha = 0.01\n",
    "\n",
    "p_value, is_different = f_test_for_variances(Group_A, Group_B, alpha)\n",
    "\n",
    "print(\"p-value:\", p_value)\n",
    "print(\"Variances are significantly different:\", is_different)"
   ]
  },
  {
   "cell_type": "code",
   "execution_count": null,
   "id": "8cbe13ed-0f74-4f8c-aab2-ab0729d3f590",
   "metadata": {},
   "outputs": [],
   "source": []
  }
 ],
 "metadata": {
  "kernelspec": {
   "display_name": "Python 3 (ipykernel)",
   "language": "python",
   "name": "python3"
  },
  "language_info": {
   "codemirror_mode": {
    "name": "ipython",
    "version": 3
   },
   "file_extension": ".py",
   "mimetype": "text/x-python",
   "name": "python",
   "nbconvert_exporter": "python",
   "pygments_lexer": "ipython3",
   "version": "3.10.8"
  }
 },
 "nbformat": 4,
 "nbformat_minor": 5
}
