{
 "cells": [
  {
   "cell_type": "markdown",
   "id": "92b0e4da-b6e9-413d-bbf2-a726c6c278ce",
   "metadata": {},
   "source": [
    "Q1: What is the difference between a t-test and a z-test? Provide an example scenario where you would\n",
    "use each type of test."
   ]
  },
  {
   "cell_type": "markdown",
   "id": "570a023a-628b-4498-b090-1a8bfbd9ef0b",
   "metadata": {},
   "source": [
    "Z-test:\n",
    "\n",
    "A Z-test is used when the population standard deviation (σ) is known or when the sample size is large (typically n > 30).\n",
    "The Z-test statistic follows a standard normal distribution (mean = 0, standard deviation = 1).\n",
    "\n",
    "Example scenario: Suppose we want to test if the mean height of a specific population of adults is significantly different from the known national average height. Since the national average height's population standard deviation is known, we can use a Z-test to compare the sample mean with the known population mean.\n",
    "\n",
    "T-test:\n",
    "\n",
    "A T-test is used when the population standard deviation (σ) is unknown, and the sample size is small (typically n < 30).\n",
    "The T-test statistic follows a Student's t-distribution, which has fatter tails than the standard normal distribution, accounting for the additional uncertainty introduced by estimating the population standard deviation from the sample data.\n",
    "\n",
    "Example scenario: Let's say we want to compare the effectiveness of two different teaching methods on a small group of students (e.g., 20 students per group). Since we don't know the population standard deviation for each group, we would use a T-test to compare the means of the two samples."
   ]
  },
  {
   "cell_type": "markdown",
   "id": "4fdb8810-b3b6-43f6-ad37-5e7670a83bdd",
   "metadata": {},
   "source": [
    "Q2: Differentiate between one-tailed and two-tailed tests."
   ]
  },
  {
   "cell_type": "markdown",
   "id": "1f0e79b2-e0a3-434f-baa2-0b836cc4420d",
   "metadata": {},
   "source": [
    "One-tailed test:\n",
    "In a one-tailed test, the alternative hypothesis (Ha) specifies a directional difference or effect between groups or conditions. It states that the parameter of interest is either greater than or less than the null hypothesis value, but not both.\n",
    "The critical region (rejection region) is located entirely on one side of the distribution, corresponding to the specified direction in the alternative hypothesis.\n",
    "\n",
    "Example: A pharmaceutical company develops a new drug and wants to test if the drug is more effective (greater) than the existing standard treatment. Here, a one-tailed test would be appropriate to determine if the new drug leads to a significant improvement over the standard treatment.\n",
    "\n",
    "Two-tailed test:\n",
    "In a two-tailed test, the alternative hypothesis (Ha) does not specify a particular direction for the difference or effect. It states that the parameter of interest is simply different from the null hypothesis value, regardless of the direction.\n",
    "The critical region (rejection region) is divided into two equal tails on both sides of the distribution, reflecting the possibility of the effect being either greater or smaller than the null hypothesis value.\n",
    "\n",
    "Example: A researcher wants to investigate whether a new teaching method affects exam scores differently compared to the standard method. A two-tailed test would be suitable here to determine if there is any significant difference, regardless of whether the scores increase or decrease."
   ]
  },
  {
   "cell_type": "markdown",
   "id": "599518da-e7e0-4538-8986-bb3e8930e76f",
   "metadata": {},
   "source": [
    "Q3: Explain the concept of Type 1 and Type 2 errors in hypothesis testing. Provide an example scenario for\n",
    "each type of error."
   ]
  },
  {
   "cell_type": "markdown",
   "id": "1991f2ab-e379-4fdb-abb1-343335ad29ad",
   "metadata": {},
   "source": [
    "Type 1 Error (False Positive):\n",
    "A Type 1 error occurs when we reject the null hypothesis when it is actually true. In other words, we mistakenly conclude that there is a significant effect or difference when, in reality, there is none.\n",
    "The probability of making a Type 1 error is denoted by α (alpha), which is the significance level of the test.\n",
    "It is also called a \"false positive\" because we incorrectly identify a positive result (rejection of the null hypothesis) when there is no effect or difference.\n",
    "\n",
    "Example scenario:\n",
    "Let's consider a clinical trial for a new drug where the null hypothesis (H0) is that the drug has no effect (e.g., no difference in recovery time compared to a placebo). However, due to random chance or other factors, the study mistakenly finds a statistically significant difference, leading to the rejection of the null hypothesis. In this case, a Type 1 error occurs because the drug is declared effective when it is not.\n",
    "\n",
    "Type 2 Error (False Negative):\n",
    "A Type 2 error occurs when we fail to reject the null hypothesis when it is actually false. In other words, we miss detecting a real effect or difference that exists.\n",
    "The probability of making a Type 2 error is denoted by β (beta).\n",
    "It is also called a \"false negative\" because we fail to detect a positive result (failure to reject the null hypothesis) when there is a real effect or difference.\n",
    "\n",
    "Example scenario:\n",
    "Suppose a company claims that their new advertising campaign leads to a significant increase in sales. The null hypothesis (H0) is that the campaign has no effect on sales. However, due to insufficient sample size or variability in data, the study fails to find a statistically significant difference, and the null hypothesis is not rejected. In this case, a Type 2 error occurs because the advertising campaign does have an effect on sales, but it goes undetected in the study."
   ]
  },
  {
   "cell_type": "markdown",
   "id": "80c09203-0485-4638-bad4-d5b3b8e93cd4",
   "metadata": {},
   "source": [
    "Q4: Explain Bayes's theorem with an example."
   ]
  },
  {
   "cell_type": "markdown",
   "id": "407d757c-fadc-4316-a764-a754a4ac9306",
   "metadata": {},
   "source": [
    "Bayes's Theorem is a fundamental concept in probability theory and statistics that allows us to update our beliefs or probabilities about an event based on new evidence. It involves conditional probabilities and is named after the Reverend Thomas Bayes, who introduced it in the 18th century. The theorem can be mathematically expressed as follows:\n",
    "\n",
    "P(A|B) = P(B|A) * P(A) / P(B)\n",
    "\n",
    "where, \n",
    "P(A∣B) is the posterior probability of event A occurring given that event B has occurred (i.e., the updated probability).\n",
    "\n",
    "P(B∣A) is the likelihood probability of event B occurring given that event A has occurred.\n",
    "\n",
    "P(A) is the prior probability of event A occurring before any new evidence is considered.\n",
    "\n",
    "P(B) is the probability of event B occurring (the normalizing constant).\n",
    "\n"
   ]
  },
  {
   "cell_type": "markdown",
   "id": "000a8bf8-dae1-466d-91cf-1467c708b714",
   "metadata": {},
   "source": [
    "Example : What is the probability of a patient having liver disease if they are alcoholic? \n",
    "\n",
    "Here, “being an alcoholic” is the “test” (type of litmus test) for liver disease.\n",
    "\n",
    "A is the event i.e. “patient has liver disease””.\n",
    "As per earlier records of the clinic, it states that 10% of the patient’s entering the clinic are suffering from liver disease. \n",
    "\n",
    "Therefore, P(A)=0.10\n",
    "\n",
    "B is the litmus test that “Patient is an alcoholic”.\n",
    "Earlier records of the clinic showed that 5% of the patients entering the clinic are alcoholic.\n",
    "\n",
    "Therefore, P(B)=0.05\n",
    "\n",
    "Also,  7% out of the he patient’s that are diagnosed with liver disease, are alcoholics. This defines the B|A: probability of a patient being alcoholic, given that they have a liver disease is 7%.\n",
    "As, per Bayes theorem formula, \n",
    "\n",
    "P(A|B) = (0.07 * 0.1)/0.05 = 0.14\n",
    "\n",
    "Therefore, for a patient being alcoholic, the chances of having a liver disease are 0.14 (14%)."
   ]
  },
  {
   "cell_type": "markdown",
   "id": "7573a473-ca3e-41f9-afbb-b59948b46d2e",
   "metadata": {},
   "source": [
    "Q5: What is a confidence interval? How to calculate the confidence interval, explain with an example."
   ]
  },
  {
   "cell_type": "markdown",
   "id": "385db859-96e6-4fde-a0e1-0b344fd2be27",
   "metadata": {},
   "source": [
    "Confidence Interval (CI) is a statistical range that provides an estimate of the uncertainty or variability around a sample statistic, such as the mean or proportion, indicating the likely range within which the true population parameter lies with a specified level of confidence.\n",
    "\n",
    "The general formula for calculating a confidence interval for a population parameter (e.g., population mean) is given as:\n",
    "\n",
    "CI = Point Estimate ± Margin of Error\n",
    "\n",
    "where, Margin of Error = Zα/2 × SE and Standard Error (SE) = σ/√n\n",
    "\n",
    "Example: \n",
    "Given the information:\n",
    "Sample Mean = 520\n",
    "Standard Deviation = 100\n",
    "Sample Size (n) = 25\n",
    "Confidence Interval Level = 95%\n",
    "\n",
    "For a 95% level of confidence, Critical Z-value, Zα/2 ≈ 1.96\n",
    "\n",
    "Standard Error (SE) = σ/√n = 100 / √25 = 20\n",
    "\n",
    "Margin of Error (MOE) = Zα/2 × SE = 1.96 × 20 ≈ 39.2\n",
    "\n",
    "CI = 520 ± 39.2 = (480.8, 559.2)\n",
    "\n",
    "We are 95% confident that the true population mean CAT score lies between 480.8 and 559.2 "
   ]
  },
  {
   "cell_type": "markdown",
   "id": "3a1baa8a-c15a-4ac0-bd77-a2740df4b9a4",
   "metadata": {},
   "source": [
    "Q6. Use Bayes' Theorem to calculate the probability of an event occurring given prior knowledge of the\n",
    "event's probability and new evidence. Provide a sample problem and solution."
   ]
  },
  {
   "cell_type": "markdown",
   "id": "e6070174-2efb-4fab-b05c-389011425413",
   "metadata": {},
   "source": [
    "Problem\n",
    "\n",
    "Three boxes labeled as A, B, and C, are present. Details of the boxes are:\n",
    "\n",
    "Box A contains 2 red and 3 black balls, \n",
    "Box B contains 3 red and 1 black ball, \n",
    "And box C contains 1 red ball and 4 black balls, \n",
    "All the three boxes are identical having an equal probability to be picked up. Therefore, what is the probability that the red ball was picked up from box A?\n",
    "\n",
    "Solution\n",
    "\n",
    "Let E denote the event that a red ball is picked up and A, B and C denote that the ball is picked up from their respective boxes. Therefore the conditional probability would be P(A|E) which needs to be calculated.\n",
    "\n",
    "The existing probabilities P(A) = P(B) = P (C) = 1 / 3, since all boxes have equal probability of getting picked.\n",
    "\n",
    "P(E|A) = Number of red balls in box A / Total number of balls in box A = 2 / 5\n",
    "\n",
    "Similarly, P(E|B) = 3 / 4 and P(E|C) = 1 / 5\n",
    "\n",
    "Then evidence P(E) = P(E|A)*P(A) + P(E|B)*P(B) + P(E|C)*P(C) \n",
    "\n",
    "                   = (2/5) * (1/3) + (3/4) * (1/3) + (1/5) * (1/3) = 0.45\n",
    "\n",
    "Therefore, P(A|E) = P(E|A) * P(A) / P(E) = (2/5) * (1/3) / 0.45 = 0.296"
   ]
  },
  {
   "cell_type": "markdown",
   "id": "ba1a44ec-7c1c-4f73-9dde-c5b68b4a1b65",
   "metadata": {},
   "source": [
    "Q7. Calculate the 95% confidence interval for a sample of data with a mean of 50 and a standard deviation\n",
    "of 5. Interpret the results."
   ]
  },
  {
   "cell_type": "markdown",
   "id": "2a02b1de-a735-438f-b4c5-e4fbde4f5b2f",
   "metadata": {},
   "source": [
    "CI = Point Estimate ± Margin of Error\n",
    "\n",
    "where, Margin of Error = Zα/2 × SE and Standard Error (SE) = σ/√n\n",
    "\n",
    "Given the information: Sample Mean = 50 Standard Deviation = 5 Sample Size (n) = 100 (assumed) Confidence Interval Level = 95%\n",
    "\n",
    "For a 95% level of confidence, Critical Z-value, Zα/2 ≈ 1.96\n",
    "\n",
    "Standard Error (SE) = σ/√n = 5 / √100 = 0.5\n",
    "\n",
    "Margin of Error (MOE) = Zα/2 × SE = 1.96 × 0.5 = 0.98\n",
    "\n",
    "CI = 50 ± 0.98 = (49.02,50.98)\n",
    "\n",
    "Interpretation: We are 95% confident that the true population mean lies between 49.02 and 50.98 based on this sample data."
   ]
  },
  {
   "cell_type": "markdown",
   "id": "21b8ef20-027f-4b00-8ec1-a84e18397f1e",
   "metadata": {},
   "source": [
    "Q8. What is the margin of error in a confidence interval? How does sample size affect the margin of error?\n",
    "Provide an example of a scenario where a larger sample size would result in a smaller margin of error."
   ]
  },
  {
   "cell_type": "markdown",
   "id": "568cd374-5b35-432b-bb40-16cf2e402db8",
   "metadata": {},
   "source": [
    "The margin of error (MOE) in a confidence interval is a measure of the precision or uncertainty associated with the estimated population parameter (e.g., mean or proportion) based on a sample. It represents the amount by which the sample estimate may deviate from the true population parameter.\n",
    "\n",
    "The formula for the margin of error in a confidence interval is generally given as:\n",
    "\n",
    "MOE = Critical Value × Standard Error\n",
    "\n",
    "where:\n",
    "\n",
    "Critical Value: This value depends on the desired level of confidence and the chosen statistical distribution (e.g., Z-distribution for large sample sizes or t-distribution for small sample sizes).\n",
    "Standard Error: The standard error is the standard deviation of the sample statistic (e.g., sample mean or proportion) and reflects the variability of the sample estimate."
   ]
  },
  {
   "cell_type": "markdown",
   "id": "3ca33cc4-c2af-4479-9db7-0194aab9595b",
   "metadata": {},
   "source": [
    "How Sample Size Affects the Margin of Error:\n",
    "\n",
    "As the sample size increases, the margin of error decreases. In other words, larger sample sizes lead to more precise estimates and smaller intervals around the sample statistic in the confidence interval. This phenomenon occurs due to the relationship between the standard error and the sample size.\n",
    "\n",
    "The standard error is inversely proportional to the square root of the sample size (n). Therefore, as the sample size increases, the standard error decreases, resulting in a smaller margin of error. A larger sample provides more information about the population, leading to a more reliable estimate of the true population parameter."
   ]
  },
  {
   "cell_type": "markdown",
   "id": "a1468827-9629-4522-8b16-e67fde78b82b",
   "metadata": {},
   "source": [
    "Example Scenario:\n",
    "\n",
    "Suppose a polling company wants to estimate the proportion of voters who support a particular candidate in an election. They conduct two separate surveys:\n",
    "\n",
    "Survey 1: They randomly select 200 voters and find that 120 of them support the candidate.\n",
    "\n",
    "Survey 2: They randomly select 1000 voters and find that 600 of them support the candidate."
   ]
  },
  {
   "attachments": {
    "076d734d-163c-48e7-8d8a-4d114feb28ec.png": {
     "image/png": "[encoded data removed]"
    }
   },
   "cell_type": "markdown",
   "id": "a9298036-476f-41e9-9210-3bd51381dc4f",
   "metadata": {},
   "source": [
    "Margin Of Error : ![359809.image1.png](attachment:076d734d-163c-48e7-8d8a-4d114feb28ec.png)"
   ]
  },
  {
   "cell_type": "markdown",
   "id": "cc170c12-0527-4255-b568-ecc54a577b4f",
   "metadata": {},
   "source": [
    "Survey 1:\n",
    "\n",
    "Sample Proportion (p) = 120/200 = 0.6\n",
    "\n",
    "Sample Size (n) = 200\n",
    "\n",
    "Standard Error ≈ 0.0346\n",
    "\n",
    "Critical Value (95% CI, two-tailed test) ≈ 1.96\n",
    "\n",
    "MOE = 1.96 × 0.0346 ≈ 0.068"
   ]
  },
  {
   "cell_type": "markdown",
   "id": "ee5bb431-9148-410f-8196-41b11f223426",
   "metadata": {},
   "source": [
    "Survey 2:\n",
    "\n",
    "Sample Proportion (p) = 600/1000 = 0.6\n",
    "\n",
    "Sample Size (n) = 1000\n",
    "\n",
    "Standard Error ≈ 0.0155\n",
    "\n",
    "Critical Value (95% CI, two-tailed test) ≈ 1.96\n",
    "\n",
    "MOE = 1.96 × 0.0155 ≈ 0.0304\n",
    "\n",
    "In Survey 2 with a larger sample size (1000), the margin of error (MOE) is smaller (0.0304) compared to Survey 1 (0.068) with a smaller sample size (200). This demonstrates how increasing the sample size results in a more precise estimate with a smaller margin of error."
   ]
  },
  {
   "cell_type": "markdown",
   "id": "68112a72-853b-4f9c-b479-97ea64f14a46",
   "metadata": {},
   "source": [
    "Q9. Calculate the z-score for a data point with a value of 75, a population mean of 70, and a population\n",
    "standard deviation of 5. Interpret the results."
   ]
  },
  {
   "cell_type": "markdown",
   "id": "210e62e6-7574-4d6e-895b-63cb477cb1a3",
   "metadata": {},
   "source": [
    "We can use the formula for the z-score:\n",
    "\n",
    "Z-score = (Data point value − Population Mean) / Population Standard Deviation\n",
    "\n",
    "ie. z = (x−μ) / σ = Z-score= (75 − 70) / 5 = 1\n",
    "\n",
    "Interpretation: The z-score of +1 indicates that the data point is 1 standard deviation above the population mean. This means that the value 75 is higher than the average value of the population by one standard deviation."
   ]
  },
  {
   "cell_type": "markdown",
   "id": "440d7021-cbab-40db-99d5-13a2da6673ec",
   "metadata": {},
   "source": [
    "Q10. In a study of the effectiveness of a new weight loss drug, a sample of 50 participants lost an average\n",
    "of 6 pounds with a standard deviation of 2.5 pounds. Conduct a hypothesis test to determine if the drug is\n",
    "significantly effective at a 95% confidence level using a t-test."
   ]
  },
  {
   "cell_type": "markdown",
   "id": "d92023eb-1702-46ed-9dc8-d61170d233cb",
   "metadata": {},
   "source": [
    "Step 1: State the null and alternative hypotheses:\n",
    "\n",
    "Null Hypothesis (H0): The new weight loss drug is not significantly effective. (μ≤0)\n",
    "\n",
    "Alternative Hypothesis (H1): The new weight loss drug is significantly effective. The population mean weight loss is greater than 0 pounds (μ>0).\n",
    "\n",
    "Step 2: Set the significance level (α) for the test. For a 95% confidence level, α=0.05.\n",
    "\n",
    "Step 3: Calculate the test statistic:\n",
    "The test statistic for a one-sample t-test is given by:\n",
    "t = Sample Mean − Population Mean / Standard Error\n",
    "\n",
    "where: Sample Mean = 6 (average weight loss in the sample)\n",
    "Population Mean (μ) = 0 (null hypothesis assumption, no weight loss on average)\n",
    "Standard Error (SE) = Sample Standard Deviation / √Sample Size\n",
    "\n",
    "Given:\n",
    "Sample Standard Deviation (σ) = 2.5\n",
    "Sample Size (n) = 50\n",
    "\n",
    "Step 4: Calculate the critical t-value:\n",
    "\n",
    "The critical t-value corresponds to the chosen significance level and the degrees of freedom (df = n−1).\n",
    "\n",
    "Step 5: Compare the test statistic with the critical t-value:\n",
    "\n",
    "If the test statistic is greater than the critical t-value, we reject the null hypothesis in favor of the alternative hypothesis. Otherwise, we fail to reject the null hypothesis."
   ]
  },
  {
   "cell_type": "code",
   "execution_count": 3,
   "id": "a1fa673d-de1c-4dbd-bb93-a38671d3c122",
   "metadata": {},
   "outputs": [
    {
     "name": "stdout",
     "output_type": "stream",
     "text": [
      "Reject the Null Hypothesis. The new weight loss drug is significantly effective at a 95% confidence level.\n"
     ]
    }
   ],
   "source": [
    "import scipy.stats as stat\n",
    "\n",
    "# Given data\n",
    "sample_mean = 6\n",
    "population_mean = 0\n",
    "sample_std_dev = 2.5\n",
    "sample_size = 50\n",
    "confidence_level = 0.95\n",
    "\n",
    "# Calculate the standard error\n",
    "standard_error = sample_std_dev / (sample_size ** 0.5)\n",
    "\n",
    "# Calculate the t-test statistic\n",
    "t_test_statistic = (sample_mean - population_mean) / standard_error\n",
    "\n",
    "# Calculate the critical t-value for a one-tailed test at 95% confidence level\n",
    "degrees_of_freedom = sample_size - 1\n",
    "critical_t_value = stat.t.ppf(1 - (1 - confidence_level)/2, degrees_of_freedom)\n",
    "\n",
    "# Compare the test statistic with the critical t-value\n",
    "if t_test_statistic > critical_t_value:\n",
    "    print(\"Reject the Null Hypothesis. The new weight loss drug is significantly effective at a 95% confidence level.\")\n",
    "else:\n",
    "    print(\"We Fail to reject the Null Hypothesis. There is no significant evidence that the new weight loss drug is effective at a 95% confidence level.\")"
   ]
  },
  {
   "cell_type": "markdown",
   "id": "da17eb71-6000-4c35-ace4-ebe7fafe536c",
   "metadata": {},
   "source": [
    "Q11. In a survey of 500 people, 65% reported being satisfied with their current job. Calculate the 95%\n",
    "confidence interval for the true proportion of people who are satisfied with their job."
   ]
  },
  {
   "cell_type": "markdown",
   "id": "073be45c-8ff6-44ab-9635-123fba4ffc96",
   "metadata": {},
   "source": [
    "The formula for the confidence interval for a proportion (p) is given by:"
   ]
  },
  {
   "attachments": {
    "edcb9d87-3da2-4ebe-a023-4f0ad85adad1.png": {
     "image/png": "[encoded data removed]"
    }
   },
   "cell_type": "markdown",
   "id": "2e761c68-1a4b-4e26-b30d-58235e6bce73",
   "metadata": {},
   "source": [
    "![image.png](attachment:edcb9d87-3da2-4ebe-a023-4f0ad85adad1.png)"
   ]
  },
  {
   "cell_type": "markdown",
   "id": "f38e3d06-186a-4ef9-a0c2-2aa62e8aeaf1",
   "metadata": {},
   "source": [
    "^\n",
    "p is the sample proportion (65% or 0.65 in this case)\n",
    "\n",
    "Z is the critical value from the standard normal distribution corresponding to the desired confidence level (for a 95% confidence level, Z≈1.96).\n",
    "\n",
    "n is the sample size (500 in this case)."
   ]
  },
  {
   "cell_type": "markdown",
   "id": "0a065e66-f45b-412b-b774-e854c208e69e",
   "metadata": {},
   "source": [
    "CI = 0.65 ± 1.96 × 0.0201 = 0.65 ± 0.0394\n",
    "\n",
    "CI = (0.6106, 0.6894)\n",
    "\n",
    "Interpretation: We are 95% confident that the true proportion of people who are satisfied with their job lies between 0.6106 and 0.6894 based on this survey data."
   ]
  },
  {
   "cell_type": "markdown",
   "id": "5b248a01-8cd9-4341-b4db-d392397dc1a0",
   "metadata": {},
   "source": [
    "Q12. A researcher is testing the effectiveness of two different teaching methods on student performance.\n",
    "Sample A has a mean score of 85 with a standard deviation of 6, while sample B has a mean score of 82\n",
    "with a standard deviation of 5. Conduct a hypothesis test to determine if the two teaching methods have a\n",
    "significant difference in student performance using a t-test with a significance level of 0.01."
   ]
  },
  {
   "cell_type": "markdown",
   "id": "813615c7-bfa9-4a49-a740-e4435366f7d5",
   "metadata": {},
   "source": [
    "Step 1: State the null and alternative hypotheses:\n",
    "\n",
    "Null Hypothesis (H0): There is no significant difference in student performance between the two teaching methods. (μA = μB)\n",
    "\n",
    "Alternative Hypothesis (H1): There is a significant difference in student performance between the two teaching methods. (μA ≠ μB)"
   ]
  },
  {
   "cell_type": "markdown",
   "id": "bcf270ae-f4b9-47ff-9866-5ed9c67dfaff",
   "metadata": {},
   "source": [
    "The following formula is used to calculate the T-statistics and degrees of freedom:"
   ]
  },
  {
   "attachments": {
    "7fb524fb-1f14-4e33-935c-39cce857b749.jpg": {
     "image/jpeg": "[encoded data removed]"
    }
   },
   "cell_type": "markdown",
   "id": "fe3b62ba-8b80-4dc4-9970-ec708bef41f4",
   "metadata": {},
   "source": [
    "![t-Test-Formula.jpg](attachment:7fb524fb-1f14-4e33-935c-39cce857b749.jpg) "
   ]
  },
  {
   "attachments": {
    "3742eb59-d05c-4217-ac6d-152ca3d78a0f.jpg": {
     "image/jpeg": "[encoded data removed]"
    }
   },
   "cell_type": "markdown",
   "id": "9a28826c-3c92-489a-8a60-521cade3f9f3",
   "metadata": {},
   "source": [
    "![download (2).jpg](attachment:3742eb59-d05c-4217-ac6d-152ca3d78a0f.jpg)"
   ]
  },
  {
   "cell_type": "markdown",
   "id": "a7479b4e-852d-467d-9bea-5741b7944721",
   "metadata": {},
   "source": [
    "Where X̄1 is mean of first sample, X̄2 is mean of second sample, s1 is the standard deviation of first sample, s2 is the standard deviation of second sample, n1 is the size of the first sample, n2 is the size of the second sample."
   ]
  },
  {
   "cell_type": "markdown",
   "id": "2d06c1f8-5911-4ef1-9276-58b17d25eae1",
   "metadata": {},
   "source": [
    "For demonstration purposes, let's assume nA = 30 and nB = 25"
   ]
  },
  {
   "cell_type": "code",
   "execution_count": 11,
   "id": "37b01fb9-ee8e-47fa-aed8-fdab4bfbb88c",
   "metadata": {},
   "outputs": [
    {
     "name": "stdout",
     "output_type": "stream",
     "text": [
      "We Fail to Reject the Null Hypothesis. There is no significant difference in student performance between the two teaching methods.\n"
     ]
    }
   ],
   "source": [
    "import scipy.stats as stats\n",
    "\n",
    "# Given data for sample A\n",
    "mean_A = 85\n",
    "std_dev_A = 6\n",
    "sample_size_A = 30\n",
    "\n",
    "# Given data for sample B\n",
    "mean_B = 82\n",
    "std_dev_B = 5\n",
    "sample_size_B = 25\n",
    "\n",
    "# Set the significance level (alpha)\n",
    "alpha = 0.01\n",
    "\n",
    "# Calculate the degrees of freedom\n",
    "df = ((std_dev_A**2 / sample_size_A) + (std_dev_B**2 / sample_size_B))**2 / ((std_dev_A**2 / sample_size_A)**2 / (sample_size_A - 1) + (std_dev_B**2 / sample_size_B)**2 / (sample_size_B - 1))\n",
    "\n",
    "# Calculate the critical t-value\n",
    "critical_t_value = stats.t.ppf(1 - alpha/2, df)\n",
    "\n",
    "# Calculate the test statistic\n",
    "test_statistic = (mean_A - mean_B) / ( (std_dev_A**2 / sample_size_A) + (std_dev_B**2 / sample_size_B) )**0.5\n",
    "\n",
    "# Compare the test statistic with the critical t-value\n",
    "if (test_statistic) > critical_t_value:\n",
    "    print(\"We Reject the Null Hypothesis. There is a significant difference in student performance between the two teaching methods.\")\n",
    "else:\n",
    "    print(\"We Fail to Reject the Null Hypothesis. There is no significant difference in student performance between the two teaching methods.\")"
   ]
  },
  {
   "cell_type": "markdown",
   "id": "bdbbd234-96c1-4901-8eff-8f135a7c5742",
   "metadata": {},
   "source": [
    "Q13. A population has a mean of 60 and a standard deviation of 8. A sample of 50 observations has a mean\n",
    "of 65. Calculate the 90% confidence interval for the true population mean."
   ]
  },
  {
   "cell_type": "markdown",
   "id": "771b6a15-6eea-4978-8f14-4e35576a1cc0",
   "metadata": {},
   "source": [
    "CI = Point Estimate ± Margin of Error\n",
    "\n",
    "where, Margin of Error = Zα/2 × SE and Standard Error (SE) = σ/√n"
   ]
  },
  {
   "cell_type": "code",
   "execution_count": 7,
   "id": "b5dff246-d2dc-43e8-b9c9-c0b9da76eb8d",
   "metadata": {},
   "outputs": [
    {
     "name": "stdout",
     "output_type": "stream",
     "text": [
      "The 90% confidence interval for the true population mean is (63.13889495191701, 66.86110504808299)\n"
     ]
    }
   ],
   "source": [
    "# Given data\n",
    "sample_mean = 65\n",
    "population_mean = 60\n",
    "population_std_dev = 8\n",
    "sample_size = 50\n",
    "confidence_level = 0.90\n",
    "\n",
    "# Calculate the standard error\n",
    "standard_error = population_std_dev / (sample_size ** 0.5)\n",
    "\n",
    "# Calculate the critical value (Z) for a 90% confidence level\n",
    "critical_value = 1.645\n",
    "\n",
    "# Calculate the margin of error\n",
    "margin_of_error = critical_value * standard_error\n",
    "\n",
    "# Calculate the lower and upper bounds of the confidence interval\n",
    "lower_bound = sample_mean - margin_of_error\n",
    "upper_bound = sample_mean + margin_of_error\n",
    "\n",
    "print(f\"The 90% confidence interval for the true population mean is ({lower_bound}, {upper_bound})\")"
   ]
  },
  {
   "cell_type": "markdown",
   "id": "9aa12532-3262-409f-ab3c-cba55fde4d1f",
   "metadata": {},
   "source": [
    "Q14. In a study of the effects of caffeine on reaction time, a sample of 30 participants had an average\n",
    "reaction time of 0.25 seconds with a standard deviation of 0.05 seconds. Conduct a hypothesis test to\n",
    "determine if the caffeine has a significant effect on reaction time at a 90% confidence level using a t-test."
   ]
  },
  {
   "cell_type": "markdown",
   "id": "7e49e889-1b59-431a-af67-a79f3bb4efe8",
   "metadata": {},
   "source": [
    "Step 1: State the null and alternative hypotheses:\n",
    "\n",
    "Null Hypothesis (H0): Caffeine does not have a significant effect on reaction time. (μ=μ0)\n",
    "\n",
    "Alternative Hypothesis (Ha): Caffeine has a significant effect on reaction time. (μ≠μ0)"
   ]
  },
  {
   "cell_type": "code",
   "execution_count": 12,
   "id": "acca2273-9557-477b-9d94-6f4d13c130f6",
   "metadata": {},
   "outputs": [
    {
     "name": "stdout",
     "output_type": "stream",
     "text": [
      "We Fail to Reject the Null Hypothesis. Caffeine does not have a significant effect on reaction time at a 90% confidence level.\n"
     ]
    }
   ],
   "source": [
    "import scipy.stats as stats\n",
    "\n",
    "# Given data\n",
    "sample_mean = 0.25\n",
    "hypothesized_mean = 0.25\n",
    "sample_std_dev = 0.05\n",
    "sample_size = 30\n",
    "confidence_level = 0.90\n",
    "\n",
    "# Calculate the standard error\n",
    "standard_error = sample_std_dev / (sample_size ** 0.5)\n",
    "\n",
    "# Calculate the test statistic\n",
    "t_test_statistic = (sample_mean - hypothesized_mean) / standard_error\n",
    "\n",
    "# Calculate the degrees of freedom\n",
    "degrees_of_freedom = sample_size - 1\n",
    "\n",
    "# Calculate the critical t-value for a two-tailed test at 90% confidence level\n",
    "critical_t_value = stats.t.ppf(1 - (1 - confidence_level)/2, degrees_of_freedom)\n",
    "\n",
    "# Compare the test statistic with the critical t-value\n",
    "if (t_test_statistic) > critical_t_value:\n",
    "    print(\"We Reject the Null Hypothesis. Caffeine has a significant effect on reaction time at a 90% confidence level.\")\n",
    "else:\n",
    "    print(\"We Fail to Reject the Null Hypothesis. Caffeine does not have a significant effect on reaction time at a 90% confidence level.\")"
   ]
  },
  {
   "cell_type": "code",
   "execution_count": null,
   "id": "4f883bce-f34a-4a9b-b025-0a7162eeb0b0",
   "metadata": {},
   "outputs": [],
   "source": []
  }
 ],
 "metadata": {
  "kernelspec": {
   "display_name": "Python 3 (ipykernel)",
   "language": "python",
   "name": "python3"
  },
  "language_info": {
   "codemirror_mode": {
    "name": "ipython",
    "version": 3
   },
   "file_extension": ".py",
   "mimetype": "text/x-python",
   "name": "python",
   "nbconvert_exporter": "python",
   "pygments_lexer": "ipython3",
   "version": "3.10.8"
  }
 },
 "nbformat": 4,
 "nbformat_minor": 5
}
