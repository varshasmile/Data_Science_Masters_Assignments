{
 "cells": [
  {
   "cell_type": "markdown",
   "id": "c426127b-3741-4e0a-a0c6-13d2ebe27230",
   "metadata": {},
   "source": [
    "Q1. Calculate the 95% confidence interval for a sample of data with a mean of 50 and a standard deviation\n",
    "of 5 using Python. Interpret the results."
   ]
  },
  {
   "cell_type": "code",
   "execution_count": 6,
   "id": "7266fb16-2c74-4244-90b5-682dceca2099",
   "metadata": {},
   "outputs": [
    {
     "name": "stdout",
     "output_type": "stream",
     "text": [
      "The 95% confidence interval is (49.00789152424566, 50.99210847575434)\n"
     ]
    }
   ],
   "source": [
    "import scipy.stats as stats\n",
    "\n",
    "# Given data\n",
    "sample_mean = 50\n",
    "sample_std_dev = 5\n",
    "sample_size = 100  # assume\n",
    "\n",
    "# Set the confidence level (95% confidence level corresponds to alpha = 0.05)\n",
    "confidence_level = 0.95\n",
    "\n",
    "# Calculate the standard error\n",
    "standard_error = sample_std_dev / (sample_size ** 0.5)\n",
    "\n",
    "# Calculate the degrees of freedom (for one-sample t-test, df = n - 1)\n",
    "degrees_of_freedom = sample_size - 1\n",
    "\n",
    "# Calculate the critical t-value for a two-tailed test at 95% confidence level\n",
    "critical_t_value = stats.t.ppf(1 - (1 - confidence_level)/2, degrees_of_freedom)\n",
    "\n",
    "# Calculate the margin of error\n",
    "margin_of_error = critical_t_value * standard_error\n",
    "\n",
    "# Calculate the lower and upper bounds of the confidence interval\n",
    "lower_bound = sample_mean - margin_of_error\n",
    "upper_bound = sample_mean + margin_of_error\n",
    "\n",
    "print(f\"The 95% confidence interval is ({lower_bound}, {upper_bound})\")"
   ]
  },
  {
   "cell_type": "markdown",
   "id": "14f8f5b7-2ffd-4719-af3b-0ce391db187d",
   "metadata": {},
   "source": [
    "Interpretation: We are 95% confident that the true population mean lies between 49.007 and 50.992 based on the given sample data. "
   ]
  },
  {
   "cell_type": "markdown",
   "id": "709dcecd-3119-448c-a08e-45a9c466573c",
   "metadata": {},
   "source": [
    "Q2. Conduct a chi-square goodness of fit test to determine if the distribution of colors of M&Ms in a bag\n",
    "matches the expected distribution of 20% blue, 20% orange, 20% green, 10% yellow, 10% red, and 20%\n",
    "brown. Use Python to perform the test with a significance level of 0.05."
   ]
  },
  {
   "cell_type": "code",
   "execution_count": 8,
   "id": "6da2e32f-940a-40ba-b4ea-67fa94f53f4c",
   "metadata": {},
   "outputs": [
    {
     "name": "stdout",
     "output_type": "stream",
     "text": [
      "We Fail to Reject the Null Hypothesis. The distribution of colors of M&Ms in the bag matches the expected distribution.\n"
     ]
    }
   ],
   "source": [
    "import scipy.stats as stat\n",
    "\n",
    "# Given data\n",
    "observed_counts = [15, 22, 18, 8, 11, 26]  # Observed counts for each color (blue, orange, green, yellow, red, brown)\n",
    "\n",
    "# Calculate the total count of M&Ms in the bag (sum of observed_counts)\n",
    "total_count = sum(observed_counts)\n",
    "\n",
    "# To calculate the expected count for each color, we multiply the total count of M&Ms (sum of observed_counts) by the corresponding percentage for each color.\n",
    "# Calculate the expected count for each color based on the expected distribution percentages\n",
    "expected_counts = [0.2 * total_count, 0.2 * total_count, 0.2 * total_count, 0.1 * total_count, 0.1 * total_count, 0.2 * total_count]\n",
    "\n",
    "# Perform the chi-square goodness of fit test\n",
    "chisquare_teststats, p_value = stats.chisquare(f_obs=observed_counts, f_exp=expected_counts)\n",
    "\n",
    "alpha = 0.05\n",
    "\n",
    "# Check if the p-value is less than the significance level\n",
    "if p_value < alpha:\n",
    "    print(\"We Reject the Null Hypothesis. The distribution of colors of M&Ms in the bag does not match the expected distribution.\")\n",
    "else:\n",
    "    print(\"We Fail to Reject the Null Hypothesis. The distribution of colors of M&Ms in the bag matches the expected distribution.\")"
   ]
  },
  {
   "cell_type": "markdown",
   "id": "fc4951f6-7b45-42d2-b30d-d91f15528b07",
   "metadata": {},
   "source": [
    "Q3. Use Python to calculate the chi-square statistic and p-value for a contingency table with the following\n",
    "data:\n",
    "Interpret the results of the test."
   ]
  },
  {
   "attachments": {
    "207d04a5-a9a4-4d03-a1a3-946fbb038d4e.png": {
     "image/png": "[encoded data removed]"
    }
   },
   "cell_type": "markdown",
   "id": "2964a442-c26c-46fe-aefc-d029dc5f3390",
   "metadata": {},
   "source": [
    "![Screenshot 2023-07-27 220514.png](attachment:207d04a5-a9a4-4d03-a1a3-946fbb038d4e.png)"
   ]
  },
  {
   "cell_type": "code",
   "execution_count": 4,
   "id": "7429dbc4-d95c-40c0-aacd-17c4858ae5ce",
   "metadata": {},
   "outputs": [
    {
     "name": "stdout",
     "output_type": "stream",
     "text": [
      "Chi-square Statistic: 5.833333333333334\n",
      "P-value: 0.05411376622282158\n"
     ]
    }
   ],
   "source": [
    "import scipy.stats as stats\n",
    "import numpy as np\n",
    "\n",
    "observed_data = ([[20, 15], [10, 25], [15, 20]])\n",
    "\n",
    "chi_square_statistic, p_value, dof, expected = stats.chi2_contingency(observed_data)\n",
    "\n",
    "print(\"Chi-square Statistic:\", chi_square_statistic)\n",
    "print(\"P-value:\", p_value)"
   ]
  },
  {
   "cell_type": "markdown",
   "id": "0dd53a46-88d5-4639-a32e-0db9d772b3bb",
   "metadata": {},
   "source": [
    "Q4. A study of the prevalence of smoking in a population of 500 individuals found that 60 individuals\n",
    "smoked. Use Python to calculate the 95% confidence interval for the true proportion of individuals in the\n",
    "population who smoke."
   ]
  },
  {
   "cell_type": "code",
   "execution_count": 6,
   "id": "428f650c-fa95-41e6-a3eb-5c47d40e9230",
   "metadata": {},
   "outputs": [
    {
     "name": "stdout",
     "output_type": "stream",
     "text": [
      "The 95% confidence interval for the true proportion of individuals who smoke is (0.09151638887130707, 0.1484836111286929)\n"
     ]
    }
   ],
   "source": [
    "import scipy.stats as stats\n",
    "\n",
    "# Given data\n",
    "total_population = 500\n",
    "sample_size = 60\n",
    "confidence_level = 0.95\n",
    "\n",
    "# Calculate the proportion of individuals who smoke in the sample\n",
    "sample_proportion = sample_size / total_population\n",
    "\n",
    "# Calculate the critical z-value for a two-tailed test at 95% confidence level\n",
    "critical_z_value = stats.norm.ppf(1 - (1 - confidence_level) / 2)\n",
    "\n",
    "# Calculate the standard error for the proportion\n",
    "standard_error = (sample_proportion * (1 - sample_proportion) / total_population) ** 0.5\n",
    "\n",
    "# Calculate the margin of error\n",
    "margin_of_error = critical_z_value * standard_error\n",
    "\n",
    "# Calculate the lower and upper bounds of the confidence interval\n",
    "lower_bound = sample_proportion - margin_of_error\n",
    "upper_bound = sample_proportion + margin_of_error\n",
    "\n",
    "print(f\"The 95% confidence interval for the true proportion of individuals who smoke is ({lower_bound}, {upper_bound})\")"
   ]
  },
  {
   "cell_type": "markdown",
   "id": "3ea9249a-69ce-4154-894f-518ea1c4b38d",
   "metadata": {},
   "source": [
    "Q5. Calculate the 90% confidence interval for a sample of data with a mean of 75 and a standard deviation\n",
    "of 12 using Python. Interpret the results."
   ]
  },
  {
   "cell_type": "code",
   "execution_count": 7,
   "id": "7c984366-7ddf-458e-ae82-a3d7be224950",
   "metadata": {},
   "outputs": [
    {
     "name": "stdout",
     "output_type": "stream",
     "text": [
      "The 90% confidence interval is (73.00753061280433, 76.99246938719567)\n"
     ]
    }
   ],
   "source": [
    "import scipy.stats as stats\n",
    "\n",
    "# Given data\n",
    "sample_mean = 75\n",
    "sample_std_dev = 12\n",
    "sample_size = 100  # Assuming the sample size is 100 \n",
    "confidence_level = 0.90\n",
    "\n",
    "# Calculate the critical t-value for a two-tailed test at 90% confidence level\n",
    "degrees_of_freedom = sample_size - 1\n",
    "critical_t_value = stats.t.ppf(1 - (1 - confidence_level)/2, degrees_of_freedom)\n",
    "\n",
    "# Calculate the standard error\n",
    "standard_error = sample_std_dev / (sample_size ** 0.5)\n",
    "\n",
    "# Calculate the margin of error\n",
    "margin_of_error = critical_t_value * standard_error\n",
    "\n",
    "# Calculate the lower and upper bounds of the confidence interval\n",
    "lower_bound = sample_mean - margin_of_error\n",
    "upper_bound = sample_mean + margin_of_error\n",
    "\n",
    "print(f\"The 90% confidence interval is ({lower_bound}, {upper_bound})\")"
   ]
  },
  {
   "cell_type": "markdown",
   "id": "44061632-98f7-48b3-8649-9a290f442f00",
   "metadata": {},
   "source": [
    "We are 90% confident that the true population mean lies between approximately 73 and 76.99 based on the given sample data."
   ]
  },
  {
   "cell_type": "markdown",
   "id": "b667e3f8-fa37-4f90-8907-9a691fa88542",
   "metadata": {},
   "source": [
    "Q6. Use Python to plot the chi-square distribution with 10 degrees of freedom. Label the axes and shade the\n",
    "area corresponding to a chi-square statistic of 15."
   ]
  },
  {
   "cell_type": "code",
   "execution_count": 8,
   "id": "93c0e563-0b02-438f-968b-ad8787e876a9",
   "metadata": {},
   "outputs": [
    {
     "data": {
      "image/png": "[encoded data removed]",
      "text/plain": [
       "<Figure size 640x480 with 1 Axes>"
      ]
     },
     "metadata": {},
     "output_type": "display_data"
    }
   ],
   "source": [
    "import matplotlib.pyplot as plt\n",
    "import numpy as np\n",
    "from scipy.stats import chi2\n",
    "\n",
    "# Degrees of freedom\n",
    "df = 10\n",
    "\n",
    "# Create a range of chi-square values\n",
    "x = np.linspace(0, 30, 1000)\n",
    "\n",
    "# Calculate the chi-square probability density function (PDF) for the given degrees of freedom\n",
    "chi2_pdf = chi2.pdf(x, df)\n",
    "\n",
    "# Plot the chi-square distribution\n",
    "plt.plot(x, chi2_pdf, label=f\"df = {df}\")\n",
    "\n",
    "# Shade the area corresponding to chi-square statistic of 15\n",
    "plt.fill_between(x, chi2_pdf, where=(x >= 15), color='red', alpha=0.5, label=\"Chi-square stat = 15\")\n",
    "\n",
    "# Label the axes and add a legend\n",
    "plt.xlabel(\"Chi-square Value\")\n",
    "plt.ylabel(\"Probability Density\")\n",
    "plt.legend()\n",
    "\n",
    "# Show the plot\n",
    "plt.title(\"Chi-square Distribution\")\n",
    "plt.grid()\n",
    "plt.show()"
   ]
  },
  {
   "cell_type": "markdown",
   "id": "afce24b0-4d1c-487a-8a28-4c917066eaa8",
   "metadata": {},
   "source": [
    "Q7. A random sample of 1000 people was asked if they preferred Coke or Pepsi. Of the sample, 520\n",
    "preferred Coke. Calculate a 99% confidence interval for the true proportion of people in the population who\n",
    "prefer Coke."
   ]
  },
  {
   "cell_type": "code",
   "execution_count": 9,
   "id": "98a60be4-c61a-4da0-90b7-ecf889fa9357",
   "metadata": {},
   "outputs": [
    {
     "name": "stdout",
     "output_type": "stream",
     "text": [
      "The 99% confidence interval for the true proportion of people who prefer Coke is (0.4793, 0.5607)\n"
     ]
    }
   ],
   "source": [
    "import scipy.stats as stats \n",
    "\n",
    "# Given data\n",
    "sample_size = 1000\n",
    "sample_proportion_coke = 520 / sample_size\n",
    "confidence_level = 0.99\n",
    "\n",
    "# Calculate the critical z-value for a two-tailed test at 99% confidence level\n",
    "critical_z_value = stats.norm.ppf(1 - (1 - confidence_level) / 2)\n",
    "\n",
    "# Calculate the standard error for the proportion\n",
    "standard_error = (sample_proportion_coke * (1 - sample_proportion_coke) / sample_size) ** 0.5\n",
    "\n",
    "# Calculate the margin of error\n",
    "margin_of_error = critical_z_value * standard_error\n",
    "\n",
    "# Calculate the lower and upper bounds of the confidence interval\n",
    "lower_bound = sample_proportion_coke - margin_of_error\n",
    "upper_bound = sample_proportion_coke + margin_of_error\n",
    "\n",
    "print(f\"The 99% confidence interval for the true proportion of people who prefer Coke is ({lower_bound:.4f}, {upper_bound:.4f})\")"
   ]
  },
  {
   "cell_type": "markdown",
   "id": "ced62b77-9a3f-4577-9de1-ca993990af78",
   "metadata": {},
   "source": [
    "Q8. A researcher hypothesizes that a coin is biased towards tails. They flip the coin 100 times and observe\n",
    "45 tails. Conduct a chi-square goodness of fit test to determine if the observed frequencies match the\n",
    "expected frequencies of a fair coin. Use a significance level of 0.05."
   ]
  },
  {
   "cell_type": "code",
   "execution_count": 14,
   "id": "e9099055-82a5-4f19-bc41-69c08e544939",
   "metadata": {},
   "outputs": [
    {
     "name": "stdout",
     "output_type": "stream",
     "text": [
      "Conclusion: We fail to reject the null hypothesis.\n",
      "The coin is not biased towards tails.\n"
     ]
    }
   ],
   "source": [
    "import scipy.stats as stats\n",
    "\n",
    "# Given data\n",
    "observed_tails = 45\n",
    "total_flips = 100\n",
    "significance_val = 0.05\n",
    "\n",
    "# Expected frequency for tails in a fair coin (50% chance of tails in each flip)\n",
    "expected_tails = total_flips * 0.5\n",
    "\n",
    "# Expected frequencies for both heads and tails\n",
    "expected_heads = total_flips - expected_tails\n",
    "\n",
    "# Observed frequencies for both heads and tails\n",
    "observed_heads = total_flips - observed_tails\n",
    "\n",
    "# Create the observed and expected frequency arrays for the chi-square test\n",
    "observed_frequencies = [observed_heads, observed_tails]\n",
    "expected_frequencies = [expected_heads, expected_tails]\n",
    "\n",
    "# Perform the chi-square goodness of fit test\n",
    "chi_stats, p_value = stats.chisquare(observed_frequencies, expected_frequencies)\n",
    "\n",
    "# Compare the p-value with the significance level to make a conclusion\n",
    "if p_value < significance_val:\n",
    "    print(\"Conclusion: We reject the null hypothesis.\")\n",
    "    print(\"The coin is biased towards tails.\")\n",
    "else:\n",
    "    print(\"Conclusion: We fail to reject the null hypothesis.\")\n",
    "    print(\"The coin is not biased towards tails.\")"
   ]
  },
  {
   "cell_type": "markdown",
   "id": "7dda6d6e-11ea-42d5-a888-dd6bf96f3b2c",
   "metadata": {},
   "source": [
    "Q9. A study was conducted to determine if there is an association between smoking status (smoker or\n",
    "non-smoker) and lung cancer diagnosis (yes or no). The results are shown in the contingency table below.\n",
    "Conduct a chi-square test for independence to determine if there is a significant association between\n",
    "smoking status and lung cancer diagnosis. Use a significance level of 0.05."
   ]
  },
  {
   "attachments": {
    "7f56887c-238a-457c-9b72-e5dd3eca2f4e.png": {
     "image/png": "[encoded data removed]"
    }
   },
   "cell_type": "markdown",
   "id": "4b9de06b-9d37-4224-8262-69824b8ad62b",
   "metadata": {},
   "source": [
    "![Screenshot 2023-07-27 232317.png](attachment:7f56887c-238a-457c-9b72-e5dd3eca2f4e.png)"
   ]
  },
  {
   "cell_type": "code",
   "execution_count": 16,
   "id": "4e1435a8-7567-4288-a38e-90a19907e9b1",
   "metadata": {},
   "outputs": [
    {
     "name": "stdout",
     "output_type": "stream",
     "text": [
      "Conclusion: We reject the null hypothesis. There is a significant association between smoking status and lung cancer diagnosis\n"
     ]
    }
   ],
   "source": [
    "import scipy.stats as stats\n",
    "\n",
    "# Given Data\n",
    "observed_data = ([[60, 140], [30, 170]])\n",
    "significance_val = 0.05\n",
    "\n",
    "chi_square_statistic, p_value, dof, expected = stats.chi2_contingency(observed_data)\n",
    "\n",
    "if p_value < significance_val:\n",
    "    print(\"Conclusion: We reject the null hypothesis. There is a significant association between smoking status and lung cancer diagnosis\")\n",
    "else:\n",
    "    print(\"Conclusion: We fail to reject the null hypothesis. There is no significant association between smoking status and lung cancer diagnosis\")"
   ]
  },
  {
   "cell_type": "markdown",
   "id": "29e8cad6-ceac-4519-b56b-a3d579703317",
   "metadata": {},
   "source": [
    "Q10. A study was conducted to determine if the proportion of people who prefer milk chocolate, dark\n",
    "chocolate, or white chocolate is different in the U.S. versus the U.K. A random sample of 500 people from\n",
    "the U.S. and a random sample of 500 people from the U.K. were surveyed. The results are shown in the\n",
    "contingency table below. Conduct a chi-square test for independence to determine if there is a significant\n",
    "association between chocolate preference and country of origin. Use a significance level of 0.01."
   ]
  },
  {
   "attachments": {
    "6d5c6c26-ae5a-44ea-8578-75583532f5f7.png": {
     "image/png": "[encoded data removed]"
    }
   },
   "cell_type": "markdown",
   "id": "3b5bc77c-2950-4cc1-80ce-6c68b16782f5",
   "metadata": {},
   "source": [
    "![Screenshot 2023-07-27 233112.png](attachment:6d5c6c26-ae5a-44ea-8578-75583532f5f7.png)"
   ]
  },
  {
   "cell_type": "code",
   "execution_count": 17,
   "id": "df83be74-b419-4a46-98be-59f0c6a6c5eb",
   "metadata": {},
   "outputs": [
    {
     "name": "stdout",
     "output_type": "stream",
     "text": [
      "Conclusion: We reject the null hypothesis. There is a significant association between chocolate preference and country of origin.\n"
     ]
    }
   ],
   "source": [
    "import scipy.stats as stats\n",
    "\n",
    "# Given Data\n",
    "observed_data = ([[200, 150, 150], [225, 175, 100]])\n",
    "significance_val = 0.01\n",
    "\n",
    "chi_square_statistic, p_value, dof, expected = stats.chi2_contingency(observed_data)\n",
    "\n",
    "if p_value < significance_val:\n",
    "    print(\"Conclusion: We reject the null hypothesis. There is a significant association between chocolate preference and country of origin.\")\n",
    "else:\n",
    "    print(\"Conclusion: We fail to reject the null hypothesis. There is no significant association between chocolate preference and country of origin.\")"
   ]
  },
  {
   "cell_type": "markdown",
   "id": "ceb094d8-cd23-49a0-8535-6c6d5e92da28",
   "metadata": {},
   "source": [
    "Q11. A random sample of 30 people was selected from a population with an unknown mean and standard\n",
    "deviation. The sample mean was found to be 72 and the sample standard deviation was found to be 10.\n",
    "Conduct a hypothesis test to determine if the population mean is significantly different from 70. Use a\n",
    "significance level of 0.05."
   ]
  },
  {
   "cell_type": "code",
   "execution_count": 27,
   "id": "6bfcd9bf-f314-4ce7-8ceb-ad9645d33b0b",
   "metadata": {},
   "outputs": [
    {
     "name": "stdout",
     "output_type": "stream",
     "text": [
      "We fail to reject the Null Hypothesis. Conclusion: There is no significant difference between the population mean and 70.\n"
     ]
    }
   ],
   "source": [
    "import scipy.stats as stats\n",
    "\n",
    "# Given data\n",
    "sample_mean = 72\n",
    "sample_std_dev = 10\n",
    "sample_size = 30\n",
    "population_mean = 70\n",
    "\n",
    "# Generate the sample data (30 values with the given mean and standard deviation)\n",
    "sample_data = stats.norm.rvs(loc=sample_mean, scale=sample_std_dev, size=sample_size)\n",
    "\n",
    "# Perform the one-sample t-test\n",
    "t_statistic, p_value = stats.ttest_1samp(sample_data, population_mean)\n",
    "\n",
    "# Set the significance level (alpha)\n",
    "alpha = 0.05\n",
    "\n",
    "# Compare the p-value with the significance level to make a conclusion\n",
    "if p_value < alpha:\n",
    "    print(\"We reject the Null Hypothesis. Conclusion: The population mean is significantly different from 70.\")\n",
    "else:\n",
    "    print(\"We fail to reject the Null Hypothesis. Conclusion: There is no significant difference between the population mean and 70.\")\n"
   ]
  },
  {
   "cell_type": "code",
   "execution_count": null,
   "id": "2f5dca37-5798-4080-b01a-c7b484f29ca8",
   "metadata": {},
   "outputs": [],
   "source": []
  }
 ],
 "metadata": {
  "kernelspec": {
   "display_name": "Python 3 (ipykernel)",
   "language": "python",
   "name": "python3"
  },
  "language_info": {
   "codemirror_mode": {
    "name": "ipython",
    "version": 3
   },
   "file_extension": ".py",
   "mimetype": "text/x-python",
   "name": "python",
   "nbconvert_exporter": "python",
   "pygments_lexer": "ipython3",
   "version": "3.10.8"
  }
 },
 "nbformat": 4,
 "nbformat_minor": 5
}
