{
 "cells": [
  {
   "cell_type": "code",
   "execution_count": 1,
   "id": "4828218d-1fd6-4062-89b0-8c9e4c9ead41",
   "metadata": {},
   "outputs": [],
   "source": [
    "import logging\n",
    "\n",
    "logging.basicConfig(filename='Exception_Handling_Ass2.log', level=logging.DEBUG, format='%(asctime)s %(name)s %(levelname)s %(message)s')"
   ]
  },
  {
   "cell_type": "markdown",
   "id": "84a52c27-93db-45d1-a1f8-0b89acca4081",
   "metadata": {},
   "source": [
    "Q1. Explain why we have to use the Exception class while creating a Custom Exception.\n",
    "Note: Here Exception class refers to the base class for all the exceptions."
   ]
  },
  {
   "cell_type": "markdown",
   "id": "3365d798-7c80-4cc1-9998-405b96972ff2",
   "metadata": {},
   "source": [
    "Exception class as the base class for custom exceptions:\n",
    "\n",
    "Inheritance: By inheriting from the Exception class, our custom exception inherits all the properties and behaviors of the base class. This includes the ability to capture and convey information about the exception, such as the error message and traceback.\n",
    "\n",
    "Consistency: Inheriting from the Exception class helps maintain consistency with the existing exception hierarchy in Python. It ensures that our custom exception can be handled and processed in the same way as other built-in exceptions.\n",
    "\n",
    "Compatibility: By using the Exception class, our custom exception can be caught and handled alongside other exceptions using a common exception handling mechanism. This allows for a unified approach to handle errors and exceptions in our code.\n",
    "\n",
    "Exception Handling: The Exception class provides a set of common methods and attributes that can be useful when handling exceptions. For example, the str() method can be overridden to customize the error message displayed when the exception is raised.\n",
    "\n",
    "Documentation: Using the Exception class makes it clear that our class represents an exception. It helps other developers understand the purpose and usage of our custom exception."
   ]
  },
  {
   "cell_type": "markdown",
   "id": "d86f6882-b5de-4b40-9fba-f4a05afd59a8",
   "metadata": {},
   "source": [
    "Q2. Write a python program to print Python Exception Hierarchy."
   ]
  },
  {
   "cell_type": "code",
   "execution_count": 2,
   "id": "dc571d51-d862-44c8-a0c9-f078413aeeea",
   "metadata": {},
   "outputs": [],
   "source": [
    "logging.info('Question No. 2: ')\n",
    "\n",
    "logging.info('print_exception_hierarchy function, takes an exception class as an argument and recursively prints the exception hierarchy')\n",
    "def print_exception_hierarchy(exception_cls, indent=''):\n",
    "    logging.info(f\"{indent}{exception_cls.__name__}\")\n",
    "    for sub_cls in exception_cls.__subclasses__():\n",
    "        print_exception_hierarchy(sub_cls, indent + '  ')\n",
    "\n",
    "logging.info('Prints Python Exception Hierarchy')\n",
    "logging.info(\"Python Exception Hierarchy:\")\n",
    "logging.info(\"---------------------------\")\n",
    "print_exception_hierarchy(BaseException)"
   ]
  },
  {
   "cell_type": "markdown",
   "id": "1e9608eb-bd5b-4b41-a16a-77ed57b4043a",
   "metadata": {},
   "source": [
    "Q3. What errors are defined in the ArithmeticError class? Explain any two with an example."
   ]
  },
  {
   "cell_type": "markdown",
   "id": "60fc5aa7-647e-45e6-ae8c-0938d8025a98",
   "metadata": {},
   "source": [
    "The ArithmeticError class in Python is a base class for exceptions that occur during arithmetic operations. \n",
    "Here are two examples of errors defined in the ArithmeticError class:"
   ]
  },
  {
   "cell_type": "markdown",
   "id": "22861252-8c06-4648-818b-d99d3f66eba9",
   "metadata": {},
   "source": [
    "1. ZeroDivisionError: This error occurs when you try to divide a number by zero.\n",
    "\n",
    "Example"
   ]
  },
  {
   "cell_type": "code",
   "execution_count": 3,
   "id": "51ba2190-90fe-4b81-b19b-f37d5c81ec27",
   "metadata": {},
   "outputs": [],
   "source": [
    "logging.info('Question No. 3: ')\n",
    "\n",
    "logging.info('Example of ZeroDivisionError:')\n",
    "try:\n",
    "    logging.info('Inside try block we attempt to divide the number 10 by zero')\n",
    "    logging.error('raises a ZeroDivisionError')\n",
    "    result = 10 / 0\n",
    "except ZeroDivisionError as e:\n",
    "    logging.info('Inside except block, We catch the ZeroDivisionError exception')\n",
    "    logging.error(f\"ZeroDivisionError occurred: {e}\")"
   ]
  },
  {
   "cell_type": "markdown",
   "id": "1165ba73-f1cd-482d-addd-101b90f59bb4",
   "metadata": {},
   "source": [
    "2. OverflowError: This error occurs when the result of an arithmetic operation is too large to be represented within the available memory or numeric range.\n",
    "\n",
    "Example:"
   ]
  },
  {
   "cell_type": "code",
   "execution_count": 4,
   "id": "211fd297-0234-4c29-9ef6-05fcb20d0873",
   "metadata": {},
   "outputs": [],
   "source": [
    "logging.info('Example of OverflowError')\n",
    "j = 5.0\n",
    "try:\n",
    "    logging.info('Inside try block,  ')\n",
    "    for i in range(1, 1000):\n",
    "        logging.info(f'Inside for loop, perform repeated exponentiation of a floating-point number j: {j}. It loops in range(1, 1000) : {i}.')\n",
    "        j = j**i\n",
    "except ArithmeticError as e:\n",
    "    logging.info('Inside except block, We catch the ArithmeticError exception')\n",
    "    logging.info(f\"{e}, {e.__class__}\")"
   ]
  },
  {
   "cell_type": "markdown",
   "id": "c092b5b8-926a-4faf-8a6d-4521d303c675",
   "metadata": {},
   "source": [
    "Q4. Why LookupError class is used? Explain with an example KeyError and IndexError."
   ]
  },
  {
   "cell_type": "markdown",
   "id": "76d66e68-9d53-4e51-86bb-957048cbd20f",
   "metadata": {},
   "source": [
    "The LookupError class is used as a base class for exceptions that occur when an index or key used for lookup is not found or valid. It represents errors related to lookup operations in data structures like lists, dictionaries, and tuples."
   ]
  },
  {
   "cell_type": "markdown",
   "id": "34f23afd-025c-48e1-aefb-ade8c2a047d6",
   "metadata": {},
   "source": [
    "1. KeyError: It is a subclass of LookupError and is raised when a dictionary key is not found. It occurs when you try to access a dictionary using a key that does not exist in the dictionary.\n",
    "\n",
    "Example:"
   ]
  },
  {
   "cell_type": "code",
   "execution_count": 5,
   "id": "fe3d5c40-8129-4106-b459-22819f671b48",
   "metadata": {},
   "outputs": [],
   "source": [
    "logging.info('Question No. 4: ')\n",
    "\n",
    "logging.info('Example of KeyError: ')\n",
    "my_dict = {'a': 1, 'b': 2, 'c': 3}\n",
    "try:\n",
    "    logging.info('Inside try block, checking for a key value \"d\" in given dict. '+ str(my_dict))\n",
    "    value = my_dict['d']\n",
    "except KeyError as e:\n",
    "    logging.info('Inside except block, we catch the KeyError exception.')\n",
    "    logging.error(f\"KeyError occurred: {e}\")"
   ]
  },
  {
   "cell_type": "markdown",
   "id": "bfd3cb9f-8a34-4a0a-b05a-edd990fd0c49",
   "metadata": {},
   "source": [
    "2. IndexError: It occurs when trying to access a sequence with an invalid index.\n",
    "\n",
    "Example:"
   ]
  },
  {
   "cell_type": "code",
   "execution_count": 6,
   "id": "05a9b3cf-4135-45c3-b3d9-eec12608df3e",
   "metadata": {},
   "outputs": [],
   "source": [
    "logging.info('Example of IndexError: ')\n",
    "my_list = [1, 2, 3]\n",
    "try:\n",
    "    logging.info('Inside try block, trying to access the element at index 3 in given list. '+ str(my_list))\n",
    "    value = my_list[3]\n",
    "except IndexError as e:\n",
    "    logging.info('Inside except block, we catch the IndexError exception.')\n",
    "    logging.error(f\"IndexError occurred: {e}\")"
   ]
  },
  {
   "cell_type": "markdown",
   "id": "46661443-411b-4b6d-8472-914a330645eb",
   "metadata": {},
   "source": [
    "Q5. Explain ImportError. What is ModuleNotFoundError?"
   ]
  },
  {
   "cell_type": "markdown",
   "id": "c2db09ec-3bd6-489b-8d33-8d747249d5f3",
   "metadata": {},
   "source": [
    "ImportError is an exception that occurs when there is an error in importing a module or a specific attribute from a module. It is raised when the import statement fails to find or load the requested module.\n",
    "\n",
    "ModuleNotFoundError is a subclass of ImportError that specifically indicates that a module could not be found.\n",
    "When an ImportError or ModuleNotFoundError occurs, it typically means that the module or package you are trying to import does not exist or cannot be located in the specified paths.\n",
    "\n",
    "Example:"
   ]
  },
  {
   "cell_type": "code",
   "execution_count": 7,
   "id": "50716d77-7977-407f-9164-0f5e4db99df0",
   "metadata": {},
   "outputs": [],
   "source": [
    "logging.info('Question No. 5: ')\n",
    "\n",
    "logging.info('Example of ImportError: ')\n",
    "try:\n",
    "    logging.info('Inside try block, trying to import a module called non_existent_module, which does not exist.')\n",
    "    import non_existent_module\n",
    "except ImportError as e:\n",
    "    logging.info('Inside except block, we catch the ImportError exception.')\n",
    "    logging.error(f\"ImportError occurred: {e}\")"
   ]
  },
  {
   "cell_type": "markdown",
   "id": "788e5eee-1c07-4e04-b490-c2ea0e0fc5ef",
   "metadata": {},
   "source": [
    "Q6. List down some best practices for exception handling in python."
   ]
  },
  {
   "cell_type": "markdown",
   "id": "ad2eade6-c333-4f6d-9ac1-ad5c5ea7ee0e",
   "metadata": {},
   "source": [
    "Here are some best practices for exception handling in Python:\n",
    "\n",
    "1. Use specific exception types: Catch and handle specific exception types rather than using a generic except clause. This allows you to handle different types of exceptions differently and provides more accurate error handling.\n",
    "\n",
    "2. Use multiple except clauses: If you need to handle multiple types of exceptions, use separate except clauses for each exception type. This helps in writing focused exception handling code for each specific exception.\n",
    "\n",
    "3. Handle exceptions at the right level: Handle exceptions at an appropriate level in your code. Don't catch exceptions too early if they can be handled more effectively at a higher level or by the caller.\n",
    "\n",
    "4. Use finally block for cleanup: Use a finally block to perform cleanup operations that should always be executed, regardless of whether an exception occurred or not. It ensures that resources are released properly.\n",
    "\n",
    "5. Log exceptions: Use a logging framework, such as the logging module, to log exceptions. Logging the exceptions helps in debugging and troubleshooting the application. Include relevant information like the error message, stack trace, and any other necessary details.\n",
    "\n",
    "6. Use custom exceptions when needed: Create custom exception classes when there is a need to handle specific types of errors that are unique to your application. Custom exceptions help in making the code more readable and maintainable.\n",
    "\n",
    "7. Follow consistent error handling conventions: Follow consistent error handling conventions throughout your codebase. Use meaningful and descriptive error messages to provide useful information to developers and users.\n",
    "\n",
    "8. Test exception handling: Test your code thoroughly to ensure that exceptions are handled correctly. Write test cases that cover different scenarios and verify that the expected exceptions are raised and handled appropriately."
   ]
  },
  {
   "cell_type": "code",
   "execution_count": null,
   "id": "7f15f656-566e-47dd-a5bd-3e26389ae1cd",
   "metadata": {},
   "outputs": [],
   "source": []
  }
 ],
 "metadata": {
  "kernelspec": {
   "display_name": "Python 3 (ipykernel)",
   "language": "python",
   "name": "python3"
  },
  "language_info": {
   "codemirror_mode": {
    "name": "ipython",
    "version": 3
   },
   "file_extension": ".py",
   "mimetype": "text/x-python",
   "name": "python",
   "nbconvert_exporter": "python",
   "pygments_lexer": "ipython3",
   "version": "3.10.8"
  }
 },
 "nbformat": 4,
 "nbformat_minor": 5
}
