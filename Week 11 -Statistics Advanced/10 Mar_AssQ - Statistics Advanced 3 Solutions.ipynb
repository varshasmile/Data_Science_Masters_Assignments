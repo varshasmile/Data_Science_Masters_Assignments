{
 "cells": [
  {
   "cell_type": "markdown",
   "id": "63040039-8863-482e-afb9-2c4e1b8623b5",
   "metadata": {},
   "source": [
    "Q1: What is Estimation Statistics? Explain point estimate and interval estimate."
   ]
  },
  {
   "cell_type": "markdown",
   "id": "2892700e-393b-4147-96b8-13755bb03431",
   "metadata": {},
   "source": [
    "Estimation Statistics:\n",
    "Estimation in statistics is the process of using sample data to estimate unknown population parameters. It involves making inferences or educated guesses about population characteristics based on the information obtained from a sample.\n",
    "\n",
    "Point Estimate:\n",
    "A point estimate is a single numerical value that is used to estimate an unknown population parameter. It is obtained from the sample data and is considered the \"best guess\" or \"best estimate\" of the population parameter.\n",
    "\n",
    "For example, if we want to estimate the population mean (μ) based on a sample mean (x̄), the sample mean is the point estimate of the population mean.\n",
    "\n",
    "Interval Estimate:\n",
    "An interval estimate is a range of values that is used to estimate an unknown population parameter. It provides a level of confidence about the range within which the true population parameter is likely to fall.\n",
    "\n",
    "For example, if the sample mean (x̄) is 50 and the 95% confidence interval is (45, 55), we are 95% confident that the true population mean (μ) lies between 45 and 55."
   ]
  },
  {
   "cell_type": "markdown",
   "id": "1370724f-baaa-4794-90f6-ab3973fae2dd",
   "metadata": {},
   "source": [
    "Q2. Write a Python function to estimate the population mean using a sample mean and standard\n",
    "deviation."
   ]
  },
  {
   "cell_type": "markdown",
   "id": "cc968f9d-45af-4a2d-826c-f74d52d4dd24",
   "metadata": {},
   "source": [
    "Statisticians have shown that the mean of the sampling distribution of x̄ is equal to the population mean, μ, and that the standard deviation is given by σ/√n, where σ is the population standard deviation. The standard deviation of a sampling distribution is called the standard error. \n",
    "\n",
    "In the large-sample case, a 95% confidence interval estimate for the population mean is given by x̄ ± 1.96*σ/√n. When the population standard deviation, σ, is unknown, the sample standard deviation is used to estimate σ in the confidence interval formula. The quantity 1.96σ/√n is often called the margin of error for the estimate. The quantity σ/√n is the standard error, and 1.96 is the number of standard errors from the mean necessary to include 95% of the values in a normal distribution."
   ]
  },
  {
   "cell_type": "code",
   "execution_count": 1,
   "id": "b5788413-c2a4-4c39-84f1-e44623fd56d0",
   "metadata": {},
   "outputs": [
    {
     "name": "stdout",
     "output_type": "stream",
     "text": [
      "Estimated Population Mean: 50\n",
      "95% Confidence Interval: (48.04, 51.96)\n"
     ]
    }
   ],
   "source": [
    "import math\n",
    "\n",
    "def estimate_pop_mean(sample_mean, std_dev, sample_size):\n",
    "    # Calculate the standard error (standard deviation of the sample mean)\n",
    "    standard_error = std_dev / math.sqrt(sample_size)\n",
    "    \n",
    "    # Calculate the margin of error for a desired level of confidence (e.g., 1.96 for a 95% confidence interval)\n",
    "    z_value = 1.96\n",
    "    \n",
    "    # Calculate the lower bound and upper bound of the confidence interval\n",
    "    lower_bound = sample_mean - z_value * standard_error\n",
    "    upper_bound = sample_mean + z_value * standard_error\n",
    "    \n",
    "    return (sample_mean, lower_bound, upper_bound)\n",
    "\n",
    "sample_mean = 50\n",
    "std_dev = 10\n",
    "sample_size = 100\n",
    "estimated_mean, lower_bound, upper_bound = estimate_pop_mean(sample_mean, std_dev, sample_size)\n",
    "\n",
    "print(f\"Estimated Population Mean: {estimated_mean}\")\n",
    "print(f\"95% Confidence Interval: ({lower_bound}, {upper_bound})\")"
   ]
  },
  {
   "cell_type": "markdown",
   "id": "da4e3974-6c62-4330-a9c6-79e5d1535551",
   "metadata": {},
   "source": [
    "Q3: What is Hypothesis testing? Why is it used? State the importance of Hypothesis testing."
   ]
  },
  {
   "cell_type": "markdown",
   "id": "52e99c08-38de-4330-a6cd-a8fa86e6e717",
   "metadata": {},
   "source": [
    "Hypothesis Testing:\n",
    "Hypothesis testing is a statistical method used to make decisions or draw conclusions about a population based on a sample of data. It involves formulating two competing hypotheses: the null hypothesis (H0) and the alternative hypothesis (H1).\n",
    "\n",
    "The goal of hypothesis testing is to determine whether there is enough evidence in the sample data to reject the null hypothesis in favor of the alternative hypothesis. \n",
    "\n",
    "Importance of Hypothesis Testing:\n",
    "\n",
    "1. Inference about Population: Hypothesis testing allows researchers to make inferences about population parameters using sample data. It helps draw conclusions about the entire population based on a representative sample.\n",
    "\n",
    "2. Evidence-Based Decision Making: Hypothesis testing provides a formal and objective framework for making evidence-based decisions. It helps researchers make informed choices by evaluating the strength of the evidence in the data.\n",
    "\n",
    "3. Scientific Validity: Hypothesis testing is essential in scientific research to validate or refute research hypotheses. It allows researchers to test their theories and claim the existence of an effect or relationship.\n",
    "\n",
    "4. Business and Industry: Hypothesis testing is used in business and industry to evaluate the effectiveness of new products, marketing strategies, or process improvements. It helps decision-makers determine whether changes have a significant impact.\n",
    "\n",
    "5. Medical Research: Hypothesis testing is critical in medical research to assess the effectiveness of new treatments or medications, identify risk factors, and test hypotheses about disease outcomes."
   ]
  },
  {
   "cell_type": "markdown",
   "id": "2b9159b5-0f1f-405e-bad9-bc7a3dcfb062",
   "metadata": {},
   "source": [
    "Q4. Create a hypothesis that states whether the average weight of male college students is greater than\n",
    "the average weight of female college students."
   ]
  },
  {
   "cell_type": "markdown",
   "id": "798c7823-7987-4bdf-9fa6-37d42bd03613",
   "metadata": {},
   "source": [
    "Hypothesis:\n",
    "\n",
    "Null Hypothesis (H0): The average weight of male college students is equal to or less than the average weight of female college students.\n",
    "\n",
    "H0: μ_male ≤ μ_female\n",
    "\n",
    "Alternative Hypothesis (Ha): The average weight of male college students is greater than the average weight of female college students.\n",
    "\n",
    "H1: μ_male > μ_female"
   ]
  },
  {
   "cell_type": "markdown",
   "id": "769b980f-9401-4da8-95db-db893b3ebe1c",
   "metadata": {},
   "source": [
    "Q5. Write a Python script to conduct a hypothesis test on the difference between two population means,\n",
    "given a sample from each population."
   ]
  },
  {
   "cell_type": "code",
   "execution_count": 2,
   "id": "fa4edb00-a064-4c6d-8791-6178200a089a",
   "metadata": {},
   "outputs": [
    {
     "name": "stdout",
     "output_type": "stream",
     "text": [
      "Test Statistic: 5.592548233558729\n",
      "P-value: 0.00011502877077825216\n",
      "Reject the null hypothesis: There is evidence that the first population mean is greater.\n"
     ]
    }
   ],
   "source": [
    "import numpy as np\n",
    "from scipy.stats import ttest_ind\n",
    "\n",
    "def hypothesis_test(sample1, sample2, alpha = 0.05):\n",
    "    # Significance level (default is 0.05)\n",
    "    \n",
    "    test_stats, p_value = ttest_ind(sample1, sample2, alternative = 'greater')\n",
    "    \n",
    "    if p_value < alpha:\n",
    "        conclusion = 'Reject the null hypothesis: There is evidence that the first population mean is greater.'\n",
    "    else:\n",
    "        conclusion = \"Fail to reject the null hypothesis: There is no evidence that the first population mean is greater.\"\n",
    "    \n",
    "    return test_stats, p_value, conclusion\n",
    "\n",
    "sample1 = np.array([65, 68, 70, 72, 67, 69]) \n",
    "sample2 = np.array([60, 62, 63, 59, 61, 64]) \n",
    "\n",
    "t_statistic, p_value, test_conclusion = hypothesis_test(sample1, sample2)\n",
    "\n",
    "print(\"Test Statistic:\", t_statistic)\n",
    "print(\"P-value:\", p_value)\n",
    "print(test_conclusion)"
   ]
  },
  {
   "cell_type": "markdown",
   "id": "791bb226-d241-4335-90eb-862642b00664",
   "metadata": {},
   "source": [
    "Q6: What is a null and alternative hypothesis? Give some examples."
   ]
  },
  {
   "cell_type": "markdown",
   "id": "b793fb7c-5daf-40b6-b0e2-bc44c025300f",
   "metadata": {},
   "source": [
    "Null Hypothesis (H0):\n",
    "The null hypothesis is a statement of no effect, no difference, or no relationship between variables. It is a default assumption that there is no significant change or effect in the population being studied. The null hypothesis is often denoted as H0 and is the hypothesis that researchers aim to test or reject. \n",
    "\n",
    "Alternative Hypothesis (Ha or H1):\n",
    "The alternative hypothesis is a statement that contradicts or challenges the null hypothesis. It is the hypothesis that researchers want to support or prove to be true.The alternative hypothesis (H1) suggests that there is a specific effect, difference, or relationship in the population being studied.\n",
    "\n",
    "Example 1 - Drug Efficacy:\n",
    "\n",
    "Null Hypothesis (H0): The new drug has no significant effect on reducing cholesterol levels.\n",
    "\n",
    "Alternative Hypothesis (Ha): The new drug has a significant effect on reducing cholesterol levels.\n",
    "\n",
    "Example 2 - Gender and Salary:\n",
    "\n",
    "Null Hypothesis (H0): There is no significant difference in average salaries between male and female employees.\n",
    "\n",
    "Alternative Hypothesis (Ha): There is a significant difference in average salaries between male and female employees.\n",
    "\n",
    "Example 3 - Ad Campaign Impact:\n",
    "\n",
    "Null Hypothesis (H0): The new advertising campaign has no effect on sales.\n",
    "\n",
    "Alternative Hypothesis (Ha): The new advertising campaign has a significant effect on increasing sales."
   ]
  },
  {
   "cell_type": "markdown",
   "id": "047bf412-b0a5-408f-990a-1a44ad3c6050",
   "metadata": {},
   "source": [
    "Q7: Write down the steps involved in hypothesis testing."
   ]
  },
  {
   "cell_type": "markdown",
   "id": "eab468fc-5822-4f0b-937c-7dc2dd402ccd",
   "metadata": {},
   "source": [
    "The general steps in hypothesis testing are as follows:\n",
    "\n",
    "1. State the Hypotheses:\n",
    "\n",
    "Formulate the null hypothesis (H0) and the alternative hypothesis (Ha) based on the research question and the claim being tested. H0 represents no effect or no difference, while Ha represents the presence of an effect or a specific difference.\n",
    "\n",
    "2. Select the Significance Level (Alpha):\n",
    "\n",
    "Choose the level of significance (alpha) that determines the threshold for accepting or rejecting the null hypothesis. Commonly used significance levels are 0.05 (5%) and 0.01 (1%).\n",
    "\n",
    "3. Collect Sample Data:\n",
    "\n",
    "Gather data from a representative sample of the population of interest. The sample should be selected randomly to ensure its representativeness.\n",
    "\n",
    "4. Choose the Appropriate Test Statistic:\n",
    "\n",
    "Select the appropriate statistical test based on the type of data, the research question, and the sample size. Common tests include t-tests, z-tests, chi-square tests, and ANOVA.\n",
    "\n",
    "5. Calculate the Test Statistic:\n",
    "\n",
    "Compute the test statistic based on the sample data. The test statistic measures how far the sample result deviates from what is expected under the null hypothesis.\n",
    "\n",
    "6. Determine the Critical Region (Rejection Region):\n",
    "\n",
    "Identify the critical region in the sampling distribution corresponding to the chosen significance level (alpha). The critical region is the range of values for which the null hypothesis will be rejected.\n",
    "\n",
    "7. Find the P-value:\n",
    "\n",
    "Calculate the p-value, which is the probability of obtaining a result as extreme as (or more extreme than) the observed result under the assumption that the null hypothesis is true. The p-value helps assess the strength of evidence against the null hypothesis.\n",
    "\n",
    "8. Make a Decision:\n",
    "\n",
    "Compare the p-value with the significance level (alpha) to make a decision. If the p-value is less than or equal to alpha, reject the null hypothesis in favor of the alternative hypothesis. Otherwise, fail to reject the null hypothesis.\n",
    "\n",
    "9. Draw Conclusions:\n",
    "\n",
    "Interpret the results in the context of the research question. State the conclusion based on the decision made in the previous step. The conclusion should indicate whether there is enough evidence to support the alternative hypothesis or not.\n",
    "\n",
    "10. Report the Findings:\n",
    "\n",
    "Present the results, including the test statistic, p-value, and conclusion, in a clear and concise manner. Include any assumptions made during the analysis and discuss the implications of the findings."
   ]
  },
  {
   "cell_type": "markdown",
   "id": "7c881792-be12-4b2e-a42f-f8ef73cdc590",
   "metadata": {},
   "source": [
    "Q8. Define p-value and explain its significance in hypothesis testing."
   ]
  },
  {
   "cell_type": "markdown",
   "id": "37bd7985-7308-4abb-9069-a08550bf0119",
   "metadata": {},
   "source": [
    "P-value:\n",
    "The p-value, short for \"probability value,\" is a measure that quantifies the strength of evidence against the null hypothesis in hypothesis testing. It represents the probability of obtaining a result as extreme as (or more extreme than) the observed result, assuming that the null hypothesis is true. In other words, the p-value indicates how likely it is to observe the sample data if the null hypothesis is correct.\n",
    "\n",
    "A low p-value indicates strong evidence against the null hypothesis, supporting the alternative hypothesis and strengthening the confidence in the research findings. On the other hand, a large p-value suggests that there is not enough evidence to reject the null hypothesis, indicating the need for further investigation or a larger sample size to draw meaningful conclusions.\n",
    "\n",
    "Significance in Hypothesis Testing:\n",
    "\n",
    "1. Decision Rule: In hypothesis testing, the p-value is compared with the significance level (alpha) chosen by the researcher. The decision rule is as follows:\n",
    "\n",
    "If p-value ≤ alpha: Reject the null hypothesis in favor of the alternative hypothesis (significant result).\n",
    "If p-value > alpha: Fail to reject the null hypothesis (no significant result).\n",
    "\n",
    "2. Strength of Evidence: A low p-value (typically less than the chosen significance level) indicates strong evidence against the null hypothesis. It suggests that the observed result is unlikely to have occurred by chance alone, leading to the rejection of the null hypothesis.\n",
    "\n",
    "3. Interpretation: A significant result (small p-value) implies that the data provide sufficient evidence to support the alternative hypothesis. It indicates that there is a real effect, relationship, or difference in the population being studied.\n",
    "\n",
    "4. Inconclusive Results: A non-significant result (large p-value) does not necessarily prove that the null hypothesis is true. Instead, it suggests that there is insufficient evidence to reject the null hypothesis. In this case, the data do not provide strong support for the alternative hypothesis.\n",
    "\n",
    "5. Sensitivity to Sample Size: The p-value is influenced by the sample size. Larger sample sizes tend to yield smaller p-values, making it easier to detect small but meaningful effects.\n",
    "\n",
    "6. Subjectivity: The choice of significance level (alpha) is subjective and depends on the researcher's willingness to accept Type I errors (false positives) or Type II errors (false negatives). A smaller alpha leads to a more stringent test.\n",
    "\n",
    "7. Confirmation of Hypotheses: The p-value allows researchers to test their hypotheses objectively and avoid drawing conclusions based on intuition or personal beliefs."
   ]
  },
  {
   "cell_type": "markdown",
   "id": "5733d0be-b5a4-475b-a67b-f33f65d37d16",
   "metadata": {},
   "source": [
    "Q9. Generate a Student's t-distribution plot using Python's matplotlib library, with the degrees of freedom\n",
    "parameter set to 10."
   ]
  },
  {
   "cell_type": "markdown",
   "id": "a66bda3d-bc95-4ee5-ba8b-07b77781d49b",
   "metadata": {},
   "source": [
    "The Student’s t-distribution, is a probability distribution that is used in inferential statistics when the sample size is small and the population standard deviation is unknown. "
   ]
  },
  {
   "cell_type": "code",
   "execution_count": 6,
   "id": "ecae88ee-a917-4e31-9acf-5317f52dda4d",
   "metadata": {},
   "outputs": [
    {
     "data": {
      "image/png": "[encoded data removed]",
      "text/plain": [
       "<Figure size 640x480 with 1 Axes>"
      ]
     },
     "metadata": {},
     "output_type": "display_data"
    }
   ],
   "source": [
    "import matplotlib.pyplot as plt\n",
    "import numpy as np\n",
    "from scipy.stats import t\n",
    "\n",
    "#degree of freedom\n",
    "dof = 10\n",
    "\n",
    "# Generate values for the x-axis (range of t-values)\n",
    "x = np.linspace(-5, 5, 1000)\n",
    "\n",
    "# Calculate the probability density function (PDF) for the t-distribution\n",
    "pdf = t.pdf(x, dof)\n",
    "\n",
    "# Plot the t-distributiom\n",
    "plt.plot(x, pdf, label=f\"Degrees of Freedom: {dof}\")\n",
    "plt.xlabel('t-values')\n",
    "plt.ylabel('Probability Density Function (PDF)')\n",
    "plt.title('Student\\'s t-Distribution')\n",
    "plt.legend()\n",
    "plt.grid(True)\n",
    "plt.show()"
   ]
  },
  {
   "cell_type": "markdown",
   "id": "df28728c-e286-4eb9-8cfd-be6e85e053c6",
   "metadata": {},
   "source": [
    "Q10. Write a Python program to calculate the two-sample t-test for independent samples, given two\n",
    "random samples of equal size and a null hypothesis that the population means are equal."
   ]
  },
  {
   "cell_type": "code",
   "execution_count": 7,
   "id": "0bb339e2-f949-462a-9647-dd566a487ab4",
   "metadata": {},
   "outputs": [
    {
     "name": "stdout",
     "output_type": "stream",
     "text": [
      "T-statistic: 5.592548233558729\n",
      "P-value: 0.00023005754155650432\n"
     ]
    }
   ],
   "source": [
    "import numpy as np\n",
    "from scipy.stats import ttest_ind\n",
    "\n",
    "def two_sample_t_test(sample1, sample2):\n",
    "    # Perform the two-sample t-test\n",
    "    t_stats, p_value = ttest_ind(sample1, sample2)\n",
    "    \n",
    "    return t_stats, p_value\n",
    "\n",
    "sample1 = np.array([65, 68, 70, 72, 67, 69])\n",
    "sample2 = np.array([60, 62, 63, 59, 61, 64])\n",
    "\n",
    "t_statistic, p_value = two_sample_t_test(sample1, sample2)\n",
    "print(\"T-statistic:\", t_statistic)\n",
    "print(\"P-value:\", p_value)"
   ]
  },
  {
   "cell_type": "markdown",
   "id": "e571ea76-ce8d-401a-a365-114c1ee7fd0b",
   "metadata": {},
   "source": [
    "Q11: What is Student’s t distribution? When to use the t-Distribution."
   ]
  },
  {
   "cell_type": "markdown",
   "id": "821504bb-98a5-40a5-adcf-3cfd65060814",
   "metadata": {},
   "source": [
    "Student's t-Distribution:\n",
    "The Student's t-distribution, often simply referred to as the t-distribution, is a probability distribution that is used in statistical inference when the sample size is small or when the population standard deviation is unknown. It is a family of symmetric probability distributions characterized by their degrees of freedom (df). The t-distribution is similar in shape to the standard normal distribution (Z-distribution), but its tails are thicker, allowing for more variability in smaller sample sizes.\n",
    "\n",
    "When to Use the t-Distribution:\n",
    "\n",
    "1. Small Sample Size: When the sample size is small (typically less than 30).\n",
    "\n",
    "2. Unknown Population Standard Deviation: When the population standard deviation is unknown and has to be estimated from the sample.\n",
    "\n",
    "3. Sampling from Normally Distributed Population: The t-distribution is appropriate for use when the underlying population is normally distributed or when the sample size is large enough to ensure the Central Limit Theorem holds (even if the population is not normally distributed)."
   ]
  },
  {
   "cell_type": "markdown",
   "id": "a988c479-a681-4814-9395-f9e8bf418181",
   "metadata": {},
   "source": [
    "Q12: What is t-statistic? State the formula for t-statistic."
   ]
  },
  {
   "cell_type": "markdown",
   "id": "968d6861-92d2-4acd-9e17-4d814cc9efbb",
   "metadata": {},
   "source": [
    "T-Statistic:\n",
    "The t-statistic is a measure used in hypothesis testing to assess the difference between the sample mean and the hypothesized population mean when the population standard deviation is unknown. It quantifies how many standard errors the sample mean is away from the hypothesized population mean, relative to the variability in the sample data.\n",
    "\n",
    "t = (x̄ - μ) / (s / √n)\n",
    "\n",
    "where:\n",
    "\n",
    "t: t-statistic\n",
    "x̄: Sample mean\n",
    "μ: Population mean (or hypothesized population mean)\n",
    "s: Sample standard deviation\n",
    "n: Sample size"
   ]
  },
  {
   "cell_type": "markdown",
   "id": "98ca7357-68c7-4830-9b86-e2ebf15ce03a",
   "metadata": {},
   "source": [
    "Q13. A coffee shop owner wants to estimate the average daily revenue for their shop. They take a random\n",
    "sample of 50 days and find the sample mean revenue to be $500  with a standard deviation of $50.\n",
    "Estimate the population mean revenue with a 95% confidence interval."
   ]
  },
  {
   "cell_type": "markdown",
   "id": "907635b0-2585-4615-bf02-ef043fa410dd",
   "metadata": {},
   "source": [
    "To estimate the population mean revenue with a 95% confidence interval, we can use the t-distribution since the population standard deviation is unknown. The formula for the confidence interval is:\n",
    "\n",
    "Confidence Interval = sample mean ± (t-critical * standard error)\n",
    "\n",
    "sample mean (x̄) = $500 (given)\n",
    "standard deviation (s) = $50 (given)\n",
    "n = 50 (sample size)\n",
    "t-critical = t-value corresponding to the 95% confidence level and (n - 1) degrees of freedom\n",
    "standard error = s / √n\n",
    "\n",
    "Step 1: Calculate the standard error: \n",
    "standard error = $50 / √50 ≈ $7.07\n",
    "\n",
    "Step 2: Find the t-critical value for a 95% confidence level and (n - 1) degrees of freedom (n - 1 = 49) ≈ 2.0096\n",
    "\n",
    "Step 3: Calculate the confidence interval\n",
    "\n",
    "Confidence Interval = $500 ± (2.0096 * $7.07) ≈ $500 ± $14.21\n",
    "\n",
    "So, the 95% confidence interval for the population mean revenue is approximately $485.79 to $514.21. This means that we are 95% confident that the true average daily revenue for the coffee shop falls within this interval."
   ]
  },
  {
   "cell_type": "markdown",
   "id": "1f3a72e8-67ef-4978-8d89-52d931d8baeb",
   "metadata": {},
   "source": [
    "Q14. A researcher hypothesizes that a new drug will decrease blood pressure by 10 mmHg. They conduct a\n",
    "clinical trial with 100 patients and find that the sample mean decrease in blood pressure is 8 mmHg with a\n",
    "standard deviation of 3 mmHg. Test the hypothesis with a significance level of 0.05."
   ]
  },
  {
   "cell_type": "code",
   "execution_count": 2,
   "id": "2b6fe6c8-18c4-42f3-877a-f9cb50a548ee",
   "metadata": {},
   "outputs": [
    {
     "name": "stdout",
     "output_type": "stream",
     "text": [
      "Reject the null hypothesis. The new drug has a significant effect on decreasing blood pressure.\n"
     ]
    }
   ],
   "source": [
    "import numpy as np\n",
    "from scipy.stats import ttest_1samp\n",
    "\n",
    "# Given data\n",
    "hypothesised_mean = 10\n",
    "sample_mean = 8\n",
    "sample_size = 100\n",
    "sample_std = 3\n",
    "alpha = 0.05\n",
    "\n",
    "# Perform one-sample t-test\n",
    "t_stats, p_value = ttest_1samp(np.random.normal(sample_mean, sample_std, sample_size), hypothesised_mean)\n",
    "\n",
    "if p_value < alpha:\n",
    "    print(\"Reject the null hypothesis. The new drug has a significant effect on decreasing blood pressure.\")\n",
    "else:\n",
    "    print(\"Fail to reject the null hypothesis. There is no significant evidence that the new drug decreases blood pressure.\")"
   ]
  },
  {
   "cell_type": "markdown",
   "id": "fb9776bd-65a0-43cc-8add-bee3ab846506",
   "metadata": {},
   "source": [
    "Q15. An electronics company produces a certain type of product with a mean weight of 5 pounds and a\n",
    "standard deviation of 0.5 pounds. A random sample of 25 products is taken, and the sample mean weight\n",
    "is found to be 4.8 pounds. Test the hypothesis that the true mean weight of the products is less than 5\n",
    "pounds with a significance level of 0.01."
   ]
  },
  {
   "cell_type": "code",
   "execution_count": 11,
   "id": "4c28d759-e6a6-4d73-b607-9a95a2e89d85",
   "metadata": {},
   "outputs": [
    {
     "name": "stdout",
     "output_type": "stream",
     "text": [
      "Fail to reject the null hypothesis. There is no significant evidence that the true mean weight is less than 5 pounds.\n"
     ]
    }
   ],
   "source": [
    "import numpy as np\n",
    "from scipy.stats import norm\n",
    "\n",
    "# Given data\n",
    "population_mean = 5\n",
    "population_std = 25\n",
    "sample_mean = 4.8\n",
    "sample_size = 25\n",
    "alpha = 0.01\n",
    "\n",
    "# Calculate the z-score\n",
    "z_score = (sample_mean - population_mean) / (population_std / np.sqrt(sample_size))\n",
    "\n",
    "# Find the critical z-value for the given significance level\n",
    "critical_z_value = norm.ppf(alpha)\n",
    "\n",
    "if z_score < critical_z_value:\n",
    "    print(\"Reject the null hypothesis. There is significant evidence that the true mean weight is less than 5 pounds.\")\n",
    "else:\n",
    "    print(\"Fail to reject the null hypothesis. There is no significant evidence that the true mean weight is less than 5 pounds.\")"
   ]
  },
  {
   "cell_type": "markdown",
   "id": "a49f49ca-361a-44f8-bef2-3408f337868e",
   "metadata": {},
   "source": [
    "Q16. Two groups of students are given different study materials to prepare for a test. The first group (n1 =\n",
    "30) has a mean score of 80 with a standard deviation of 10, and the second group (n2 = 40) has a mean\n",
    "score of 75 with a standard deviation of 8. Test the hypothesis that the population means for the two\n",
    "groups are equal with a significance level of 0.01."
   ]
  },
  {
   "cell_type": "code",
   "execution_count": 15,
   "id": "7a1bdeae-74f3-4a0e-81ac-54a6bdd7de11",
   "metadata": {},
   "outputs": [
    {
     "name": "stdout",
     "output_type": "stream",
     "text": [
      "Fail to reject the null hypothesis. There is no significant evidence of a difference between the population means of the two groups.\n"
     ]
    }
   ],
   "source": [
    "import numpy as np\n",
    "from scipy.stats import ttest_ind\n",
    "\n",
    "# Group 1\n",
    "sample_size1 = 30\n",
    "sample_mean1 = 80\n",
    "sample_std1 = 10\n",
    "\n",
    "# Group 2\n",
    "sample_size2 = 40\n",
    "sample_mean2 = 75\n",
    "sample_std2 = 8\n",
    "\n",
    "# Significance level\n",
    "alpha = 0.01\n",
    "\n",
    "# Perform two-sample t-test\n",
    "t_stats, p_value = ttest_ind(np.random.normal(sample_mean1, sample_std1, sample_size1), np.random.normal(sample_mean2, sample_std2, sample_size2))\n",
    "\n",
    "# Decision rule\n",
    "if p_value < alpha:\n",
    "    print(\"Reject the null hypothesis. There is significant evidence of a difference between the population means of the two groups.\")\n",
    "else:\n",
    "    print(\"Fail to reject the null hypothesis. There is no significant evidence of a difference between the population means of the two groups.\")"
   ]
  },
  {
   "cell_type": "markdown",
   "id": "5cdd3e32-bae1-4d57-8887-bd816a0317d1",
   "metadata": {},
   "source": [
    "Q17. A marketing company wants to estimate the average number of ads watched by viewers during a TV\n",
    "program. They take a random sample of 50 viewers and find that the sample mean is 4 with a standard\n",
    "deviation of 1.5. Estimate the population mean with a 99% confidence interval."
   ]
  },
  {
   "cell_type": "markdown",
   "id": "ad751da1-e3d4-479d-b913-5e47cf7837b7",
   "metadata": {},
   "source": [
    "Confidence Interval = sample mean ± margin_error\n",
    "\n",
    "where, margin_error = (t-critical * standard_error)\n",
    "\n",
    "standard_error = sample_std / sqrt(sample_size)"
   ]
  },
  {
   "cell_type": "code",
   "execution_count": 19,
   "id": "4306b365-1d71-4688-9d65-880a2d6a48e1",
   "metadata": {},
   "outputs": [
    {
     "name": "stdout",
     "output_type": "stream",
     "text": [
      "99% Confidence Interval: (3.442855267493406, 4.557144732506594)\n"
     ]
    }
   ],
   "source": [
    "import numpy as np\n",
    "from scipy.stats import t\n",
    "\n",
    "sample_size = 50\n",
    "sample_mean = 4\n",
    "sample_std = 1.5\n",
    "confidence_level = 0.99\n",
    "degree_of_freedom = sample_size - 1\n",
    "\n",
    "# Calculate the critical value (two-tailed t-distribution)\n",
    "t_critical = t.ppf(1 - (1 - confidence_level) / 2, degrees_of_freedom)\n",
    "\n",
    "standard_error = sample_std / np.sqrt(sample_size)\n",
    "\n",
    "# Calculate the confidence interval\n",
    "margin_error = t_critical * standard_error\n",
    "lower_bound = sample_mean - margin_error\n",
    "upper_bound = sample_mean + margin_error\n",
    "\n",
    "print(f\"99% Confidence Interval: ({lower_bound}, {upper_bound})\")"
   ]
  },
  {
   "cell_type": "markdown",
   "id": "52988405-4d68-4644-badf-f94f93208642",
   "metadata": {},
   "source": [
    "We are 99% confident that the true average number of ads watched by viewers during a TV program lies between 3.44 and 4.56."
   ]
  },
  {
   "cell_type": "code",
   "execution_count": null,
   "id": "6f1b4fc2-e3ce-48ba-83ab-b114ebb74fc1",
   "metadata": {},
   "outputs": [],
   "source": []
  }
 ],
 "metadata": {
  "kernelspec": {
   "display_name": "Python 3 (ipykernel)",
   "language": "python",
   "name": "python3"
  },
  "language_info": {
   "codemirror_mode": {
    "name": "ipython",
    "version": 3
   },
   "file_extension": ".py",
   "mimetype": "text/x-python",
   "name": "python",
   "nbconvert_exporter": "python",
   "pygments_lexer": "ipython3",
   "version": "3.10.8"
  }
 },
 "nbformat": 4,
 "nbformat_minor": 5
}
