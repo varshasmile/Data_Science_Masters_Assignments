{
 "cells": [
  {
   "cell_type": "markdown",
   "id": "62092f0d-2494-48ed-9ca2-d725e3047461",
   "metadata": {},
   "source": [
    "Q1. What is the Probability density function?"
   ]
  },
  {
   "cell_type": "markdown",
   "id": "a69dacbc-c778-4d51-97fc-a4da67070773",
   "metadata": {},
   "source": [
    "The Probability Density Function (PDF) is a fundamental concept in probability theory and statistics. It describes the likelihood of a continuous random variable taking on a specific value or falling within a particular range of values."
   ]
  },
  {
   "cell_type": "markdown",
   "id": "02f9aebf-c2cf-42e5-87bf-d216571514ab",
   "metadata": {},
   "source": [
    "Q2. What are the types of Probability distribution?"
   ]
  },
  {
   "cell_type": "markdown",
   "id": "e6c04f18-ac7a-47ae-8ba9-b864169a028c",
   "metadata": {},
   "source": [
    "1. Normal Distribution: The normal distribution, also known as the Gaussian distribution, is a continuous probability distribution characterized by its bell-shaped curve. It is widely used in statistics and represents many natural phenomena. The normal distribution is fully defined by its mean (μ) and standard deviation (σ).\n",
    "\n",
    "2. Bernoulli Distribution: The Bernoulli distribution is a discrete probability distribution that models a single binary outcome, which can take one of two possible values (usually labeled as 0 and 1). It is often used for modeling simple yes/no or success/failure experiments, where there is only one trial.\n",
    "\n",
    "3. Binomial Distribution: The binomial distribution is a discrete probability distribution that models the number of successes in a fixed number of independent Bernoulli trials. It is characterized by two parameters: the number of trials (n) and the probability of success (p) in each trial.\n",
    "\n",
    "4. Poisson Distribution: The Poisson distribution is a discrete probability distribution used to model the number of events that occur in a fixed interval of time or space. It is often used when events happen independently at a constant rate. The Poisson distribution is characterized by a single parameter, λ (lambda), which represents the average rate of occurrence.\n",
    "\n",
    "5. Uniform Distribution: The uniform distribution is a continuous probability distribution where all outcomes in a given interval are equally likely. It is often used when each value within the interval has the same chance of occurring.\n",
    "\n",
    "6. Log-Normal Distribution: The log-normal distribution is a continuous probability distribution that is related to the normal distribution, but the logarithm of the data follows a normal distribution. It is often used for data that are positive and skewed to the right."
   ]
  },
  {
   "cell_type": "markdown",
   "id": "b386b1d3-8df4-4022-abdf-30564962eefb",
   "metadata": {},
   "source": [
    "Q3. Write a Python function to calculate the probability density function of a normal distribution with\n",
    "given mean and standard deviation at a given point."
   ]
  },
  {
   "cell_type": "code",
   "execution_count": 2,
   "id": "a0589148-0fdd-4b58-a238-e1b65fe534c8",
   "metadata": {},
   "outputs": [
    {
     "name": "stdout",
     "output_type": "stream",
     "text": [
      "PDF at x = 1.5 is 0.12951759566589174\n"
     ]
    }
   ],
   "source": [
    "from scipy.stats import norm\n",
    "\n",
    "def normal_pdf(x_value, mean, std):\n",
    "    pdf_value = norm.pdf(x_value, mean, std)\n",
    "    return pdf_value\n",
    "\n",
    "mean = 0      # Mean of the normal distribution\n",
    "std_dev = 1   # Standard deviation of the normal distribution\n",
    "x_value = 1.5 # Point at which to calculate the PDF\n",
    "\n",
    "pdf_at_x = normal_pdf(x_value, mean, std_dev)\n",
    "print(\"PDF at x =\", x_value, \"is\", pdf_at_x)"
   ]
  },
  {
   "cell_type": "markdown",
   "id": "f757ce5c-3545-4438-b310-fb7c2fe545e6",
   "metadata": {},
   "source": [
    "Q4. What are the properties of Binomial distribution? Give two examples of events where binomial\n",
    "distribution can be applied."
   ]
  },
  {
   "cell_type": "markdown",
   "id": "ba009511-9041-4144-a26a-a36d52bf9364",
   "metadata": {},
   "source": [
    "Properties of Binomial Distribution:\n",
    "\n",
    "1. Discrete Probability Distribution: The binomial distribution is a discrete probability distribution, meaning it deals with a fixed number of trials and counts the number of successes in those trials.\n",
    "\n",
    "2. Independent Trials: Each trial in a binomial distribution must be independent of the others. The outcome of one trial does not influence the outcome of another trial.\n",
    "\n",
    "3. Two Possible Outcomes: In each trial, there are only two possible outcomes: success (usually denoted by 'S') or failure (usually denoted by 'F').\n",
    "\n",
    "4. Constant Probability: The probability of success (p) remains constant for all trials. Similarly, the probability of failure (q = 1 - p) remains constant.\n",
    "\n",
    "5. Fixed Number of Trials: The number of trials (n) is fixed and known in advance.\n",
    "\n",
    "6. Mean and Variance: The mean of the binomial distribution is μ = n * p, and the variance is σ^2 = n * p * q.\n",
    "\n",
    "Two Examples of Events where Binomial Distribution can be Applied:\n",
    "\n",
    "1. Coin Tossing: Consider flipping a fair coin (where the probability of getting heads, p, is 0.5) ten times. We want to find the probability of getting exactly 5 heads. This is an example of a binomial distribution with n = 10 (number of coin tosses) and p = 0.5 (probability of success - getting heads).\n",
    "\n",
    "2. Quality Control: In a manufacturing process, a quality control team inspects a batch of 100 products. They check each product for defects, and the probability of any product having a defect is 0.02. The team wants to know the probability of finding exactly 3 defective products in the batch. This is an example of a binomial distribution with n = 100 (number of products inspected) and p = 0.02 (probability of success - finding a defective product).\n",
    "\n",
    "In both examples, the binomial distribution allows us to calculate the probabilities of specific outcomes (e.g., getting 5 heads or finding 3 defective products) in a fixed number of independent trials with only two possible outcomes (success or failure)."
   ]
  },
  {
   "cell_type": "markdown",
   "id": "4bc72b36-718c-4d31-904c-fbc64eeec6d6",
   "metadata": {},
   "source": [
    "Q5. Generate a random sample of size 1000 from a binomial distribution with probability of success 0.4\n",
    "and plot a histogram of the results using matplotlib."
   ]
  },
  {
   "cell_type": "code",
   "execution_count": 4,
   "id": "40beddd2-9c4b-4d3c-8d64-febeda3ec611",
   "metadata": {},
   "outputs": [],
   "source": [
    "import numpy as np\n",
    "import matplotlib.pyplot as plt\n",
    "\n",
    "# Parameters for the binomial distribution\n",
    "n = 1000  # Number of trials\n",
    "p = 0.4   # Probability of success\n",
    "\n",
    "# Generate the random sample\n",
    "random_sample = np.random.binomial(n, p, size=1000)"
   ]
  },
  {
   "cell_type": "code",
   "execution_count": 5,
   "id": "a9c393d0-4886-493c-a734-5dc5c7368629",
   "metadata": {},
   "outputs": [
    {
     "data": {
      "image/png": "[encoded data removed]",
      "text/plain": [
       "<Figure size 640x480 with 1 Axes>"
      ]
     },
     "metadata": {},
     "output_type": "display_data"
    }
   ],
   "source": [
    "# Plot the histogram\n",
    "plt.hist(random_sample, bins=30, edgecolor='black')\n",
    "plt.title('Histogram of Random Sample from Binomial Distribution')\n",
    "plt.xlabel('Number of Successes')\n",
    "plt.ylabel('Frequency')\n",
    "plt.grid(True)\n",
    "plt.show()"
   ]
  },
  {
   "cell_type": "markdown",
   "id": "27684ef2-ce66-4189-88fc-a8a208d71383",
   "metadata": {},
   "source": [
    "Q6. Write a Python function to calculate the cumulative distribution function of a Poisson distribution\n",
    "with given mean at a given point."
   ]
  },
  {
   "cell_type": "code",
   "execution_count": 6,
   "id": "13660f1c-609d-4786-9139-225cb881d3a7",
   "metadata": {},
   "outputs": [
    {
     "name": "stdout",
     "output_type": "stream",
     "text": [
      "CDF at x = 3 is 0.2650259152973616\n"
     ]
    }
   ],
   "source": [
    "from scipy.stats import poisson\n",
    "\n",
    "def poisson_cdf(x_value, mean):\n",
    "    cdf_value = poisson.cdf(x_value, mean)\n",
    "    return cdf_value\n",
    "\n",
    "mean = 5      # Mean of the Poisson distribution\n",
    "x_value = 3   # Point at which to calculate the CDF\n",
    "\n",
    "cdf_at_x = poisson_cdf(x_value, mean)\n",
    "print(\"CDF at x =\", x_value, \"is\", cdf_at_x)"
   ]
  },
  {
   "cell_type": "markdown",
   "id": "95cf0537-63d1-4378-b92c-4fa0999253ad",
   "metadata": {},
   "source": [
    "Q7. How Binomial distribution different from Poisson distribution?"
   ]
  },
  {
   "cell_type": "markdown",
   "id": "822e1821-fdc8-4232-bd48-e97823745741",
   "metadata": {},
   "source": [
    "Binomial Distribution:\n",
    "\n",
    "i. Models the number of successes in a fixed number of independent trials with two possible outcomes (success or failure).\n",
    "ii. Discrete distribution.\n",
    "iii. Characterized by two parameters: number of trials (n) and probability of success (p).\n",
    "iv. Each trial is independent of others.\n",
    "v. Appropriate for scenarios with a fixed number of trials and a binary outcome.\n",
    "\n",
    "Poisson Distribution:\n",
    "\n",
    "i. Models the count of rare events in a fixed interval of time or space, given the average rate of occurrence.\n",
    "ii. Discrete distribution.\n",
    "iii. Characterized by a single parameter: average rate of occurrence (λ).\n",
    "iv. Assumes events occur independently at a constant rate.\n",
    "v. Appropriate for scenarios with rare events and continuous range of outcomes."
   ]
  },
  {
   "cell_type": "markdown",
   "id": "33da9eda-40ef-46ab-b769-fdc58f9261d5",
   "metadata": {},
   "source": [
    "Q8. Generate a random sample of size 1000 from a Poisson distribution with mean 5 and calculate the\n",
    "sample mean and variance."
   ]
  },
  {
   "cell_type": "code",
   "execution_count": 9,
   "id": "fb36719f-5a23-4adc-a936-ecc9c5874fe9",
   "metadata": {},
   "outputs": [
    {
     "name": "stdout",
     "output_type": "stream",
     "text": [
      "Sample Mean: 4.886\n",
      "Sample Variance: 4.853857857857859\n"
     ]
    }
   ],
   "source": [
    "import numpy as np\n",
    "\n",
    "# Parameters for the Poisson distribution\n",
    "mean = 5\n",
    "\n",
    "# Generate the random sample\n",
    "random_sample = np.random.poisson(mean, size=1000)\n",
    "\n",
    "# Calculate the sample mean and variance\n",
    "sample_mean = np.mean(random_sample)\n",
    "sample_variance = np.var(random_sample, ddof=1)  # degrees of freedom (ddof)=1 for unbiased sample variance\n",
    "\n",
    "# Print the results\n",
    "print(\"Sample Mean:\", sample_mean)\n",
    "print(\"Sample Variance:\", sample_variance)"
   ]
  },
  {
   "cell_type": "markdown",
   "id": "2c2dee4f-ead5-434d-8cc4-a4d1f1505323",
   "metadata": {},
   "source": [
    "Q9. How mean and variance are related in Binomial distribution and Poisson distribution?"
   ]
  },
  {
   "cell_type": "markdown",
   "id": "dba0f367-0f7d-4545-8e2c-cba9ff8995fe",
   "metadata": {},
   "source": [
    "Binomial Distribution:\n",
    "\n",
    "For a binomial distribution with parameters n (number of trials) and p (probability of success in each trial), the mean (μ) and variance (σ^2) are related as follows:\n",
    "\n",
    "Mean (μ) = n * p\n",
    "\n",
    "Variance (σ^2) = n * p * (1 - p)\n",
    "\n",
    "In the binomial distribution, the variance is influenced by both the number of trials (n) and the probability of success (p). As the number of trials increases, the variance tends to increase, making the distribution more spread out. Additionally, if the probability of success (p) is closer to 0.5, the variance reaches its maximum value.\n",
    "\n",
    "Poisson Distribution:\n",
    "\n",
    "For a Poisson distribution with parameter λ (average rate of occurrence), the mean (μ) and variance (σ^2) are related as follows:\n",
    "\n",
    "Mean (μ) = λ\n",
    "\n",
    "Variance (σ^2) = λ\n",
    "\n",
    "In the Poisson distribution, the variance is equal to the mean (average rate of occurrence). Unlike the binomial distribution, the variance in the Poisson distribution does not depend on multiple parameters; it is solely determined by the average rate of occurrence (λ). As λ increases, the variance also increases, resulting in a wider spread of the distribution."
   ]
  },
  {
   "cell_type": "markdown",
   "id": "bb7974c3-3cdc-4b8b-a906-5f4106e07abd",
   "metadata": {},
   "source": [
    "Q10. In normal distribution with respect to mean position, where does the least frequent data appear?"
   ]
  },
  {
   "cell_type": "markdown",
   "id": "7ae1b432-cbb8-4beb-abf7-6a0e858843f6",
   "metadata": {},
   "source": [
    "In a normal distribution, the least frequent data points appear in the tails of the distribution, farthest from the mean. The normal distribution is symmetric around its mean, and the probability density decreases as we move away from the mean in either direction."
   ]
  },
  {
   "cell_type": "code",
   "execution_count": null,
   "id": "90304df3-961d-47e2-8de7-e77539db292a",
   "metadata": {},
   "outputs": [],
   "source": []
  }
 ],
 "metadata": {
  "kernelspec": {
   "display_name": "Python 3 (ipykernel)",
   "language": "python",
   "name": "python3"
  },
  "language_info": {
   "codemirror_mode": {
    "name": "ipython",
    "version": 3
   },
   "file_extension": ".py",
   "mimetype": "text/x-python",
   "name": "python",
   "nbconvert_exporter": "python",
   "pygments_lexer": "ipython3",
   "version": "3.10.8"
  }
 },
 "nbformat": 4,
 "nbformat_minor": 5
}
