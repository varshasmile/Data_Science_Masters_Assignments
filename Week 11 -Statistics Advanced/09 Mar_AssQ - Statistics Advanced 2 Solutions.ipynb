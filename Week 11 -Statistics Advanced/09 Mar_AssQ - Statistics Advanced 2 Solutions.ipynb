{
 "cells": [
  {
   "cell_type": "markdown",
   "id": "8cefa1a0-ccbd-4432-a65d-c2532745be8b",
   "metadata": {},
   "source": [
    "Q1: What are the Probability Mass Function (PMF) and Probability Density Function (PDF)? Explain with\n",
    "an example."
   ]
  },
  {
   "cell_type": "markdown",
   "id": "3c44355d-8c02-402b-924c-336695f65d03",
   "metadata": {},
   "source": [
    "Probability Mass Function (PMF):\n",
    "\n",
    "The Probability Mass Function (PMF) is a function that gives the probability of a discrete random variable taking on a specific value. It provides a complete probability distribution for the discrete random variable, indicating the probabilities of all possible outcomes. For each value of the random variable, the PMF returns the probability of that value occurring.\n",
    "\n",
    "Mathematically, the PMF is denoted as P(X = x), where X is the random variable and x represents a specific value of X. \n",
    "\n",
    "Example of PMF:\n",
    "\n",
    "Consider rolling a fair six-sided die. The random variable X represents the outcome of the roll. The PMF of X can be expressed as follows:\n",
    "\n",
    "P(X = 1) = 1/6 (probability of rolling a 1)\n",
    "\n",
    "P(X = 2) = 1/6 (probability of rolling a 2)\n",
    "\n",
    "P(X = 3) = 1/6 (probability of rolling a 3)\n",
    "\n",
    "P(X = 4) = 1/6 (probability of rolling a 4)\n",
    "\n",
    "P(X = 5) = 1/6 (probability of rolling a 5)\n",
    "\n",
    "P(X = 6) = 1/6 (probability of rolling a 6)\n",
    "\n",
    "Each outcome has an equal probability of 1/6 since the die is fair. The sum of all probabilities is 1, as required by the properties of the PMF.\n",
    "\n",
    "Probability Density Function (PDF):\n",
    "\n",
    "The Probability Density Function (PDF) is a function that describes the likelihood of a continuous random variable falling within a particular range of values. Unlike the PMF, which deals with discrete random variables, the PDF is used for continuous random variables.\n",
    "\n",
    "The PDF does not provide the exact probabilities of specific values (since the probability of any single specific value is technically zero for continuous variables). Instead, it provides relative probabilities for different ranges of values.\n",
    "\n",
    "Mathematically, the PDF is denoted as f(x), where x is a specific value of the continuous random variable X. \n",
    "\n",
    "Example of PDF:\n",
    "\n",
    "Consider the standard normal distribution with mean (μ) = 0 and standard deviation (σ) = 1. The PDF of this distribution, denoted as f(x), is given by the formula:\n",
    "\n",
    "f(x) = (1 / √(2π)) * e^((-x^2) / 2)\n",
    "\n",
    "In this example, x is a specific value on the x-axis. The PDF function provides the probability density for each value of x. The total area under the curve of the PDF is 1, which ensures that the probabilities are appropriately distributed over the entire range of the continuous random variable."
   ]
  },
  {
   "cell_type": "markdown",
   "id": "99bbf6eb-0759-48a1-b3b2-afee08335f32",
   "metadata": {},
   "source": [
    "Q2: What is Cumulative Density Function (CDF)? Explain with an example. Why CDF is used?"
   ]
  },
  {
   "cell_type": "markdown",
   "id": "b2afdf14-3b36-4de1-bd34-4549fb95fc0c",
   "metadata": {},
   "source": [
    "Cumulative Density Function (CDF): The Cumulative Density Function (CDF) is a function that gives the probability that a random variable X is less than or equal to a specific value x. In other words, the CDF provides the cumulative probability up to a certain value of the random variable. It is defined for both discrete and continuous random variables.\n",
    "\n",
    "Example of CDF:\n",
    "\n",
    "Consider rolling a fair six-sided die. The random variable X represents the outcome of the roll. The CDF of X can be expressed as follows:\n",
    "\n",
    "For a discrete random variable:\n",
    "Since the die is fair, each outcome has an equal probability of 1/6. The CDF can be represented as:\n",
    "\n",
    "F(x) = P(X ≤ x)\n",
    "\n",
    "F(1) = P(X ≤ 1) = 1/6 (probability of rolling a 1)\n",
    "F(2) = P(X ≤ 2) = 2/6 = 1/3 (probability of rolling a 1 or 2)\n",
    "F(3) = P(X ≤ 3) = 3/6 = 1/2 (probability of rolling a 1, 2, or 3)\n",
    "F(4) = P(X ≤ 4) = 4/6 = 2/3 (probability of rolling a 1, 2, 3, or 4)\n",
    "F(5) = P(X ≤ 5) = 5/6 (probability of rolling a 1, 2, 3, 4, or 5)\n",
    "F(6) = P(X ≤ 6) = 6/6 = 1 (probability of rolling a 1, 2, 3, 4, 5, or 6)\n",
    "\n",
    "The CDF gives the cumulative probability of rolling a number less than or equal to x. For example, F(3) = 1/2 means there is a 50% chance of rolling a number less than or equal to 3.\n",
    "\n",
    "Why CDF is used?\n",
    "\n",
    "i. Probability Calculation: The CDF provides a convenient way to calculate the probability of a random variable being less than or equal to a specific value, whether the variable is discrete or continuous.\n",
    "\n",
    "ii. Inference and Hypothesis Testing: The CDF is used in statistical inference, where it plays a crucial role in hypothesis testing, confidence intervals, and estimation of parameters.\n",
    "\n",
    "iii. Describing Distribution Characteristics: The shape and behavior of the CDF can reveal important characteristics of a probability distribution, such as its central tendency, spread, and skewness.\n",
    "\n",
    "iv. Comparing Distributions: The CDF allows for easy comparison between different probability distributions, helping to determine which distribution best fits the data."
   ]
  },
  {
   "cell_type": "markdown",
   "id": "13b84a63-748f-48db-ae41-a4c919d69f92",
   "metadata": {},
   "source": [
    "Q3: What are some examples of situations where the normal distribution might be used as a model?\n",
    "Explain how the parameters of the normal distribution relate to the shape of the distribution."
   ]
  },
  {
   "cell_type": "markdown",
   "id": "4244d1f9-81d0-4dec-83cf-6f71ca55b32c",
   "metadata": {},
   "source": [
    "1. Biological Measurements: Human height, weight, and other biological measurements tend to follow a roughly normal distribution within a population.\n",
    "\n",
    "2. Educational Testing: Test scores, IQ scores, and academic grades often approximate a normal distribution when a large number of students are considered.\n",
    "\n",
    "3. Economic Data: Many economic variables, such as income, prices, and stock returns, can be reasonably modeled using a normal distribution.\n",
    "\n",
    "4. Environmental Data: Environmental factors like temperature, precipitation, and pollution levels often exhibit a normal distribution over time.\n",
    "\n",
    "The parameters of the normal distribution are the mean (μ) and the standard deviation (σ). \n",
    "\n",
    "Mean (μ): The mean is the average value around which the data is concentrated. \n",
    "Standard Deviation (σ): The standard deviation measures the spread or dispersion of the data points from the mean. \n",
    "\n",
    "The shape of the normal distribution is entirely determined by its mean and standard deviation:\n",
    "\n",
    "i. If the mean (μ) is increased, the entire distribution is shifted to the right.\n",
    "ii. If the mean (μ) is decreased, the entire distribution is shifted to the left.\n",
    "iii. If the standard deviation (σ) is increased, the distribution becomes wider and flatter.\n",
    "iv. If the standard deviation (σ) is decreased, the distribution becomes narrower and taller."
   ]
  },
  {
   "cell_type": "markdown",
   "id": "32012418-dac6-4b83-9718-950bd4a7363d",
   "metadata": {},
   "source": [
    "Q4: Explain the importance of Normal Distribution. Give a few real-life examples of Normal\n",
    "Distribution."
   ]
  },
  {
   "cell_type": "markdown",
   "id": "32de4f65-0563-4d37-b64a-937d77d5852f",
   "metadata": {},
   "source": [
    "The Normal Distribution holds significant importance in statistics and data analysis due to several reasons:\n",
    "\n",
    "1. Central Limit Theorem: The Normal Distribution is closely related to the Central Limit Theorem, which states that the sampling distribution of the sample mean of a large number of independent and identically distributed random variables will be approximately normally distributed, regardless of the shape of the original population. This property makes the Normal Distribution a fundamental concept in inferential statistics and hypothesis testing.\n",
    "\n",
    "2. Approximation to Other Distributions: The Normal Distribution often serves as an excellent approximation for many real-world phenomena, even when the underlying distribution may not be strictly normal. This makes it a versatile and widely applicable model.\n",
    "\n",
    "3. Statistical Inference: In many statistical techniques, it is assumed that the data follows a normal distribution.\n",
    "\n",
    "4. Easy Interpretation: The Normal Distribution has a clear and well-defined shape (bell-shaped curve), making it easy to interpret and understand the characteristics of the data, such as the mean and standard deviation.\n",
    "\n",
    "Real-Life Examples of Normal Distribution:\n",
    "\n",
    "1. Height of Adult Humans: The heights of adult humans within a population typically follow a roughly normal distribution. Most people cluster around the average height, and there are relatively fewer very tall or very short individuals.\n",
    "\n",
    "2. Test Scores: In standardized testing, test scores of a large population of students tend to approximate a normal distribution. The majority of students score around the average, with fewer students scoring extremely high or low.\n",
    "\n",
    "3. Temperature Data: Daily temperatures recorded over a long period at a particular location often exhibit a normal distribution, with most days clustered around the average temperature for that location.\n",
    "\n",
    "4. Stock Market Returns: The daily returns of many financial assets, such as stocks, are often modeled using the normal distribution, though it is a simplified assumption."
   ]
  },
  {
   "cell_type": "markdown",
   "id": "7637a18c-fe98-4527-a290-ad6f5eac11e3",
   "metadata": {},
   "source": [
    "Q5: What is Bernaulli Distribution? Give an Example. What is the difference between Bernoulli\n",
    "Distribution and Binomial Distribution?"
   ]
  },
  {
   "cell_type": "markdown",
   "id": "58fcd1e3-2dee-4b54-9631-ec6b9df61e6a",
   "metadata": {},
   "source": [
    "Bernoulli Distribution:\n",
    "\n",
    "The Bernoulli distribution is a discrete probability distribution that models a random experiment with only two possible outcomes: success (usually denoted as 1) or failure (usually denoted as 0). The distribution is characterized by a single parameter, p, which represents the probability of success in a single trial.\n",
    "\n",
    "Example of Bernoulli Distribution:\n",
    "\n",
    "Consider a coin toss experiment, where the outcome of interest is whether the coin lands heads (success) or tails (failure). Let's say the probability of getting heads in a single coin toss is p = 0.5 (if the coin is fair). In this case, the Bernoulli distribution can be used to model this random experiment, where the random variable X can take the value 1 (for heads) with a probability of p = 0.5, or the value 0 (for tails) with a probability of 1 - p = 0.5.\n",
    "\n",
    "Difference between Bernoulli Distribution and Binomial Distribution:\n",
    "\n",
    "Number of Trials:\n",
    "\n",
    "Bernoulli Distribution: Models a single trial with two possible outcomes (success or failure).\n",
    "Binomial Distribution: Models a fixed number (n) of independent Bernoulli trials, where each trial has two possible outcomes (success or failure).\n",
    "\n",
    "Parameters:\n",
    "\n",
    "Bernoulli Distribution: Has a single parameter p, which represents the probability of success in a single trial.\n",
    "Binomial Distribution: Has two parameters, n and p, where n represents the number of trials and p is the probability of success in each trial.\n",
    "\n",
    "Probability Mass Function (PMF):\n",
    "\n",
    "Bernoulli Distribution: The PMF of the Bernoulli distribution is P(X = x) = p^x * (1 - p)^(1 - x) for x ∈ {0, 1}.\n",
    "Binomial Distribution: The PMF of the Binomial distribution is P(X = k) = C(n, k) * p^k * (1 - p)^(n - k) for k ∈ {0, 1, 2, ..., n}, where C(n, k) represents the binomial coefficient."
   ]
  },
  {
   "cell_type": "markdown",
   "id": "3dc41f52-2e91-4c0a-8d2e-d6d4db0f35d6",
   "metadata": {},
   "source": [
    "Q6. Consider a dataset with a mean of 50 and a standard deviation of 10. If we assume that the dataset\n",
    "is normally distributed, what is the probability that a randomly selected observation will be greater\n",
    "than 60? Use the appropriate formula and show your calculations."
   ]
  },
  {
   "cell_type": "markdown",
   "id": "77b593dc-43b5-4cfb-817c-ca26e8614088",
   "metadata": {},
   "source": [
    "Step 1: \n",
    "We need to calculate the Z-score for the value x = 60\n",
    "\n",
    "Z = (x - μ) / σ\n",
    "\n",
    "where:\n",
    "\n",
    "Z is the Z-score,\n",
    "x is the value of the observation (60 in this case),\n",
    "μ is the mean of the dataset (given as 50),\n",
    "σ is the standard deviation of the dataset (given as 10).\n",
    "\n",
    "Let's calculate the Z-score first:\n",
    "\n",
    "Z = (60 - 50) / 10 = 1"
   ]
  },
  {
   "cell_type": "markdown",
   "id": "23ce97dc-8626-433e-9a63-0d4054037e8c",
   "metadata": {},
   "source": [
    "Step 2:\n",
    "Now, we need to find the probability that a randomly selected observation will be greater than 60, which is the area under the standard normal curve to the right of Z = 1. \n",
    "\n",
    "P(Z < 1) ≈ 0.84134 (left of Z)\n",
    "\n",
    "P(Z > 1) = 1-0.8413 = 0.1587 (right of Z)\n",
    "\n",
    "The probability that a randomly selected observation from the dataset will be greater than 60 is approximately 0.1587 or 15.87%."
   ]
  },
  {
   "cell_type": "markdown",
   "id": "1f05e7fb-6615-4190-9983-e1103077ee1e",
   "metadata": {},
   "source": [
    "Q7: Explain uniform Distribution with an example."
   ]
  },
  {
   "cell_type": "markdown",
   "id": "7f5006e6-9a20-4648-a80f-146c918fb5b1",
   "metadata": {},
   "source": [
    "The Uniform Distribution is a continuous probability distribution that describes a random variable with outcomes that have equal probabilities within a specified range. In other words, in a uniform distribution, all values within the range are equally likely to occur, and there are no preferential outcomes.\n",
    "\n",
    "Example of Uniform Distribution:\n",
    "\n",
    "Consider the roll of a fair six-sided die. In this case, the random variable X represents the outcome of the roll, and the Uniform Distribution can be used to model this random experiment. The Uniform Distribution for a fair six-sided die can be denoted as U(1, 6), where the range of possible outcomes is from 1 to 6, inclusive.\n",
    "\n",
    "The probability density function (PDF) of a Uniform Distribution is defined as:\n",
    "\n",
    "f(x) = 1 / (b - a), for a ≤ x ≤ b\n",
    "\n",
    "where:\n",
    "\n",
    "f(x) is the probability density function,\n",
    "a is the lower bound of the range (inclusive),\n",
    "b is the upper bound of the range (inclusive).\n",
    "\n",
    "For the fair six-sided die example, the PDF can be written as:\n",
    "\n",
    "f(x) = 1 / (6 - 1) = 1 / 5, for 1 ≤ x ≤ 6\n",
    "\n",
    "The cumulative distribution function (CDF) for the Uniform Distribution is given by:\n",
    "\n",
    "F(x) = (x - a) / (b - a), for a ≤ x ≤ b\n",
    "\n",
    "For the fair six-sided die example, the CDF can be written as:\n",
    "\n",
    "F(x) = (x - 1) / (6 - 1) = x / 5, for 1 ≤ x ≤ 6\n",
    "\n",
    "In this case, the probability of rolling any specific number on the fair six-sided die is 1/6, and each outcome has an equal probability. The uniform distribution ensures that the probabilities of rolling 1, 2, 3, 4, 5, or 6 are all the same, making it a suitable model for this random experiment."
   ]
  },
  {
   "cell_type": "markdown",
   "id": "653e1865-3763-42b3-ac72-f1771a4dfb26",
   "metadata": {},
   "source": [
    "Q8: What is the z score? State the importance of the z score."
   ]
  },
  {
   "cell_type": "markdown",
   "id": "0848ea23-1cf5-40c6-89e1-02365658c09b",
   "metadata": {},
   "source": [
    "The Z-score, also known as the standard score or standardized value, is a statistical measure that quantifies how many standard deviations a data point is away from the mean of a dataset.\n",
    "\n",
    "The importance of the Z-score:\n",
    "\n",
    "1. Standardization: Z-score standardizes data, bringing it to a common scale with mean 0 and standard deviation 1, making comparisons easier.\n",
    "\n",
    "2. Relative Position: Z-score shows how far a data point is from the mean in terms of standard deviations.\n",
    "\n",
    "3. Outlier Detection: Z-scores help identify outliers as values significantly above or below the typical range.\n",
    "\n",
    "4. Probability Estimation: Z-scores estimate probabilities in normal distributions, crucial for data analysis.\n",
    "\n",
    "5. Hypothesis Testing: Z-scores determine the statistical significance of sample means and other statistics.\n",
    "\n",
    "6. Data Transformation: Z-scores are useful for normalizing data and creating standard scores in various analyses."
   ]
  },
  {
   "cell_type": "markdown",
   "id": "3d92d004-667b-4485-af1c-21cbf3061ed7",
   "metadata": {},
   "source": [
    "Q9: What is Central Limit Theorem? State the significance of the Central Limit Theorem."
   ]
  },
  {
   "cell_type": "markdown",
   "id": "a3bfa713-756e-4540-b923-ca2b495aa191",
   "metadata": {},
   "source": [
    "The CLT is a statistical theory that states that - if you take a sufficiently large sample size from a population with a finite level of variance, the mean of all samples from that population will be roughly equal to the population mean.\n",
    "The CLT tells us that if we take repeated samples from any population, the distribution of the sample means will be approximately normally distributed, even if the individual data points are not normally distributed.\n",
    "\n",
    "Significance of the Central Limit Theorem:\n",
    "\n",
    "1. Statistical Inference: The CLT allows us to make inferences about the population based on the properties of sample means. This is crucial when studying large populations where it may be impractical to collect data from the entire population.\n",
    "\n",
    "2. Hypothesis Testing: In hypothesis testing, the CLT is used to estimate the population mean and standard deviation, which is essential for hypothesis testing and confidence intervals.\n",
    "\n",
    "4. Robustness to Non-Normality: Even if the population is not normally distributed, the sample mean's distribution approaches normality with a sufficiently large sample size. This robustness allows us to use normal-based statistical methods in many practical situations.\n",
    "\n",
    "5. Real-World Applications: The CLT is widely used in various fields, such as social sciences, natural sciences, finance, and engineering, where data often exhibit complex distributions."
   ]
  },
  {
   "cell_type": "markdown",
   "id": "921686cf-1552-42eb-b207-1b93858036ba",
   "metadata": {},
   "source": [
    "Q10: State the assumptions of the Central Limit Theorem."
   ]
  },
  {
   "cell_type": "markdown",
   "id": "70ca2db5-bf07-4444-9c50-b65c7bc565cd",
   "metadata": {},
   "source": [
    "1. The data must adhere to the randomization rule. It needs to be sampled at random.\n",
    "2. The samples should be unrelated to one another. One sample should not impact the others.\n",
    "3. When taking samples without replacement, the sample size should not exceed 10% of the population.\n",
    "4. When the population is symmetric, a sample size of 30 is generally considered reasonable. "
   ]
  },
  {
   "cell_type": "code",
   "execution_count": null,
   "id": "933d34d0-9e68-4968-a7c5-58fccd70d0ec",
   "metadata": {},
   "outputs": [],
   "source": []
  }
 ],
 "metadata": {
  "kernelspec": {
   "display_name": "Python 3 (ipykernel)",
   "language": "python",
   "name": "python3"
  },
  "language_info": {
   "codemirror_mode": {
    "name": "ipython",
    "version": 3
   },
   "file_extension": ".py",
   "mimetype": "text/x-python",
   "name": "python",
   "nbconvert_exporter": "python",
   "pygments_lexer": "ipython3",
   "version": "3.10.8"
  }
 },
 "nbformat": 4,
 "nbformat_minor": 5
}
