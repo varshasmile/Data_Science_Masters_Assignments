{
 "cells": [
  {
   "cell_type": "markdown",
   "id": "7950ede0-a74f-48a8-9157-ed15da22390d",
   "metadata": {},
   "source": [
    "Q1. Which keyword is used to create a function? Create a function to return a list of odd numbers in the\n",
    "range of 1 to 25."
   ]
  },
  {
   "cell_type": "markdown",
   "id": "366c597d-6d3c-4a12-b055-e033d2aad100",
   "metadata": {},
   "source": [
    "The keyword used to create a function in Python is \"def\". \n",
    "Function that returns a list of odd numbers in the range of 1 to 25:"
   ]
  },
  {
   "cell_type": "code",
   "execution_count": 3,
   "id": "a7c97f67-7b58-42a2-8888-5999c0b662ee",
   "metadata": {},
   "outputs": [],
   "source": [
    "def odd_num():\n",
    "    '''Function that returns a list of odd numbers in the range of 1 to 25'''\n",
    "    odd_num = []\n",
    "    for i in range(1, 26):\n",
    "        if i%2!=0:\n",
    "            odd_num.append(i)\n",
    "    return odd_num"
   ]
  },
  {
   "cell_type": "code",
   "execution_count": 8,
   "id": "a3a6795e-4425-4b78-a4e9-729ee4e5855c",
   "metadata": {},
   "outputs": [
    {
     "data": {
      "text/plain": [
       "[1, 3, 5, 7, 9, 11, 13, 15, 17, 19, 21, 23, 25]"
      ]
     },
     "execution_count": 8,
     "metadata": {},
     "output_type": "execute_result"
    }
   ],
   "source": [
    "odd_num()     # Call the function"
   ]
  },
  {
   "cell_type": "markdown",
   "id": "f545c540-04b5-4b47-9e4c-7271ce41d7c5",
   "metadata": {},
   "source": [
    "Q2. Why *args and **kwargs is used in some functions? Create a function each for *args and **kwargs\n",
    "to demonstrate their use."
   ]
  },
  {
   "cell_type": "markdown",
   "id": "bae44d64-ee58-4acd-945d-08b845df5da3",
   "metadata": {},
   "source": [
    "The *args parameter allows you to pass any number of arguments (zero or more) to the function. Inside the function, args becomes a tuple containing all the arguments passed. Example:"
   ]
  },
  {
   "cell_type": "code",
   "execution_count": 9,
   "id": "2d3492f5-743a-4bae-b564-f7ae2c1f6bfc",
   "metadata": {},
   "outputs": [
    {
     "data": {
      "text/plain": [
       "22"
      ]
     },
     "execution_count": 9,
     "metadata": {},
     "output_type": "execute_result"
    }
   ],
   "source": [
    "def sum_numbers(*args):\n",
    "    result = 0\n",
    "    for num in args:\n",
    "        result += num\n",
    "    return result\n",
    "\n",
    "# Call the function\n",
    "sum_numbers(4, 5, 6, 7)"
   ]
  },
  {
   "cell_type": "markdown",
   "id": "f33ddd96-4074-4f97-9fba-459824c8133c",
   "metadata": {},
   "source": [
    "The **kwargs parameter allows you to pass any number of keyword arguments (zero or more) to the function. Inside the function, kwargs becomes a dictionary containing the keyword argument names as keys and their corresponding values. Example:"
   ]
  },
  {
   "cell_type": "code",
   "execution_count": 17,
   "id": "d3056053-eb23-4e70-8330-1708d479b86e",
   "metadata": {},
   "outputs": [
    {
     "name": "stdout",
     "output_type": "stream",
     "text": [
      "name: John\n",
      "age: 30\n",
      "city: Bhubaneshwar\n"
     ]
    }
   ],
   "source": [
    "def print_info(**kwargs):\n",
    "    for key, value in kwargs.items():\n",
    "        print(f\"{key}: {value}\")\n",
    "\n",
    "# Call the function\n",
    "print_info(name=\"John\", age=30, city=\"Bhubaneshwar\")"
   ]
  },
  {
   "cell_type": "markdown",
   "id": "e5236148-51d7-4868-8f8d-448777773caf",
   "metadata": {},
   "source": [
    "Q3. What is an iterator in python? Name the method used to initialise the iterator object and the method\n",
    "used for iteration. Use these methods to print the first five elements of the given list [2, 4, 6, 8, 10, 12, 14,\n",
    "16, 18, 20]."
   ]
  },
  {
   "cell_type": "markdown",
   "id": "c621e988-ae59-4403-b0bf-2109e06c9567",
   "metadata": {},
   "source": [
    "In Python, an iterator is an object that implements the iterator protocol, allows you to iterate over a sequence of elements, such as a list, tuple, or custom object.\n",
    "\n",
    "The __iter__() method is used to initialize the iterator object. It returns the iterator object itself and is called when the iterator is created.\n",
    "\n",
    "The __next__() method is used to retrieve the next element from the iterator. It returns the next element in the sequence"
   ]
  },
  {
   "cell_type": "code",
   "execution_count": 18,
   "id": "680acaa4-2647-499e-8720-733d055379bc",
   "metadata": {},
   "outputs": [
    {
     "name": "stdout",
     "output_type": "stream",
     "text": [
      "2\n",
      "4\n",
      "6\n",
      "8\n",
      "10\n"
     ]
    }
   ],
   "source": [
    "numbers = [2, 4, 6, 8, 10, 12, 14, 16, 18, 20]\n",
    "iterator = iter(numbers)\n",
    "\n",
    "for i in range(5):\n",
    "    element = next(iterator)\n",
    "    print(element)"
   ]
  },
  {
   "cell_type": "markdown",
   "id": "701ec315-0c4f-42f4-8fd7-88181ee0887b",
   "metadata": {},
   "source": [
    "Q4. What is a generator function in python? Why yield keyword is used? Give an example of a generator\n",
    "function."
   ]
  },
  {
   "cell_type": "markdown",
   "id": "f4d6d9f9-364b-46f1-b526-7211eff0ef16",
   "metadata": {},
   "source": [
    "In Python, a generator function is a special type of function that generates a sequence of values, one at a time, instead of returning a single value like a regular function.\n",
    "\n",
    "The yield keyword is used in a generator function to define a value that will be yielded (returned) each time the generator is iterated over.\n",
    "\n",
    "The key advantage of using a generator function is Generators save memory because they generate values on the fly, rather than creating and storing all values in memory at once.\n",
    "\n",
    "Here's an example of a generator function that generates the Fibonacci sequence:"
   ]
  },
  {
   "cell_type": "code",
   "execution_count": 20,
   "id": "a87e8d3a-4889-4da7-b856-77f7ba8cb074",
   "metadata": {},
   "outputs": [
    {
     "name": "stdout",
     "output_type": "stream",
     "text": [
      "0\n",
      "1\n",
      "1\n",
      "2\n",
      "3\n",
      "5\n",
      "8\n",
      "13\n",
      "21\n",
      "34\n"
     ]
    }
   ],
   "source": [
    "def fib():\n",
    "    a,b = 0,1\n",
    "    while True:\n",
    "        yield a\n",
    "        a,b = b,a+b\n",
    "\n",
    "# Create a generator object\n",
    "fib1 = fib() \n",
    "\n",
    "# Print the first 10 Fibonacci numbers\n",
    "for i in range(10):\n",
    "    print(next(fib1))"
   ]
  },
  {
   "cell_type": "markdown",
   "id": "37589038-adc5-45dc-b8e1-203302c5128b",
   "metadata": {},
   "source": [
    "Q5. Create a generator function for prime numbers less than 1000. Use the next() method to print the\n",
    "first 20 prime numbers."
   ]
  },
  {
   "cell_type": "code",
   "execution_count": 24,
   "id": "8f18353f-35e1-470d-a053-22e42e03ce52",
   "metadata": {},
   "outputs": [
    {
     "name": "stdout",
     "output_type": "stream",
     "text": [
      "2\n",
      "3\n",
      "5\n",
      "7\n",
      "11\n",
      "13\n",
      "17\n",
      "19\n",
      "23\n",
      "29\n",
      "31\n",
      "37\n",
      "41\n",
      "43\n",
      "47\n",
      "53\n",
      "59\n",
      "61\n",
      "67\n",
      "71\n"
     ]
    }
   ],
   "source": [
    "def generate_primes():\n",
    "    primes = []\n",
    "    num = 2\n",
    "    while True:\n",
    "        if all(num % p != 0 for p in primes):\n",
    "            primes.append(num)\n",
    "            yield num\n",
    "        num += 1\n",
    "\n",
    "# Create a generator object\n",
    "prime_gen = generate_primes()\n",
    "\n",
    "# Print the first 20 prime numbers\n",
    "for i in range(20):\n",
    "    prime = next(prime_gen)\n",
    "    print(prime)"
   ]
  },
  {
   "cell_type": "markdown",
   "id": "52aef2c9-f273-4699-b839-fa2e32458d5f",
   "metadata": {},
   "source": [
    "Q6. Write a python program to print the first 10 Fibonacci numbers using a while loop."
   ]
  },
  {
   "cell_type": "code",
   "execution_count": 26,
   "id": "4be99f73-a306-4b15-ae13-f4533797508c",
   "metadata": {},
   "outputs": [
    {
     "name": "stdout",
     "output_type": "stream",
     "text": [
      "0\n",
      "1\n",
      "1\n",
      "2\n",
      "3\n",
      "5\n",
      "8\n",
      "13\n",
      "21\n",
      "34\n"
     ]
    }
   ],
   "source": [
    "a, b = 0, 1\n",
    "count = 0\n",
    "\n",
    "while count < 10:\n",
    "    print(a)\n",
    "    a, b = b, a + b\n",
    "    count += 1"
   ]
  },
  {
   "cell_type": "markdown",
   "id": "fc3d1e48-52e1-4231-a2c6-13bd6613e51b",
   "metadata": {},
   "source": [
    "Q7. Write a List Comprehension to iterate through the given string: ‘pwskills’.\n",
    "Expected output: ['p', 'w', 's', 'k', 'i', 'l', 'l', 's']"
   ]
  },
  {
   "cell_type": "code",
   "execution_count": 29,
   "id": "2fe793e7-d871-4b20-938b-2823fbf64903",
   "metadata": {},
   "outputs": [
    {
     "data": {
      "text/plain": [
       "['p', 'w', 's', 'k', 'i', 'l', 'l', 's']"
      ]
     },
     "execution_count": 29,
     "metadata": {},
     "output_type": "execute_result"
    }
   ],
   "source": [
    "string = 'pwskills'\n",
    "result = [char for char in string]\n",
    "result"
   ]
  },
  {
   "cell_type": "markdown",
   "id": "dfea2331-380e-4b91-8dfc-e2d3098be11d",
   "metadata": {},
   "source": [
    "Q8. Write a python program to check whether a given number is Palindrome or not using a while loop."
   ]
  },
  {
   "cell_type": "code",
   "execution_count": 12,
   "id": "3a8b9989-e41b-4843-aebe-e35cc6606b31",
   "metadata": {},
   "outputs": [
    {
     "name": "stdin",
     "output_type": "stream",
     "text": [
      "Enter a sequence of numbers:  12321\n"
     ]
    },
    {
     "name": "stdout",
     "output_type": "stream",
     "text": [
      "True\n"
     ]
    }
   ],
   "source": [
    "num = int(input('Enter a sequence of numbers: '))\n",
    "def ispalindrome(num):\n",
    "    '''check whether a given number is Palindrome or not'''\n",
    "    number = num\n",
    "    reverse_num = 0\n",
    "    while number > 0:\n",
    "        remainder = number % 10\n",
    "        reverse_num = (reverse_num * 10) + remainder\n",
    "        number = number // 10\n",
    "    \n",
    "    if num == reverse_num:\n",
    "        return True\n",
    "    else: \n",
    "        return False  \n",
    "    \n",
    "print(ispalindrome(num))"
   ]
  },
  {
   "cell_type": "markdown",
   "id": "72a2df8a-f314-463f-8ac3-becadb8f25a1",
   "metadata": {},
   "source": [
    "Q9. Write a code to print odd numbers from 1 to 100 using list comprehension.\n",
    "Note: Use a list comprehension to create a list from 1 to 100 and use another List comprehension to filter\n",
    "out odd numbers."
   ]
  },
  {
   "cell_type": "code",
   "execution_count": 20,
   "id": "8ba89988-2157-4593-9bc7-250672efd1bf",
   "metadata": {},
   "outputs": [
    {
     "name": "stdout",
     "output_type": "stream",
     "text": [
      "[1, 3, 5, 7, 9, 11, 13, 15, 17, 19, 21, 23, 25, 27, 29, 31, 33, 35, 37, 39, 41, 43, 45, 47, 49, 51, 53, 55, 57, 59, 61, 63, 65, 67, 69, 71, 73, 75, 77, 79, 81, 83, 85, 87, 89, 91, 93, 95, 97, 99]\n"
     ]
    }
   ],
   "source": [
    "numbers = [num for num in range(1, 101)]\n",
    "odd_nums = [x for x in numbers if x%2!=0]\n",
    "print(odd_nums)"
   ]
  },
  {
   "cell_type": "code",
   "execution_count": null,
   "id": "829528e8-56f8-44fc-9c81-f5213a7f0f58",
   "metadata": {},
   "outputs": [],
   "source": []
  }
 ],
 "metadata": {
  "kernelspec": {
   "display_name": "Python 3 (ipykernel)",
   "language": "python",
   "name": "python3"
  },
  "language_info": {
   "codemirror_mode": {
    "name": "ipython",
    "version": 3
   },
   "file_extension": ".py",
   "mimetype": "text/x-python",
   "name": "python",
   "nbconvert_exporter": "python",
   "pygments_lexer": "ipython3",
   "version": "3.10.8"
  }
 },
 "nbformat": 4,
 "nbformat_minor": 5
}
