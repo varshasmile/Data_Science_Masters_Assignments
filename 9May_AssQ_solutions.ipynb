{
 "cells": [
  {
   "cell_type": "markdown",
   "id": "63aea9f9-824a-45be-b357-12d53006ab46",
   "metadata": {},
   "source": [
    "Q1."
   ]
  },
  {
   "cell_type": "code",
   "execution_count": 1,
   "id": "bc467307-69fc-481b-bf4c-e3bf1653ba86",
   "metadata": {},
   "outputs": [],
   "source": [
    "a = 'apple'"
   ]
  },
  {
   "cell_type": "code",
   "execution_count": 2,
   "id": "a951b815-8397-4d08-8478-bfdb12fb8e99",
   "metadata": {},
   "outputs": [
    {
     "data": {
      "text/plain": [
       "str"
      ]
     },
     "execution_count": 2,
     "metadata": {},
     "output_type": "execute_result"
    }
   ],
   "source": [
    "type(a)"
   ]
  },
  {
   "cell_type": "code",
   "execution_count": 3,
   "id": "cd4cce35-3d6c-494f-a7c2-33795575d4ec",
   "metadata": {},
   "outputs": [],
   "source": [
    "li = [1,2,3,'mango',True,4.5]"
   ]
  },
  {
   "cell_type": "code",
   "execution_count": 4,
   "id": "bd549af2-37f6-4c99-9f97-7a02e641db7a",
   "metadata": {},
   "outputs": [
    {
     "data": {
      "text/plain": [
       "list"
      ]
     },
     "execution_count": 4,
     "metadata": {},
     "output_type": "execute_result"
    }
   ],
   "source": [
    "type(li)"
   ]
  },
  {
   "cell_type": "code",
   "execution_count": 5,
   "id": "5d13fad1-758d-4e2a-ac3d-280e1c0e71c6",
   "metadata": {},
   "outputs": [],
   "source": [
    "b = 9.56"
   ]
  },
  {
   "cell_type": "code",
   "execution_count": 6,
   "id": "2544cdea-ba0c-4187-bc6e-283b5934d82c",
   "metadata": {},
   "outputs": [
    {
     "data": {
      "text/plain": [
       "float"
      ]
     },
     "execution_count": 6,
     "metadata": {},
     "output_type": "execute_result"
    }
   ],
   "source": [
    "type(b)"
   ]
  },
  {
   "cell_type": "code",
   "execution_count": 7,
   "id": "dd263824-494c-4f54-8a5b-2d044090b0ca",
   "metadata": {},
   "outputs": [],
   "source": [
    "tup = (1,2,3.5,True)"
   ]
  },
  {
   "cell_type": "code",
   "execution_count": 8,
   "id": "b7ebf33b-3a47-4346-8e32-0912eb169b62",
   "metadata": {},
   "outputs": [
    {
     "data": {
      "text/plain": [
       "tuple"
      ]
     },
     "execution_count": 8,
     "metadata": {},
     "output_type": "execute_result"
    }
   ],
   "source": [
    "type(tup)"
   ]
  },
  {
   "cell_type": "markdown",
   "id": "c97d26e7-2574-48f2-9aad-f99df50117c7",
   "metadata": {},
   "source": [
    "Q2."
   ]
  },
  {
   "cell_type": "code",
   "execution_count": 11,
   "id": "3363eea8-833f-4175-b986-9fb759ab7a2a",
   "metadata": {},
   "outputs": [
    {
     "data": {
      "text/plain": [
       "str"
      ]
     },
     "execution_count": 11,
     "metadata": {},
     "output_type": "execute_result"
    }
   ],
   "source": [
    "var1 = ' '\n",
    "type(var1)"
   ]
  },
  {
   "cell_type": "code",
   "execution_count": 12,
   "id": "5b2de955-7f71-4f01-b51c-92ffaaed2cce",
   "metadata": {},
   "outputs": [
    {
     "data": {
      "text/plain": [
       "str"
      ]
     },
     "execution_count": 12,
     "metadata": {},
     "output_type": "execute_result"
    }
   ],
   "source": [
    "var2 = '[ DS , ML , Python]'\n",
    "type(var2)"
   ]
  },
  {
   "cell_type": "code",
   "execution_count": 1,
   "id": "916b1f61-af26-433e-bd77-9779dedba15a",
   "metadata": {},
   "outputs": [
    {
     "data": {
      "text/plain": [
       "list"
      ]
     },
     "execution_count": 1,
     "metadata": {},
     "output_type": "execute_result"
    }
   ],
   "source": [
    "var3 = [ 'DS' , 'ML' , 'Python' ]\n",
    "type(var3)"
   ]
  },
  {
   "cell_type": "code",
   "execution_count": 2,
   "id": "c2df8b12-7efb-41a9-94ae-57726e287618",
   "metadata": {},
   "outputs": [
    {
     "data": {
      "text/plain": [
       "int"
      ]
     },
     "execution_count": 2,
     "metadata": {},
     "output_type": "execute_result"
    }
   ],
   "source": [
    "var4 = 1\n",
    "type(var4)"
   ]
  },
  {
   "cell_type": "markdown",
   "id": "c56b9518-73be-47a7-8bff-77f435350a82",
   "metadata": {},
   "source": [
    "Q3."
   ]
  },
  {
   "cell_type": "markdown",
   "id": "0b3acd8e-185e-4754-a351-4802f609bc13",
   "metadata": {},
   "source": [
    "The / operator is used for division. It returns the quotient of the division operation."
   ]
  },
  {
   "cell_type": "code",
   "execution_count": 3,
   "id": "d0e63a55-bc04-4967-8d79-f1feb95fb97e",
   "metadata": {},
   "outputs": [
    {
     "name": "stdout",
     "output_type": "stream",
     "text": [
      "3.3333333333333335\n"
     ]
    }
   ],
   "source": [
    "a = 10\n",
    "b = 3\n",
    "c = a / b\n",
    "print(c)"
   ]
  },
  {
   "cell_type": "markdown",
   "id": "e74fb851-3e18-4829-b239-23d3cbb3e51f",
   "metadata": {},
   "source": [
    "The % operator is used for modulo operation. It returns the remainder of the division operation."
   ]
  },
  {
   "cell_type": "code",
   "execution_count": 5,
   "id": "a65157c0-6bc0-42f4-b2af-a29327d3470a",
   "metadata": {},
   "outputs": [
    {
     "name": "stdout",
     "output_type": "stream",
     "text": [
      "1\n"
     ]
    }
   ],
   "source": [
    "a = 10\n",
    "b = 3\n",
    "c = a % b\n",
    "print(c)"
   ]
  },
  {
   "cell_type": "markdown",
   "id": "58e5d60d-2d19-46da-81e7-5bb1a33af546",
   "metadata": {},
   "source": [
    "The // operator is used for integer division. It returns the quotient of the division operation, but rounded down to the nearest integer."
   ]
  },
  {
   "cell_type": "code",
   "execution_count": 6,
   "id": "8e3f7f50-2062-4258-8b29-ec0c1e25cdf6",
   "metadata": {},
   "outputs": [
    {
     "name": "stdout",
     "output_type": "stream",
     "text": [
      "3\n"
     ]
    }
   ],
   "source": [
    "a = 10\n",
    "b = 3\n",
    "c = a // b\n",
    "print(c)"
   ]
  },
  {
   "cell_type": "markdown",
   "id": "47132587-689b-4242-9a1d-f8b5197682b6",
   "metadata": {},
   "source": [
    "The ** operator is used for exponentiation. It returns the result of raising a number to a given power."
   ]
  },
  {
   "cell_type": "code",
   "execution_count": 7,
   "id": "ac241612-2381-4385-b9e9-0ad39a38563a",
   "metadata": {},
   "outputs": [
    {
     "name": "stdout",
     "output_type": "stream",
     "text": [
      "8\n"
     ]
    }
   ],
   "source": [
    "a = 2\n",
    "b = 3\n",
    "c = a ** b\n",
    "print(c)"
   ]
  },
  {
   "cell_type": "markdown",
   "id": "078a96d2-1773-4000-8f6d-d627c66ff31a",
   "metadata": {},
   "source": [
    "Q4."
   ]
  },
  {
   "cell_type": "code",
   "execution_count": 8,
   "id": "24cb6d3d-505d-43b5-8a93-5d2805d044c4",
   "metadata": {},
   "outputs": [
    {
     "name": "stdout",
     "output_type": "stream",
     "text": [
      "1 <class 'int'>\n",
      "2 <class 'int'>\n",
      "3 <class 'int'>\n",
      "4 <class 'int'>\n",
      "5 <class 'int'>\n",
      "6.7 <class 'float'>\n",
      "True <class 'bool'>\n",
      "(2+5j) <class 'complex'>\n",
      "home <class 'str'>\n",
      "cat <class 'str'>\n"
     ]
    }
   ],
   "source": [
    "l1 = [1,2,3,4,5,6.7,True,2+5j,'home','cat']\n",
    "for i in l1:\n",
    "    print(i, type(i))"
   ]
  },
  {
   "cell_type": "markdown",
   "id": "46aecef0-e4b4-4f25-94c0-7acde230690e",
   "metadata": {},
   "source": [
    "Q5."
   ]
  },
  {
   "cell_type": "code",
   "execution_count": 13,
   "id": "0acd4ebc-b806-4add-a9cb-bbacd900574f",
   "metadata": {},
   "outputs": [
    {
     "name": "stdin",
     "output_type": "stream",
     "text": [
      " 27\n",
      " 3\n"
     ]
    },
    {
     "name": "stdout",
     "output_type": "stream",
     "text": [
      "Number A is divisible by Number B 3 times.\n"
     ]
    }
   ],
   "source": [
    "A = int(input())\n",
    "B = int(input())\n",
    "count = 0\n",
    "\n",
    "while A%B==0:\n",
    "    count +=1\n",
    "    A/=B\n",
    "    \n",
    "if count>0:\n",
    "    print(f\"Number A is divisible by Number B {count} times.\")\n",
    "else:\n",
    "    print(f\"Number A is not divisible by Number B.\")"
   ]
  },
  {
   "cell_type": "markdown",
   "id": "990f68d7-15ac-488f-bc14-d43e973fb9a4",
   "metadata": {},
   "source": [
    "Q6."
   ]
  },
  {
   "cell_type": "code",
   "execution_count": 17,
   "id": "2fe3d972-59a4-41fb-9dbe-a381a15ce00d",
   "metadata": {},
   "outputs": [
    {
     "name": "stdout",
     "output_type": "stream",
     "text": [
      "7 is not divisible by 3\n",
      "12 is divisible by 3\n",
      "8 is not divisible by 3\n",
      "21 is divisible by 3\n",
      "30 is divisible by 3\n",
      "16 is not divisible by 3\n",
      "9 is divisible by 3\n",
      "2 is not divisible by 3\n",
      "25 is not divisible by 3\n",
      "6 is divisible by 3\n",
      "18 is divisible by 3\n",
      "1 is not divisible by 3\n",
      "27 is divisible by 3\n",
      "14 is not divisible by 3\n",
      "3 is divisible by 3\n",
      "5 is not divisible by 3\n",
      "20 is not divisible by 3\n",
      "22 is not divisible by 3\n",
      "11 is not divisible by 3\n",
      "13 is not divisible by 3\n",
      "24 is divisible by 3\n",
      "17 is not divisible by 3\n",
      "4 is not divisible by 3\n",
      "19 is not divisible by 3\n",
      "10 is not divisible by 3\n"
     ]
    }
   ],
   "source": [
    "l2 = my_list = [7, 12, 8, 21, 30, 16, 9, 2, 25, 6, 18, 1, 27, 14, 3, 5, 20, 22, 11, 13, 24, 17, 4, 19, 10]\n",
    "for i in l2:\n",
    "    if i%3==0:\n",
    "        print(f'{i} is divisible by 3')\n",
    "    else:\n",
    "        print(f'{i} is not divisible by 3')"
   ]
  },
  {
   "cell_type": "markdown",
   "id": "4863252e-388c-49ec-b948-260651856661",
   "metadata": {},
   "source": [
    "Q7. "
   ]
  },
  {
   "cell_type": "markdown",
   "id": "cc6c1738-5ee4-42c4-a3cd-8159a6f7fa9e",
   "metadata": {},
   "source": [
    "Immutable datatypes are objects that cannot be modified or altered after they have been created. Examples of immutable data types include strings & tuples."
   ]
  },
  {
   "cell_type": "code",
   "execution_count": 21,
   "id": "4c51fcec-bdea-4cc7-814c-69094177bd0a",
   "metadata": {},
   "outputs": [
    {
     "name": "stdout",
     "output_type": "stream",
     "text": [
      "<class 'str'>\n",
      "hello\n"
     ]
    }
   ],
   "source": [
    "s = \"hello\"\n",
    "print(type(s))\n",
    "print(s)"
   ]
  },
  {
   "cell_type": "code",
   "execution_count": 19,
   "id": "5fa71c43-3ad1-49b8-a5fd-83370a718284",
   "metadata": {},
   "outputs": [
    {
     "ename": "TypeError",
     "evalue": "'str' object does not support item assignment",
     "output_type": "error",
     "traceback": [
      "\u001b[0;31m---------------------------------------------------------------------------\u001b[0m",
      "\u001b[0;31mTypeError\u001b[0m                                 Traceback (most recent call last)",
      "Cell \u001b[0;32mIn[19], line 1\u001b[0m\n\u001b[0;32m----> 1\u001b[0m \u001b[43ms\u001b[49m\u001b[43m[\u001b[49m\u001b[38;5;241;43m1\u001b[39;49m\u001b[43m]\u001b[49m\u001b[38;5;241m=\u001b[39m\u001b[38;5;124m'\u001b[39m\u001b[38;5;124mo\u001b[39m\u001b[38;5;124m'\u001b[39m\n\u001b[1;32m      2\u001b[0m \u001b[38;5;28mprint\u001b[39m(s)\n",
      "\u001b[0;31mTypeError\u001b[0m: 'str' object does not support item assignment"
     ]
    }
   ],
   "source": [
    "s[1]='o'\n",
    "print(s)"
   ]
  },
  {
   "cell_type": "markdown",
   "id": "2da3a832-d406-4ca6-bc07-ceb96da5cffe",
   "metadata": {},
   "source": [
    "Mutable data types are those whose values can be changed or new values can be assigned to them. Examples include lists, dictionaries, and sets are mutable."
   ]
  },
  {
   "cell_type": "code",
   "execution_count": 22,
   "id": "8dc66546-7012-4d7c-9c97-82578f5342a3",
   "metadata": {},
   "outputs": [
    {
     "name": "stdout",
     "output_type": "stream",
     "text": [
      "[1, 2, 3, 4]\n"
     ]
    }
   ],
   "source": [
    "my_list = [1, 2, 3, 4]\n",
    "print(my_list)\n"
   ]
  },
  {
   "cell_type": "code",
   "execution_count": 23,
   "id": "c2de0f3d-da2a-4072-994e-9e6d36f58a8d",
   "metadata": {},
   "outputs": [
    {
     "name": "stdout",
     "output_type": "stream",
     "text": [
      "[1, 2, 5, 4]\n"
     ]
    }
   ],
   "source": [
    "my_list[2] = 5\n",
    "print(my_list)"
   ]
  },
  {
   "cell_type": "code",
   "execution_count": null,
   "id": "1ad28084-dcd3-4d91-b1ca-4380d2b4dec6",
   "metadata": {},
   "outputs": [],
   "source": []
  }
 ],
 "metadata": {
  "kernelspec": {
   "display_name": "Python 3 (ipykernel)",
   "language": "python",
   "name": "python3"
  },
  "language_info": {
   "codemirror_mode": {
    "name": "ipython",
    "version": 3
   },
   "file_extension": ".py",
   "mimetype": "text/x-python",
   "name": "python",
   "nbconvert_exporter": "python",
   "pygments_lexer": "ipython3",
   "version": "3.10.8"
  }
 },
 "nbformat": 4,
 "nbformat_minor": 5
}
