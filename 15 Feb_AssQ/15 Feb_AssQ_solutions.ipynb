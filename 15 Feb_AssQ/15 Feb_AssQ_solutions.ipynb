{
 "cells": [
  {
   "cell_type": "code",
   "execution_count": 1,
   "id": "fdef517c-b20d-493d-a717-014f1b61b22c",
   "metadata": {},
   "outputs": [],
   "source": [
    "import logging\n",
    "\n",
    "logging.basicConfig(filename='Multiprocessing.log', level=logging.DEBUG, format='%(asctime)s %(name)s %(levelname)s %(message)s')"
   ]
  },
  {
   "cell_type": "markdown",
   "id": "2f5b310f-031e-49a1-b57f-8ba305758e47",
   "metadata": {},
   "source": [
    "Q1. What is multiprocessing in python? Why is it useful?"
   ]
  },
  {
   "cell_type": "markdown",
   "id": "f94ca51b-1ece-4f94-bb6b-5291a014265e",
   "metadata": {},
   "source": [
    "Multiprocessing in Python refers to the ability to run multiple processes simultaneously. It allows for the execution of multiple tasks in parallel, taking advantage of multiple CPU cores or even multiple CPUs.\n",
    "\n",
    "Uses:\n",
    "\n",
    "Multiprocessing in Python allows running multiple processes simultaneously.\n",
    "It improves performance by utilizing multiple CPU cores or CPUs.\n",
    "It increases throughput by handling multiple tasks concurrently.\n",
    "It provides resource isolation by giving each process its own memory space.\n",
    "It offers fault-tolerance by preventing errors or crashes in one process from affecting others.\n",
    "It enhances the performance of applications on multi-core systems.\n",
    "It is beneficial for parallel computing and leveraging available computing resources efficiently."
   ]
  },
  {
   "cell_type": "markdown",
   "id": "86dbb35b-a60b-4adb-85a9-d123da4f3de7",
   "metadata": {},
   "source": [
    "Q2. What are the differences between multiprocessing and multithreading?"
   ]
  },
  {
   "cell_type": "markdown",
   "id": "e56a49b6-776f-47e8-b5b0-07638d2eefc5",
   "metadata": {},
   "source": [
    "Multithreading:\n",
    "\n",
    "i. Multithreading is the concurrent execution of multiple threads within the same process.\n",
    "\n",
    "ii. Threads within a process share the same memory space.\n",
    "\n",
    "iii. Communication between threads is faster and more efficient.\n",
    "\n",
    "iv.Multithreading is suitable for I/O-bound tasks and situations where shared memory is required.\n",
    "\n",
    "Multiprocessing:\n",
    "\n",
    "i. Multiprocessing is the concurrent execution of multiple processes.\n",
    "\n",
    "ii. Processes have separate memory spaces and do not share memory directly.\n",
    "\n",
    "iii. Communication between processes requires inter-process communication mechanisms.\n",
    "\n",
    "iv. Multiprocessing is suitable for CPU-bound tasks and situations where isolation between processes is required."
   ]
  },
  {
   "cell_type": "markdown",
   "id": "f3438406-c3c2-450b-a66a-b30d60cc398f",
   "metadata": {},
   "source": [
    "Q3. Write a python code to create a process using the multiprocessing module."
   ]
  },
  {
   "cell_type": "code",
   "execution_count": 2,
   "id": "efcf141d-f994-4973-81fd-d3f6ee9feb9e",
   "metadata": {},
   "outputs": [],
   "source": [
    "logging.info('Question No. 3: ')\n",
    "\n",
    "import multiprocessing\n",
    "\n",
    "logging.info('Defining a function to calculate the square of a number')\n",
    "def square(num):\n",
    "    result = num ** 2\n",
    "    logging.info(f\"The square of {num} is {result}\")\n",
    "    \n",
    "if __name__ == '__main__':\n",
    "    logging.info('we create a multiprocessing.Process object and pass the square function as the target and argument num as a tuple using the args parameter')\n",
    "    m = multiprocessing.Process(target=square, args=(5,))\n",
    "    logging.info('we start the process using m.start() and wait for it to finish using m.join()')\n",
    "    m.start()\n",
    "    m.join()"
   ]
  },
  {
   "cell_type": "markdown",
   "id": "acdeb60c-3d98-4fc4-8544-ecaa17a363f1",
   "metadata": {},
   "source": [
    "Q4. What is a multiprocessing pool in python? Why is it used?"
   ]
  },
  {
   "cell_type": "markdown",
   "id": "1aa69286-96ba-46c3-b050-1d827518b390",
   "metadata": {},
   "source": [
    "A multiprocessing pool in Python is a mechanism provided by the multiprocessing module that allows for the efficient execution of a function across multiple processes. It creates a pool of worker processes that can execute tasks in parallel, distributing the workload among them.\n",
    "\n",
    "The use of a multiprocessing pool is that it enables concurrent processing, improving the overall performance and reducing the execution time of tasks that can be executed independently. It is particularly useful for computationally intensive or I/O-bound tasks where parallel execution can significantly speed up the process."
   ]
  },
  {
   "cell_type": "markdown",
   "id": "d1c2fe21-dd8f-4b82-bc34-8ec5a8ab0095",
   "metadata": {},
   "source": [
    "Q5. How can we create a pool of worker processes in python using the multiprocessing module?"
   ]
  },
  {
   "cell_type": "markdown",
   "id": "7db3c2c6-2e47-4dbe-af62-7b8c5c8882cf",
   "metadata": {},
   "source": [
    "1. Import the multiprocessing module\n",
    "2. Define the function that will be executed by the worker processes\n",
    "3. Create a Pool object with the desired number of processes\n",
    "4. Submit tasks to the pool for processing using the  map method\n",
    "5. Retrieve the results of the tasks\n",
    "6. Finally, close the pool to prevent any more tasks from being submitted and wait for the worker processes to complete"
   ]
  },
  {
   "cell_type": "markdown",
   "id": "0a6e7904-6b29-4695-a715-720ddbc0aded",
   "metadata": {},
   "source": [
    "Example:"
   ]
  },
  {
   "cell_type": "code",
   "execution_count": 3,
   "id": "b8ba0c65-8e0f-48e6-a1db-90bc02646482",
   "metadata": {},
   "outputs": [],
   "source": [
    "logging.info('Question No. 5: ')\n",
    "\n",
    "import multiprocessing\n",
    "\n",
    "logging.info('Defining a function sq_root to calculate sq root of list of numbers.')\n",
    "def sq_root(n):\n",
    "    return n**0.5\n",
    "\n",
    "logging.info('creating a Pool object with 3 processes')\n",
    "if __name__ == '__main__':\n",
    "    with multiprocessing.Pool(processes=3) as pool:\n",
    "        logging.info('Submit function sq_root to the pool')\n",
    "        output = pool.map(sq_root, [4,9,16,25,36])\n",
    "\n",
    "        logging.info(\"Final Results: %s\", output)\n",
    "\n",
    "        logging.info('Close the pool and wait for all processes to finish')\n",
    "        pool.close()\n",
    "        pool.join()"
   ]
  },
  {
   "cell_type": "markdown",
   "id": "219979b9-d875-460e-b2b3-567e111c8921",
   "metadata": {},
   "source": [
    "Q6. Write a python program to create 4 processes, each process should print a different number using the\n",
    "multiprocessing module in python."
   ]
  },
  {
   "cell_type": "code",
   "execution_count": 4,
   "id": "4e37c6d2-d4e0-404b-81cf-256da27b26ae",
   "metadata": {},
   "outputs": [],
   "source": [
    "logging.info('Question No. 6: ')\n",
    "\n",
    "import multiprocessing\n",
    "\n",
    "logging.info('Defining a function print_num to print a number.')\n",
    "def print_num(n):\n",
    "    logging.info(f'The number is {n}')\n",
    "    \n",
    "if __name__=='__main__':\n",
    "    logging.info('define a list of 4 numbers that we want each process to print.')\n",
    "    numbers = [1,2,3,4]\n",
    "    logging.info('create an empty list (processes) to store the Process objects for each process.')\n",
    "    processes = []\n",
    "    \n",
    "    for n in numbers:\n",
    "        logging.info(f'Inside for loop, specifying the target function (print_number) and passing the current number {n} as an argument.')\n",
    "        process = multiprocessing.Process(target=print_num, args=(n,))\n",
    "        logging.info(f'created process {process} is appended to the processes list.')\n",
    "        processes.append(process)\n",
    "        logging.info('using the start method, initiates the execution in separate process')\n",
    "        process.start()\n",
    "        \n",
    "    for process in processes:\n",
    "        logging.info('Inside for loop, iterate over the processes list and call the join '+str(process))\n",
    "        process.join()"
   ]
  },
  {
   "cell_type": "code",
   "execution_count": null,
   "id": "a245ffb0-61f6-4736-9369-d8cf0c75ed99",
   "metadata": {},
   "outputs": [],
   "source": []
  }
 ],
 "metadata": {
  "kernelspec": {
   "display_name": "Python 3 (ipykernel)",
   "language": "python",
   "name": "python3"
  },
  "language_info": {
   "codemirror_mode": {
    "name": "ipython",
    "version": 3
   },
   "file_extension": ".py",
   "mimetype": "text/x-python",
   "name": "python",
   "nbconvert_exporter": "python",
   "pygments_lexer": "ipython3",
   "version": "3.10.8"
  }
 },
 "nbformat": 4,
 "nbformat_minor": 5
}
