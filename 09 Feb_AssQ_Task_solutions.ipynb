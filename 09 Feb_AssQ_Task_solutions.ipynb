{
 "cells": [
  {
   "cell_type": "markdown",
   "id": "e986f5aa-7203-413e-adff-b5f2d968ea07",
   "metadata": {},
   "source": [
    "Q1, Create a vehicle class with an init method having instance variables as name_of_vehicle, max_speed\n",
    "and average_of_vehicle."
   ]
  },
  {
   "cell_type": "code",
   "execution_count": 1,
   "id": "88334bdc-6dac-42b4-99b8-fdc7ed0d5853",
   "metadata": {},
   "outputs": [],
   "source": [
    "class vehicle:\n",
    "    def __init__(self, name_of_vehicle, max_speed, average_of_vehicle):\n",
    "        self.name_of_vehicle = name_of_vehicle\n",
    "        self.max_speed = max_speed\n",
    "        self.average_of_vehicle = average_of_vehicle"
   ]
  },
  {
   "cell_type": "markdown",
   "id": "65915b0e-f6fb-48f5-a8c0-bec7bed99ce7",
   "metadata": {},
   "source": [
    "Q2. Create a child class car from the vehicle class created in Que 1, which will inherit the vehicle class.\n",
    "Create a method named seating_capacity which takes capacity as an argument and returns the name of\n",
    "the vehicle and its seating capacity."
   ]
  },
  {
   "cell_type": "code",
   "execution_count": 13,
   "id": "f3428888-42ff-457c-a6ac-66d6f6ede63c",
   "metadata": {},
   "outputs": [],
   "source": [
    "class car(vehicle):\n",
    "    def seating_capacity(self, capacity):\n",
    "        print(f\"{self.name_of_vehicle} has a seating capacity of {capacity}.\")"
   ]
  },
  {
   "cell_type": "code",
   "execution_count": 14,
   "id": "9aecd7cc-d629-4fdf-b5f4-51d6db445c9b",
   "metadata": {},
   "outputs": [],
   "source": [
    "car1 = car('Maruti', 200, 40)"
   ]
  },
  {
   "cell_type": "code",
   "execution_count": 15,
   "id": "e7e32672-c84d-499b-8590-2afd67d856ec",
   "metadata": {},
   "outputs": [
    {
     "name": "stdout",
     "output_type": "stream",
     "text": [
      "Maruti has a seating capacity of 5.\n"
     ]
    }
   ],
   "source": [
    "car1.seating_capacity(5)"
   ]
  },
  {
   "cell_type": "markdown",
   "id": "4046b0c2-ac17-412c-aab8-9ff3541873b8",
   "metadata": {},
   "source": [
    "Q3. What is multiple inheritance? Write a python code to demonstrate multiple inheritance."
   ]
  },
  {
   "cell_type": "markdown",
   "id": "9c706f6a-b210-4315-b3f0-a254c746c103",
   "metadata": {},
   "source": [
    "Multiple inheritance is a feature in object-oriented programming where a class can inherit attributes and methods from multiple parent classes. Python code to demonstrate multiple inheritance:"
   ]
  },
  {
   "cell_type": "code",
   "execution_count": 38,
   "id": "e5f99f80-9e2d-4626-9b1b-c33da98cf54a",
   "metadata": {},
   "outputs": [],
   "source": [
    "class Animal:                                      #parent class\n",
    "    def __init__(self, name):\n",
    "        self.name = name\n",
    "        \n",
    "    def speak(self):\n",
    "        print(f\"{self.name} is making a sound.\")"
   ]
  },
  {
   "cell_type": "code",
   "execution_count": 39,
   "id": "cd75b305-7765-40b5-aae3-a90cd4e143ee",
   "metadata": {},
   "outputs": [],
   "source": [
    "class Fly:                                          #parent class\n",
    "    def fly(self):\n",
    "        print(f\"{self.name} is flying.\")\n",
    "        "
   ]
  },
  {
   "cell_type": "code",
   "execution_count": 40,
   "id": "21ea77bf-85ba-406a-829e-0c22ff887de5",
   "metadata": {},
   "outputs": [],
   "source": [
    "class Bird(Animal, Fly):                             #child class\n",
    "    pass"
   ]
  },
  {
   "cell_type": "code",
   "execution_count": 41,
   "id": "549be8ea-0e09-4958-9a3f-5bc1dd20e9ce",
   "metadata": {},
   "outputs": [],
   "source": [
    "Bird1 = Bird('Sparrow')"
   ]
  },
  {
   "cell_type": "code",
   "execution_count": 42,
   "id": "9b9138d9-0d31-4a86-8c0c-8e2876b2baeb",
   "metadata": {},
   "outputs": [
    {
     "name": "stdout",
     "output_type": "stream",
     "text": [
      "Sparrow is making a sound.\n"
     ]
    }
   ],
   "source": [
    "Bird1.speak()"
   ]
  },
  {
   "cell_type": "code",
   "execution_count": 43,
   "id": "d3a16184-15ce-49a5-a37d-04eca5419996",
   "metadata": {},
   "outputs": [
    {
     "name": "stdout",
     "output_type": "stream",
     "text": [
      "Sparrow is flying.\n"
     ]
    }
   ],
   "source": [
    "Bird1.fly()"
   ]
  },
  {
   "cell_type": "markdown",
   "id": "b46fd6a6-b988-4735-a95d-2cdf1516ba8c",
   "metadata": {},
   "source": [
    "Q4. What are getter and setter in python? Create a class and create a getter and a setter method in this\n",
    "class."
   ]
  },
  {
   "cell_type": "markdown",
   "id": "fd59003b-fff9-4603-a5b1-90ddd9bffdc6",
   "metadata": {},
   "source": [
    "Getter: A method that allows you to access an attribute in a given class. \n",
    "Setter: A method that allows you to set or change the value of an attribute in a class.\n",
    "Getters and setters in object-oriented programs is to ensure data encapsulation."
   ]
  },
  {
   "cell_type": "code",
   "execution_count": 44,
   "id": "2130ad8e-6370-475b-bfea-514bd8a42450",
   "metadata": {},
   "outputs": [],
   "source": [
    "class Person:\n",
    "    def __init__(self, name, gender, age):\n",
    "        self.__name = name\n",
    "        self.__gender = gender\n",
    "        self.__age = age\n",
    "        \n",
    "    def set_age(self, age):\n",
    "        self.__age = 0 if age < 0 else age\n",
    "        \n",
    "    def get_age(self):\n",
    "        return self.__age"
   ]
  },
  {
   "cell_type": "code",
   "execution_count": 45,
   "id": "da52e297-31f1-4642-a7b3-066693d73719",
   "metadata": {},
   "outputs": [],
   "source": [
    "P1 = Person('Rahul', 'male', 23)"
   ]
  },
  {
   "cell_type": "code",
   "execution_count": 46,
   "id": "f88f5dc7-d60c-45e6-9421-10a28c581587",
   "metadata": {},
   "outputs": [],
   "source": [
    "P1.set_age(-1)"
   ]
  },
  {
   "cell_type": "code",
   "execution_count": 47,
   "id": "514df9b2-d87a-4e49-a16d-69570b1e3fce",
   "metadata": {},
   "outputs": [
    {
     "data": {
      "text/plain": [
       "0"
      ]
     },
     "execution_count": 47,
     "metadata": {},
     "output_type": "execute_result"
    }
   ],
   "source": [
    "P1.get_age()"
   ]
  },
  {
   "cell_type": "code",
   "execution_count": 48,
   "id": "a3afbfa6-d9d6-42de-995d-635dbb509940",
   "metadata": {},
   "outputs": [],
   "source": [
    "P1.set_age(25)"
   ]
  },
  {
   "cell_type": "code",
   "execution_count": 49,
   "id": "8f64864d-205a-4f63-857a-9a04570e363f",
   "metadata": {},
   "outputs": [
    {
     "data": {
      "text/plain": [
       "25"
      ]
     },
     "execution_count": 49,
     "metadata": {},
     "output_type": "execute_result"
    }
   ],
   "source": [
    "P1.get_age()"
   ]
  },
  {
   "cell_type": "markdown",
   "id": "f27ddb23-39e9-4cb0-9c24-4e154b2ff8ba",
   "metadata": {},
   "source": [
    "Q5.What is method overriding in python? Write a python code to demonstrate method overriding."
   ]
  },
  {
   "cell_type": "markdown",
   "id": "849d306e-79da-4ee3-8cfe-cb5f35af81f6",
   "metadata": {},
   "source": [
    "Method overriding in Python is a concept where a subclass provides its own implementation of a method that is already defined in its superclass. The overridden method in the subclass has the same name, return type, and parameters as the method in the superclass but provides a different implementation."
   ]
  },
  {
   "cell_type": "code",
   "execution_count": 50,
   "id": "b4a7ee5c-bf47-4db4-a102-000ee541b0eb",
   "metadata": {},
   "outputs": [
    {
     "name": "stdout",
     "output_type": "stream",
     "text": [
      "The dog barks.\n"
     ]
    }
   ],
   "source": [
    "class Animal:\n",
    "    def speak(self):\n",
    "        print(\"The animal makes a sound.\")\n",
    "\n",
    "class Dog(Animal):\n",
    "    def speak(self):\n",
    "        print(\"The dog barks.\")\n",
    "\n",
    "# Create an instance of the Dog class\n",
    "dog = Dog()\n",
    "\n",
    "# Call the speak() method of the Dog class\n",
    "dog.speak()"
   ]
  },
  {
   "cell_type": "code",
   "execution_count": null,
   "id": "8f4e968e-6d05-436a-bbfd-33ace4b6611f",
   "metadata": {},
   "outputs": [],
   "source": []
  }
 ],
 "metadata": {
  "kernelspec": {
   "display_name": "Python 3 (ipykernel)",
   "language": "python",
   "name": "python3"
  },
  "language_info": {
   "codemirror_mode": {
    "name": "ipython",
    "version": 3
   },
   "file_extension": ".py",
   "mimetype": "text/x-python",
   "name": "python",
   "nbconvert_exporter": "python",
   "pygments_lexer": "ipython3",
   "version": "3.10.8"
  }
 },
 "nbformat": 4,
 "nbformat_minor": 5
}
