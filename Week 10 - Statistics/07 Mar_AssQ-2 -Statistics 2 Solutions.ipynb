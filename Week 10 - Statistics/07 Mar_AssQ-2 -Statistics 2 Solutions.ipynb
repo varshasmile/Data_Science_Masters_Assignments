{
 "cells": [
  {
   "cell_type": "markdown",
   "id": "e3a553d1-0908-471b-824e-95493e20d7cc",
   "metadata": {},
   "source": [
    "Q1. What are the three measures of central tendency?"
   ]
  },
  {
   "cell_type": "markdown",
   "id": "9c5e4006-957f-4c86-9901-d89ab56a6d4f",
   "metadata": {},
   "source": [
    "The three measures of central tendency are:\n",
    "\n",
    "Mean: The mean is the average value of a dataset. It is calculated by adding up all the values and dividing by the number of data points.\n",
    "\n",
    "Median: The median is the middle value of a dataset when the values are arranged in ascending or descending order. If there is an even number of data points, the median is the average of the two middle values.\n",
    "\n",
    "Mode: The mode is the value that occurs most frequently in a dataset."
   ]
  },
  {
   "cell_type": "markdown",
   "id": "48bb9494-b3ac-4dbe-a36d-160d647d2922",
   "metadata": {},
   "source": [
    "Q2. What is the difference between the mean, median, and mode? How are they used to measure the\n",
    "central tendency of a dataset?"
   ]
  },
  {
   "cell_type": "markdown",
   "id": "6e5b93a9-3385-43f0-a927-4634fac0abdd",
   "metadata": {},
   "source": [
    "The mean, median, and mode are three measures of central tendency used to describe the center or typical value of a dataset. \n",
    "\n",
    "Mean: The mean is the average value of a dataset. It is calculated by adding up all the values and dividing by the number of data points.\n",
    "\n",
    "Median: The median is the middle value of a dataset when the values are arranged in ascending or descending order. If there is an even number of data points, the median is the average of the two middle values.\n",
    "\n",
    "Mode: The mode is the value that occurs most frequently in a dataset. A dataset can have one mode (unimodal), two modes (bimodal), or more (multimodal).\n",
    "\n",
    "How They Measure Central Tendency:\n",
    "\n",
    "The mean gives an average value and represents the center of mass of the dataset. It is suitable for symmetric distributions with no extreme outliers.\n",
    "The median represents the middle value, dividing the dataset into two equal halves. It is ideal for skewed distributions or when outliers might heavily influence the mean.\n",
    "The mode identifies the most frequent value in the dataset. It is useful for categorical or nominal data, or when identifying the most common outcome in a dataset."
   ]
  },
  {
   "cell_type": "markdown",
   "id": "a8fd666b-1754-46d5-a78e-9d92b896e0cc",
   "metadata": {},
   "source": [
    "Q3. Measure the three measures of central tendency for the given height data:\n",
    "[178,177,176,177,178.2,178,175,179,180,175,178.9,176.2,177,172.5,178,176.5]"
   ]
  },
  {
   "cell_type": "code",
   "execution_count": 8,
   "id": "39a149e5-bc39-42e6-b6b8-e117460318c0",
   "metadata": {},
   "outputs": [
    {
     "name": "stdout",
     "output_type": "stream",
     "text": [
      "Mean: 177.01875, Median: 177.0\n"
     ]
    }
   ],
   "source": [
    "import numpy as np\n",
    "from scipy import stats\n",
    "\n",
    "data = [178,177,176,177,178.2,178,175,179,180,175,178.9,176.2,177,172.5,178,176.5]\n",
    "mean = np.mean(data)\n",
    "median = np.median(data)\n",
    "\n",
    "print(f'Mean: {mean}, Median: {median}')"
   ]
  },
  {
   "cell_type": "code",
   "execution_count": 9,
   "id": "3973e35e-e04c-4256-9e77-4eba2d5b8b0a",
   "metadata": {},
   "outputs": [
    {
     "name": "stderr",
     "output_type": "stream",
     "text": [
      "/tmp/ipykernel_5808/3267261142.py:1: FutureWarning: Unlike other reduction functions (e.g. `skew`, `kurtosis`), the default behavior of `mode` typically preserves the axis it acts along. In SciPy 1.11.0, this behavior will change: the default value of `keepdims` will become False, the `axis` over which the statistic is taken will be eliminated, and the value None will no longer be accepted. Set `keepdims` to True or False to avoid this warning.\n",
      "  stats.mode(data)\n"
     ]
    },
    {
     "data": {
      "text/plain": [
       "ModeResult(mode=array([177.]), count=array([3]))"
      ]
     },
     "execution_count": 9,
     "metadata": {},
     "output_type": "execute_result"
    }
   ],
   "source": [
    "stats.mode(data)"
   ]
  },
  {
   "cell_type": "markdown",
   "id": "fd1156d4-64c5-4f79-bd54-1e31894a77eb",
   "metadata": {},
   "source": [
    "Q4. Find the standard deviation for the given data:\n",
    "[178,177,176,177,178.2,178,175,179,180,175,178.9,176.2,177,172.5,178,176.5]"
   ]
  },
  {
   "cell_type": "code",
   "execution_count": 11,
   "id": "61bdaef4-6c2e-4ec4-92e5-7e98e5c8343b",
   "metadata": {},
   "outputs": [
    {
     "data": {
      "text/plain": [
       "1.7885814036548633"
      ]
     },
     "execution_count": 11,
     "metadata": {},
     "output_type": "execute_result"
    }
   ],
   "source": [
    "data = [178,177,176,177,178.2,178,175,179,180,175,178.9,176.2,177,172.5,178,176.5]\n",
    "\n",
    "std = np.std(data)\n",
    "std"
   ]
  },
  {
   "cell_type": "markdown",
   "id": "f1cbbde0-4cf1-4447-9f77-9fcec8f6e470",
   "metadata": {},
   "source": [
    "Q5. How are measures of dispersion such as range, variance, and standard deviation used to describe\n",
    "the spread of a dataset? Provide an example."
   ]
  },
  {
   "cell_type": "markdown",
   "id": "a166e288-2e2b-43ac-a98e-a38622754c7f",
   "metadata": {},
   "source": [
    "Range:\n",
    "The range is the simplest measure of dispersion. It represents the difference between the maximum and minimum values in the dataset. It gives an idea of how much the data is spread from the lowest value to the highest value.\n",
    "\n",
    "Example:\n",
    "Consider the following dataset representing the ages of 10 people (in years):"
   ]
  },
  {
   "cell_type": "code",
   "execution_count": 15,
   "id": "47040600-ccbc-40a1-bf4f-88d1276305f2",
   "metadata": {},
   "outputs": [
    {
     "data": {
      "text/plain": [
       "14"
      ]
     },
     "execution_count": 15,
     "metadata": {},
     "output_type": "execute_result"
    }
   ],
   "source": [
    "data = [25,28,22,30,26,35,21,24,29,27]\n",
    "Range = max(data) - min(data)\n",
    "Range                              \n",
    "# So, the range of the dataset is 14, indicating that the ages vary by 14 years from the youngest to the oldest."
   ]
  },
  {
   "cell_type": "markdown",
   "id": "a0e525ae-9071-4e97-bbb8-fe5535723a7d",
   "metadata": {
    "tags": []
   },
   "source": [
    "Variance:\n",
    "Variance measures the average of the squared differences between each data point and the mean. It quantifies how much the data points deviate from the mean.\n",
    "\n",
    "A higher variance indicates that the data points are more spread out from the mean, while a lower variance suggests that the data points are closer to the mean.\n",
    "\n",
    "Example:\n",
    "Consider the following dataset representing test scores (out of 100) of 5 students:\n",
    "Step 1: Calculate the mean\n",
    "Step 2: Calculate the squared differences from the mean for each data point and then sum them up"
   ]
  },
  {
   "cell_type": "code",
   "execution_count": 20,
   "id": "2c93669e-5100-4541-850c-ffbbec4205e1",
   "metadata": {},
   "outputs": [
    {
     "data": {
      "text/plain": [
       "18.240000000000002"
      ]
     },
     "execution_count": 20,
     "metadata": {},
     "output_type": "execute_result"
    }
   ],
   "source": [
    "marks = [85,78,90,88,82]\n",
    "np.var(marks)               \n",
    "# This value suggests that the test scores are, on average, spread out from the mean score of 84.6. \n",
    "# The variance being relatively moderate indicates that there is some variability in the test scores."
   ]
  },
  {
   "cell_type": "markdown",
   "id": "c251b111-b628-4139-87a8-3a042e8a5718",
   "metadata": {},
   "source": [
    "Standard Deviation:\n",
    "Standard deviation is the square root of the variance. It measures the average distance of data points from the mean.\n",
    "\n",
    "Like variance, a higher standard deviation indicates greater variability, while a lower standard deviation indicates less variability.\n",
    "\n",
    "Example (continued from the variance example):"
   ]
  },
  {
   "cell_type": "code",
   "execution_count": 19,
   "id": "290b5070-ff8e-4fc2-9d11-f0532d6fa2b4",
   "metadata": {},
   "outputs": [
    {
     "data": {
      "text/plain": [
       "4.2708313008125245"
      ]
     },
     "execution_count": 19,
     "metadata": {},
     "output_type": "execute_result"
    }
   ],
   "source": [
    "np.std(marks)    \n",
    "# It tells us that the average distance of the test scores from the mean is approximately 4.22. \n",
    "# Since the standard deviation here is relatively small, \n",
    "# it implies that the test scores are somewhat tightly clustered around the mean of 84.6."
   ]
  },
  {
   "cell_type": "markdown",
   "id": "6e2e365d-7408-4a09-89cf-ed5db7e751cb",
   "metadata": {},
   "source": [
    "Q6. What is a Venn diagram?"
   ]
  },
  {
   "cell_type": "markdown",
   "id": "d83d1709-f707-4f09-a1a3-87977a7b806a",
   "metadata": {},
   "source": [
    "A Venn diagram is a visual representation used to show the relationships between different sets or groups of items. It consists of overlapping circles or shapes, where each circle represents a specific set, and the overlapping regions represent the elements that belong to more than one set. "
   ]
  },
  {
   "cell_type": "markdown",
   "id": "a411191f-416f-4e65-b74e-037d0ce0204e",
   "metadata": {},
   "source": [
    "Q7. For the two given sets A = (2,3,4,5,6,7) & B = (0,2,6,8,10). Find:\n",
    "(i) A ∩ B\n",
    "(ii) A ⋃ B"
   ]
  },
  {
   "cell_type": "markdown",
   "id": "5293ba75-b1bf-4275-b53e-91c525ce9dc1",
   "metadata": {},
   "source": [
    "A ∩ B = {common elements in A and B}\n",
    "\n",
    "A ∩ B = {2, 6}"
   ]
  },
  {
   "cell_type": "markdown",
   "id": "5ba3c136-8388-48ef-86d9-116fad0b4fbd",
   "metadata": {},
   "source": [
    "A ∪ B = {all elements in A} ⋃ {all elements in B}\n",
    "\n",
    "A ∪ B = {0, 2, 3, 4, 5, 6, 7, 8, 10}"
   ]
  },
  {
   "cell_type": "markdown",
   "id": "7d41141b-6677-4261-8fa2-5948b460dd64",
   "metadata": {},
   "source": [
    "Q8. What do you understand about skewness in data?"
   ]
  },
  {
   "cell_type": "markdown",
   "id": "354a51e8-9e04-4f45-836b-0d4cf289511f",
   "metadata": {},
   "source": [
    "Skewness is a statistical measure that describes the asymmetry of the probability distribution of a dataset. It provides insights into the shape of the data distribution and how the data points are spread around the central tendency (mean, median, or mode).\n",
    "\n",
    "In a symmetrical distribution, the data points are evenly distributed on both sides of the central value, and the graph of the distribution appears balanced. However, in a skewed distribution, the data points are not evenly distributed, and the distribution appears to be stretched towards one tail (the left or right)."
   ]
  },
  {
   "cell_type": "markdown",
   "id": "14139d27-021b-4fba-9050-2ac457b07c07",
   "metadata": {},
   "source": [
    "Q9. If a data is right skewed then what will be the position of median with respect to mean?"
   ]
  },
  {
   "cell_type": "markdown",
   "id": "1284ad22-6152-4721-8c1a-e0f4b54a7f47",
   "metadata": {},
   "source": [
    "The median will be positioned to the left of the mean, closer to the center of the distribution where the majority of data points are located."
   ]
  },
  {
   "cell_type": "markdown",
   "id": "e3b9806b-f884-411b-973f-05d9ff283c63",
   "metadata": {},
   "source": [
    "Q10. Explain the difference between covariance and correlation. How are these measures used in\n",
    "statistical analysis?"
   ]
  },
  {
   "cell_type": "markdown",
   "id": "f9f88a4b-d602-45e3-9e05-8c5c20d4a333",
   "metadata": {},
   "source": [
    "Covariance and Correlation:\n",
    "\n",
    "Covariance:\n",
    "Covariance is a measure of the degree to which two random variables change together. It quantifies the directional relationship between two variables. A positive covariance indicates that the variables tend to increase or decrease together, while a negative covariance indicates that one variable tends to increase as the other decreases. A covariance of zero means that there is no linear relationship between the variables.\n",
    "\n",
    "Correlation:\n",
    "Correlation is a standardized measure that shows both the strength and direction of the linear relationship between two variables. Correlation values range from -1 to +1, where -1 indicates a perfect negative correlation, +1 indicates a perfect positive correlation, and 0 indicates no linear correlation. Correlation is unitless, which means it is not affected by the scale of the variables."
   ]
  },
  {
   "cell_type": "markdown",
   "id": "a5d008cf-db6f-4758-82c6-edad1d7960e6",
   "metadata": {},
   "source": [
    "Q11. What is the formula for calculating the sample mean? Provide an example calculation for a\n",
    "dataset."
   ]
  },
  {
   "cell_type": "markdown",
   "id": "ebab45d3-7c31-4fdc-ac6b-759541008348",
   "metadata": {},
   "source": [
    "To calculate the sample mean, you add up all the data points and then divide the sum by the total number of data points in the dataset.\n",
    "\n",
    "Xi : represents individual data points in the dataset.\n",
    "n : is the total number of data points in the dataset."
   ]
  },
  {
   "attachments": {
    "3b36510f-42fb-40ad-aa11-4f357ab77e81.png": {
     "image/png": "[encoded data removed]"
    }
   },
   "cell_type": "markdown",
   "id": "01c74844-c519-4f0c-8240-60f08afbe838",
   "metadata": {},
   "source": [
    "![population-mean.png](attachment:3b36510f-42fb-40ad-aa11-4f357ab77e81.png)"
   ]
  },
  {
   "cell_type": "markdown",
   "id": "f0c4fb03-1e32-409f-b891-91e9900f8216",
   "metadata": {},
   "source": [
    "Example Calculation:\n",
    "Let's calculate the sample mean for the following dataset:\n",
    "\n",
    "Dataset [12,15,18,21,24,27]\n",
    "\n",
    "Step 1: Add up all the data points:\n",
    "\n",
    "sum = 12+15+18+21+24+27=117\n",
    "\n",
    "Step 2: Determine the number of data points (sample size, n):\n",
    "Since there are 6 data points in the dataset, n=6.\n",
    "\n",
    "Step 3: Calculate the sample mean:\n",
    "sample mean = sum / n = 117 / 6 = 19.5"
   ]
  },
  {
   "cell_type": "markdown",
   "id": "5dfcfa96-1c07-4267-9169-7857f80be180",
   "metadata": {},
   "source": [
    "Q12. For a normal distribution data what is the relationship between its measure of central tendency?"
   ]
  },
  {
   "cell_type": "markdown",
   "id": "66041ea6-d8a2-4fb3-82ae-92e361e80204",
   "metadata": {},
   "source": [
    "For a normal distribution, the mean, median, and mode are all equal and lie at the center of the distribution. This equal relationship is a key characteristic of a symmetrical normal distribution."
   ]
  },
  {
   "cell_type": "markdown",
   "id": "3731e613-aebd-4928-81f0-e7a162a20399",
   "metadata": {},
   "source": [
    "Q13. How is covariance different from correlation?"
   ]
  },
  {
   "cell_type": "markdown",
   "id": "cfd058cc-42c8-4d0a-9db7-bf3e1ba94d11",
   "metadata": {},
   "source": [
    "1. Covariance measures the degree of change between two variables, while correlation shows the strength and direction of the linear relationship.\n",
    "\n",
    "2. Covariance is affected by the scale of the variables, whereas correlation is unitless and allows for easy comparison across datasets.\n",
    "\n",
    "3. Covariance can take any value, positive or negative, while correlation values are bounded between -1 and +1.\n",
    "\n",
    "4. The magnitude of covariance depends on the spread and units of the variables, while correlation standardizes the measure for easier interpretation.\n",
    "\n",
    "5. Correlation is more widely used and provides a clearer understanding of the linear relationship between variables."
   ]
  },
  {
   "cell_type": "markdown",
   "id": "952f511b-1082-4612-add9-f51c082d93d5",
   "metadata": {},
   "source": [
    "Q14. How do outliers affect measures of central tendency and dispersion? Provide an example."
   ]
  },
  {
   "cell_type": "markdown",
   "id": "71acb557-1bbf-47a1-9f39-0b1a671bdc4f",
   "metadata": {},
   "source": [
    "1. Outliers significantly impact measures of central tendency and dispersion.\n",
    "\n",
    "2. Outliers can pull the mean towards extreme values.\n",
    "\n",
    "3. Median is less sensitive to outliers compared to the mean.\n",
    "\n",
    "4. Mode remains unaffected by outliers.\n",
    "\n",
    "5. Outliers increase variance and standard deviation.\n",
    "\n",
    "6. Outliers expand the range of the dataset."
   ]
  },
  {
   "cell_type": "markdown",
   "id": "9e1de68c-b411-4613-b3e9-d1a4116872e4",
   "metadata": {},
   "source": [
    "Example:\n",
    "Consider the following dataset representing the ages of students in a class:\n",
    "\n",
    "dataset = [18,19,20,21,22,25,30,32,50]\n",
    "\n",
    "In this dataset, 50 can be considered an outlier due to its substantial deviation from the other values. Let's see how the outliers affect the measures of central tendency and dispersion:"
   ]
  },
  {
   "cell_type": "markdown",
   "id": "e462b7c8-0c3b-4314-8437-d9739c19fa2b",
   "metadata": {},
   "source": [
    "Mean: The mean age is 247 / 9 ≈ 27.44. The presence of the outlier (50) increases the mean significantly.\n",
    "\n",
    "Median: The median is the middle value in the sorted dataset, which in this case is 22. The outlier does not influence the median.\n",
    "\n",
    "Mode: The mode remains unaffected as there is no repetition of values, and all ages occur only once.\n",
    "\n",
    "Variance and Standard Deviation: The variance and standard deviation are affected by the presence of the outlier 50. The squared deviations from the mean (27.44) with 50 included contribute significantly to increasing the variance and standard deviation.\n",
    "\n",
    "Range: The range is calculated as 50 - 18 = 32. The outlier 50 contributes to the larger range."
   ]
  },
  {
   "cell_type": "code",
   "execution_count": null,
   "id": "dbdc631c-5e8b-4099-b3b8-341f1c37cb80",
   "metadata": {},
   "outputs": [],
   "source": []
  }
 ],
 "metadata": {
  "kernelspec": {
   "display_name": "Python 3 (ipykernel)",
   "language": "python",
   "name": "python3"
  },
  "language_info": {
   "codemirror_mode": {
    "name": "ipython",
    "version": 3
   },
   "file_extension": ".py",
   "mimetype": "text/x-python",
   "name": "python",
   "nbconvert_exporter": "python",
   "pygments_lexer": "ipython3",
   "version": "3.10.8"
  }
 },
 "nbformat": 4,
 "nbformat_minor": 5
}
