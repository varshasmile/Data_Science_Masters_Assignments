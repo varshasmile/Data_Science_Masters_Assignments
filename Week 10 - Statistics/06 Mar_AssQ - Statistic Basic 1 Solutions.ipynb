{
 "cells": [
  {
   "cell_type": "markdown",
   "id": "b910ca65-772b-478a-81ba-d29f03ab8aac",
   "metadata": {},
   "source": [
    "Q1. What is Statistics?"
   ]
  },
  {
   "cell_type": "markdown",
   "id": "1b52c363-84a1-441c-9c7d-dc9b790b2bd5",
   "metadata": {},
   "source": [
    "Statistics is the study of collecting, organizing, analyzing, interpreting, and presenting data."
   ]
  },
  {
   "cell_type": "markdown",
   "id": "b2da5f54-df87-4900-8c34-51c1f71a7b8e",
   "metadata": {},
   "source": [
    "Q2. Define the different types of statistics and give an example of when each type might be used."
   ]
  },
  {
   "cell_type": "markdown",
   "id": "317a4d4c-396c-49ff-9e63-1f2df62ad87d",
   "metadata": {},
   "source": [
    "1. Descriptive Statistics:\n",
    "Definition: Descriptive statistics involve methods for summarizing and describing data in a meaningful way. They provide a clear and concise summary of the main features of a dataset.\n",
    "\n",
    "Example: Suppose you have collected the ages of a group of people (20, 25, 30, 35, 40, etc.). Descriptive statistics would be used to calculate measures like the mean, median, and standard deviation to understand the central tendency and variability of ages within the group.\n",
    "\n",
    "2. Inferential Statistics:\n",
    "Definition: Inferential statistics involve making inferences or predictions about a population based on a sample of data. These methods help to draw conclusions and make generalizations beyond the observed data.\n",
    "\n",
    "Example: Let's say you want to know the average height of all adults in a city. It is impractical to measure everyone's height, so you take a random sample of 100 adults and calculate their average height. Inferential statistics would then be used to estimate the average height of the entire population, along with a margin of error."
   ]
  },
  {
   "cell_type": "markdown",
   "id": "8837b29c-e614-4f60-b88b-5ebb7aaca109",
   "metadata": {},
   "source": [
    "Q3. What are the different types of data and how do they differ from each other? Provide an example of\n",
    "each type of data."
   ]
  },
  {
   "cell_type": "markdown",
   "id": "a0b0d9e4-2846-4b29-961b-8dd6e088ce40",
   "metadata": {},
   "source": [
    "1. Quantitative Data:\n",
    "Quantitative data represent numerical measurements or quantities and can be further categorized into discrete and continuous data.\n",
    "\n",
    "i. Discrete Data:\n",
    "Definition: Discrete data consist of whole numbers or countable values that have clear gaps or intervals between them. They are distinct and cannot take on any value between the data points.\n",
    "\n",
    "Example: The number of siblings a person has is discrete data. You cannot have a fractional or non-integer value for the number of siblings, as it can only be 0, 1, 2, 3, etc.\n",
    "\n",
    "ii. Continuous Data:\n",
    "Definition: Continuous data can take on any value within a specific range and can be measured with great precision. There are no distinct gaps or intervals between the data points.\n",
    "\n",
    "Example: The height of a person is continuous data. Height can be measured to any degree of accuracy, including decimal values like 162.4 cm, 175.9 cm, etc.\n",
    "\n",
    "2. Qualitative Data:\n",
    "Qualitative data, also known as categorical data, represent characteristics or qualities that do not have inherent numerical values. Qualitative data can be further categorized into ordinal and nominal data.\n",
    "\n",
    "i. Ordinal Data:\n",
    "Definition: Ordinal data have a natural order or ranking to them.\n",
    "\n",
    "Example: Educational levels like \"High School,\" \"Bachelor's Degree,\" and \"Master's Degree\" are ordinal data. While they have a clear order, we cannot quantify the difference between \"High School\" and \"Bachelor's Degree\" as a specific value.\n",
    "\n",
    "ii. Nominal Data:\n",
    "Definition: Nominal data have categories that do not have any natural order or ranking.\n",
    "\n",
    "Example: Eye colors such as \"Blue,\" \"Green,\" \"Brown,\" etc., are nominal data. There is no inherent order among these categories; they are merely different attributes without any numerical significance."
   ]
  },
  {
   "cell_type": "markdown",
   "id": "cfdef99c-97b4-432a-b164-f356d9b47e57",
   "metadata": {},
   "source": [
    "Q4. Categorise the following datasets with respect to quantitative and qualitative data types:\n",
    "\n",
    "(i) Grading in exam: A+, A, B+, B, C+, C, D, E\n",
    "\n",
    "(ii) Colour of mangoes: yellow, green, orange, red\n",
    "\n",
    "(iii) Height data of a class: [178.9, 179, 179.5, 176, 177.2, 178.3, 175.8,...]\n",
    "\n",
    "(iv) Number of mangoes exported by a farm: [500, 600, 478, 672, ...]"
   ]
  },
  {
   "cell_type": "markdown",
   "id": "2b6c3d71-7d75-4d9e-aca5-c201f180285b",
   "metadata": {},
   "source": [
    "(i) Grading in exam: Ordinal Qualitative Data\n",
    "\n",
    "(ii) Colour of mangoes: Nominal Qualitative Data\n",
    "\n",
    "(iii) Height data of a class: Contiuous Quantitative Data\n",
    "\n",
    "(iv) Number of mangoes exported by a farm: Discrete Quantitative Data"
   ]
  },
  {
   "cell_type": "markdown",
   "id": "4eb5cb01-9de9-43f8-9d3f-f57ee7994323",
   "metadata": {},
   "source": [
    "Q5. Explain the concept of levels of measurement and give an example of a variable for each level."
   ]
  },
  {
   "cell_type": "markdown",
   "id": "df7819fa-2233-4322-9f9c-c2ec7fb428f0",
   "metadata": {},
   "source": [
    "The concept of levels of measurement, refers to the different ways data can be categorized or measured. There are four main levels of measurement: nominal, ordinal, interval, and ratio.\n",
    "\n",
    "1. Nominal Level:\n",
    "The data can only be categorized. Variables at this level can only be qualitatively described.\n",
    "Example: Eye colors of individuals (e.g., blue, green, brown) are at the nominal level.\n",
    "\n",
    "2. Ordinal Level:\n",
    "The data can be categorized and ranked but the intervals between the categories are not uniform.\n",
    "Example: Educational levels (e.g., elementary, high school, bachelor's, master's) are at the ordinal level. While we can rank them from least to most advanced, the difference between each level is not uniform.\n",
    "\n",
    "3. Interval Level:\n",
    "The data can be categorized, ranked, and evenly spaced. However, the absence of a true zero point implies that ratios between values are not meaningful.\n",
    "Example: Celsius temperature scale is at the interval level. While the difference between 10°C and 20°C is the same as the difference between 20°C and 30°C, a temperature of 0°C does not represent an absence of heat (it's not a true zero point).\n",
    "\n",
    "4. Ratio Level:\n",
    "The data can be categorized, ranked, evenly spaced, and has a natural zero.\n",
    "Example: Weight of objects in kilograms is at the ratio level. A weight of 0 kg represents an absence of weight, and ratios between weights are meaningful (e.g., an object weighing 6 kg is twice as heavy as an object weighing 3 kg)."
   ]
  },
  {
   "cell_type": "markdown",
   "id": "b6fd20b1-73ef-473f-96b3-394468a70d90",
   "metadata": {},
   "source": [
    "Q6. Why is it important to understand the level of measurement when analyzing data? Provide an\n",
    "example to illustrate your answer."
   ]
  },
  {
   "cell_type": "markdown",
   "id": "6b88d1be-ac85-4051-9dab-4e6998194b6d",
   "metadata": {},
   "source": [
    "Understanding the level of measurement is crucial when analyzing data because it determines the types of statistical analyses and interpretations that can be applied to the data. Different levels of measurement have distinct properties and constraints, which influence the appropriate statistical methods and the meaningfulness of the results obtained.\n",
    "\n",
    "Example:\n",
    "Let's consider the analysis of customer satisfaction levels in a retail store. The store collects data using a rating system where customers can rate their satisfaction on a scale of 1 to 5 (1 being highly dissatisfied, and 5 being highly satisfied).\n",
    "\n",
    "If the data is at the nominal level, the store could only determine the most frequent rating (mode), such as the number of customers who rated their satisfaction as \"Satisfied\" or \"Dissatisfied.\"\n",
    "\n",
    "If the data is at the ordinal level, the store could calculate the median satisfaction score to understand the central tendency of the ratings, but it would not be appropriate to compute the mean or perform any arithmetic operations on the ratings.\n",
    "\n",
    "If the data is at the interval level, the store could calculate the mean and standard deviation of the satisfaction ratings, allowing for more advanced statistical analyses like hypothesis testing and confidence intervals.\n",
    "\n",
    "If the data is at the ratio level, in addition to all previous analyses, the store could also interpret the results in terms of proportion, percentages, and ratios. They could say things like \"Customers who rated their satisfaction as 5 were twice as satisfied as those who rated 4.\""
   ]
  },
  {
   "cell_type": "markdown",
   "id": "7b63e8f5-bd8d-4f9b-a9a0-fa2c21b7328f",
   "metadata": {},
   "source": [
    "Q7. How nominal data type is different from ordinal data type."
   ]
  },
  {
   "cell_type": "markdown",
   "id": "36710ca6-071e-4909-ae4b-9f1bfe6fbcff",
   "metadata": {},
   "source": [
    "Nominal Data:\n",
    "\n",
    "Nominal data is the lowest level of measurement.\n",
    "It involves categorical data where items are placed into distinct categories or groups.\n",
    "The categories have no inherent order or ranking; they are simply different and unique from one another.\n",
    "Examples of nominal data include gender (male or female), colors (red, blue, green), or types of fruits (apple, orange, banana).\n",
    "In nominal data, you can only determine if items are the same or different based on their category.\n",
    "\n",
    "Ordinal Data:\n",
    "\n",
    "Ordinal data is the second level of measurement.\n",
    "Like nominal data, it involves categorical data, but in this case, the categories have a meaningful order or ranking.\n",
    "The order represents the relative position of items, but the differences between the categories are not necessarily equal or quantifiable.\n",
    "Examples of ordinal data include ratings (e.g., on a scale of 1 to 5, with 1 being \"low\" and 5 being \"high\") or educational levels (e.g., elementary, middle, high school, college).\n",
    "In ordinal data, you can determine the order and say which category is higher or lower, but you can't determine the exact difference between two categories."
   ]
  },
  {
   "cell_type": "markdown",
   "id": "9c564887-ba64-4f1b-ab1f-0aa509ed75d7",
   "metadata": {},
   "source": [
    "Q8. Which type of plot can be used to display data in terms of range?"
   ]
  },
  {
   "cell_type": "markdown",
   "id": "e85ca849-6e4d-4fbf-94c7-460ef9eb58f8",
   "metadata": {},
   "source": [
    "A box plot (also known as a box-and-whisker plot) is commonly used to display data in terms of its range. Box plots provide a visual summary of the distribution of a dataset, showing the median, quartiles, and potential outliers. It provides a concise visual representation of the data's central tendency and spread, making it easier to detect patterns and variations."
   ]
  },
  {
   "attachments": {
    "5e421e69-953f-4b0b-8417-69079bf66eb7.jpg": {
     "image/jpeg": "[encoded data removed]"
    }
   },
   "cell_type": "markdown",
   "id": "69c650a6-8c33-49a1-9956-46bbdfdc0b8b",
   "metadata": {},
   "source": [
    "![1_boxplots.jpg](attachment:5e421e69-953f-4b0b-8417-69079bf66eb7.jpg)"
   ]
  },
  {
   "cell_type": "markdown",
   "id": "2931b54b-5863-4129-8bc0-276838163709",
   "metadata": {},
   "source": [
    "Q9. Describe the difference between descriptive and inferential statistics. Give an example of each\n",
    "type of statistics and explain how they are used."
   ]
  },
  {
   "cell_type": "markdown",
   "id": "dba5b48e-5e5c-4ab9-b56d-2e655a95ea3b",
   "metadata": {},
   "source": [
    "Descriptive Statistics:\n",
    "\n",
    "Descriptive statistics involves summarizing and describing data to provide a clear and concise picture of its main features. It focuses on organizing, presenting, and describing the essential characteristics of a dataset without making any generalizations or inferences beyond the observed data. Descriptive statistics are used to simplify and communicate complex data in a more understandable way.\n",
    "\n",
    "Example of Descriptive Statistics:\n",
    "Suppose you have a class of 30 students, and you want to understand their exam scores in a math test. You calculate the mean (average) score, the median (middle score), and the standard deviation (a measure of how spread out the scores are from the mean). You might also create a histogram or a bar chart to visualize the distribution of scores. These descriptive statistics and visualizations provide a snapshot of how well the students performed on the math test, their typical score, and the level of variability in their scores.\n",
    "\n",
    "Inferential Statistics:\n",
    "\n",
    "Inferential statistics involves drawing conclusions, making predictions, or generalizing information from a sample of data to a larger population. It uses probability theory and statistical methods to make inferences about population parameters based on sample data. Inferential statistics allow us to make educated guesses or hypotheses about the entire population using only a subset of the data.\n",
    "\n",
    "Example of Inferential Statistics:\n",
    "Continuing with the previous example of the class, let's say you want to know if the performance of your class is representative of all students in the school. You could collect data from a random sample of students across the school, calculate the mean, and perform a hypothesis test to determine if the average math score of your class is significantly different from the average score of the entire school population. By using inferential statistics, you can make an educated guess about the overall performance of all students in the school based on the data from your class."
   ]
  },
  {
   "cell_type": "markdown",
   "id": "ec114440-da9a-4056-af2d-ddedd4dd2bbd",
   "metadata": {},
   "source": [
    "Q10. What are some common measures of central tendency and variability used in statistics? Explain\n",
    "how each measure can be used to describe a dataset."
   ]
  },
  {
   "cell_type": "markdown",
   "id": "5d8654f6-2c99-40a9-a5cd-0e34e5cc42e9",
   "metadata": {},
   "source": [
    "Measures of Central Tendency:\n",
    "Measures of central tendency are used to describe the center or typical value of a dataset. They help us understand the central value around which the data tends to cluster. The three most common measures of central tendency are:\n",
    "\n",
    "1. Mean: The mean is the average value of a dataset and is calculated by adding up all the values and dividing by the number of data points. It is highly influenced by extreme values, making it sensitive to outliers.\n",
    "Use of Mean: The mean is useful when you want to find the typical or average value of a dataset. It provides a balanced representation of the data but can be affected by extreme values, so it's essential to be cautious with outliers.\n",
    "\n",
    "2. Median: The median is the middle value of a dataset when arranged in ascending or descending order. It is not affected by extreme values and is a better measure of central tendency when there are outliers.\n",
    "Use of Median: The median is beneficial when the data contains outliers or extreme values because it is resistant to their influence. It gives a better representation of the typical value in skewed distributions.\n",
    "\n",
    "3. Mode: The mode is the value that occurs most frequently in a dataset. It is possible to have one mode (unimodal), two modes (bimodal), or more (multimodal).\n",
    "Use of Mode: The mode is useful when you want to identify the most common value or category in a dataset. It is particularly relevant for categorical data or when dealing with qualitative variables.\n",
    "\n",
    "Measures of Variability:\n",
    "Measures of variability (also known as measures of dispersion) help us understand the spread or variability of data points in a dataset. They provide information about how much the values deviate from the central tendency. The three common measures of variability are:\n",
    "\n",
    "1. Range: The range is the simplest measure of variability, calculated as the difference between the maximum and minimum values in the dataset.\n",
    "Use of Range: The range gives a rough idea of the spread in the dataset, but it is sensitive to outliers and may not provide a complete picture of variability.\n",
    "\n",
    "2. Variance: Variance measures how much the values deviate from the mean. It is calculated by taking the average of the squared differences between each data point and the mean.\n",
    "Use of Variance: Variance quantifies the overall dispersion of data points around the mean. However, its value is in squared units, which can be harder to interpret.\n",
    "\n",
    "3. Standard Deviation: The standard deviation is the square root of the variance. It measures the average distance of data points from the mean.\n",
    "Use of Standard Deviation: Standard deviation is widely used because it is in the same units as the original data and provides a more intuitive measure of variability. It is valuable in understanding the spread and distribution of data around the mean."
   ]
  },
  {
   "cell_type": "code",
   "execution_count": null,
   "id": "61b9f28f-de44-4018-9396-343623d76511",
   "metadata": {},
   "outputs": [],
   "source": []
  }
 ],
 "metadata": {
  "kernelspec": {
   "display_name": "Python 3 (ipykernel)",
   "language": "python",
   "name": "python3"
  },
  "language_info": {
   "codemirror_mode": {
    "name": "ipython",
    "version": 3
   },
   "file_extension": ".py",
   "mimetype": "text/x-python",
   "name": "python",
   "nbconvert_exporter": "python",
   "pygments_lexer": "ipython3",
   "version": "3.10.8"
  }
 },
 "nbformat": 4,
 "nbformat_minor": 5
}
