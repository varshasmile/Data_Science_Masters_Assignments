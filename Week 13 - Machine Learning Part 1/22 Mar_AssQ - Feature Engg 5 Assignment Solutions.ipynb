{
 "cells": [
  {
   "cell_type": "markdown",
   "id": "ce1aaae4-d998-4a74-8634-ec4524dc7cd3",
   "metadata": {},
   "source": [
    "Q1. Pearson correlation coefficient is a measure of the linear relationship between two variables. Suppose\n",
    "you have collected data on the amount of time students spend studying for an exam and their final exam\n",
    "scores. Calculate the Pearson correlation coefficient between these two variables and interpret the result."
   ]
  },
  {
   "cell_type": "markdown",
   "id": "acc3e6ff-8237-4f90-a324-a613a8962762",
   "metadata": {},
   "source": [
    "The Pearson correlation coefficient measures the strength and direction of the linear relationship between two variables. The value of the correlation coefficient ranges from -1 to 1, where:\n",
    "\n",
    "1 indicates a perfect positive linear correlation (as one variable increases, the other variable also increases).\\\n",
    "-1 indicates a perfect negative linear correlation (as one variable increases, the other variable decreases).\\\n",
    "0 indicates no linear correlation between the variables."
   ]
  },
  {
   "cell_type": "code",
   "execution_count": 6,
   "id": "908221a8-c3c8-4441-bb85-b457493a1507",
   "metadata": {},
   "outputs": [
    {
     "data": {
      "text/html": [
       "<div>\n",
       "<style scoped>\n",
       "    .dataframe tbody tr th:only-of-type {\n",
       "        vertical-align: middle;\n",
       "    }\n",
       "\n",
       "    .dataframe tbody tr th {\n",
       "        vertical-align: top;\n",
       "    }\n",
       "\n",
       "    .dataframe thead th {\n",
       "        text-align: right;\n",
       "    }\n",
       "</style>\n",
       "<table border=\"1\" class=\"dataframe\">\n",
       "  <thead>\n",
       "    <tr style=\"text-align: right;\">\n",
       "      <th></th>\n",
       "      <th>StudyTime</th>\n",
       "      <th>ExamScores</th>\n",
       "    </tr>\n",
       "  </thead>\n",
       "  <tbody>\n",
       "    <tr>\n",
       "      <th>StudyTime</th>\n",
       "      <td>1.000000</td>\n",
       "      <td>0.888489</td>\n",
       "    </tr>\n",
       "    <tr>\n",
       "      <th>ExamScores</th>\n",
       "      <td>0.888489</td>\n",
       "      <td>1.000000</td>\n",
       "    </tr>\n",
       "  </tbody>\n",
       "</table>\n",
       "</div>"
      ],
      "text/plain": [
       "            StudyTime  ExamScores\n",
       "StudyTime    1.000000    0.888489\n",
       "ExamScores   0.888489    1.000000"
      ]
     },
     "execution_count": 6,
     "metadata": {},
     "output_type": "execute_result"
    }
   ],
   "source": [
    "import pandas as pd\n",
    "\n",
    "# Create sample data\n",
    "data = {\n",
    "    'StudyTime': [4, 7, 5, 6, 3, 8, 5, 6, 4, 7],\n",
    "    'ExamScores': [75, 82, 78, 85, 65, 88, 72, 80, 77, 84]\n",
    "}\n",
    "\n",
    "# Create a DataFrame\n",
    "df = pd.DataFrame(data)\n",
    "\n",
    "# Calculate the Pearson correlation coefficient\n",
    "correlation_coefficient = df.corr(method='pearson')\n",
    "\n",
    "correlation_coefficient"
   ]
  },
  {
   "cell_type": "markdown",
   "id": "491e2e50-7a6d-43fc-9548-e5f3e7f9f76e",
   "metadata": {},
   "source": [
    "The Pearson correlation coefficient between 'StudyTime' and 'ExamScores' is approximately 0.888489.\\\n",
    "This value is close to 1, indicating a strong positive linear correlation between study time and exam scores.\n",
    "\n",
    "The interpretation is that as the amount of time students spend studying for an exam increases, their final exam scores tend to increase as well.\n",
    "This suggests that there is a positive relationship between study time and exam scores, meaning that students who spend more time studying tend to achieve higher exam scores."
   ]
  },
  {
   "cell_type": "markdown",
   "id": "5688bd1a-44c3-4fee-94f1-347db540990f",
   "metadata": {},
   "source": [
    "Q2. Spearman's rank correlation is a measure of the monotonic relationship between two variables.\n",
    "Suppose you have collected data on the amount of sleep individuals get each night and their overall job\n",
    "satisfaction level on a scale of 1 to 10. Calculate the Spearman's rank correlation between these two\n",
    "variables and interpret the result."
   ]
  },
  {
   "cell_type": "markdown",
   "id": "34ccbe97-f3d2-4c03-a8e5-6492818ea339",
   "metadata": {},
   "source": [
    "The Spearman's rank correlation coefficient (denoted by ρ or rs) ranges from -1 to 1, with the following interpretations:\n",
    "\n",
    "1 indicates a perfect positive monotonic correlation.\\\n",
    "-1 indicates a perfect negative monotonic correlation.\\\n",
    "0 indicates no monotonic correlation between the variables."
   ]
  },
  {
   "cell_type": "code",
   "execution_count": 8,
   "id": "f434a247-31d1-4118-8556-dfeb9d753df1",
   "metadata": {},
   "outputs": [
    {
     "data": {
      "text/html": [
       "<div>\n",
       "<style scoped>\n",
       "    .dataframe tbody tr th:only-of-type {\n",
       "        vertical-align: middle;\n",
       "    }\n",
       "\n",
       "    .dataframe tbody tr th {\n",
       "        vertical-align: top;\n",
       "    }\n",
       "\n",
       "    .dataframe thead th {\n",
       "        text-align: right;\n",
       "    }\n",
       "</style>\n",
       "<table border=\"1\" class=\"dataframe\">\n",
       "  <thead>\n",
       "    <tr style=\"text-align: right;\">\n",
       "      <th></th>\n",
       "      <th>SleepHours</th>\n",
       "      <th>JobSatisfaction</th>\n",
       "    </tr>\n",
       "  </thead>\n",
       "  <tbody>\n",
       "    <tr>\n",
       "      <th>SleepHours</th>\n",
       "      <td>1.000000</td>\n",
       "      <td>0.949885</td>\n",
       "    </tr>\n",
       "    <tr>\n",
       "      <th>JobSatisfaction</th>\n",
       "      <td>0.949885</td>\n",
       "      <td>1.000000</td>\n",
       "    </tr>\n",
       "  </tbody>\n",
       "</table>\n",
       "</div>"
      ],
      "text/plain": [
       "                 SleepHours  JobSatisfaction\n",
       "SleepHours         1.000000         0.949885\n",
       "JobSatisfaction    0.949885         1.000000"
      ]
     },
     "execution_count": 8,
     "metadata": {},
     "output_type": "execute_result"
    }
   ],
   "source": [
    "import pandas as pd\n",
    "\n",
    "# Sample data\n",
    "data = {\n",
    "    'SleepHours': [7, 6, 8, 5, 7, 6, 8, 5, 9, 7],\n",
    "    'JobSatisfaction': [8, 6, 9, 4, 7, 5, 8, 4, 9, 6]\n",
    "}\n",
    "\n",
    "# Create a dataframe\n",
    "df = pd.DataFrame(data)\n",
    "\n",
    "# Calculate Spearman's rank correlation coefficient\n",
    "corr_coefficient =  df.corr(method='spearman')\n",
    "\n",
    "corr_coefficient"
   ]
  },
  {
   "cell_type": "markdown",
   "id": "8b87a238-8a99-47e9-8186-c47270e644c4",
   "metadata": {},
   "source": [
    "The correlation coefficient between \"SleepHours\" and \"JobSatisfaction\" is approximately 0.95.\\\n",
    "Since the correlation coefficient is close to 1, it indicates a very strong positive monotonic relationship between the variables. \\\n",
    "This suggests that there is a clear tendency for individuals who report more sleep hours to also report higher job satisfaction levels, and vice versa."
   ]
  },
  {
   "cell_type": "markdown",
   "id": "755824de-a716-43be-9cab-029bacf079f5",
   "metadata": {},
   "source": [
    "Q3. Suppose you are conducting a study to examine the relationship between the number of hours of\n",
    "exercise per week and body mass index (BMI) in a sample of adults. You collected data on both variables\n",
    "for 50 participants. Calculate the Pearson correlation coefficient and the Spearman's rank correlation\n",
    "between these two variables and compare the results."
   ]
  },
  {
   "cell_type": "code",
   "execution_count": 22,
   "id": "5f201542-b6c9-4f0f-b28c-0cfaadbe5580",
   "metadata": {},
   "outputs": [
    {
     "name": "stdout",
     "output_type": "stream",
     "text": [
      "Pearson Correlation Coefficient: 0.9789356219374581\n",
      "Spearman's Rank Correlation Coefficient: 0.9827430719238552\n"
     ]
    }
   ],
   "source": [
    "import pandas as pd\n",
    "\n",
    "data = {\n",
    "    'Participant': list(range(1, 51)),\n",
    "    'ExerciseHours': [3, 4, 5, 2, 1, 6, 2, 3, 4, 5,\n",
    "                      1, 2, 3, 4, 6, 7, 5, 3, 2, 4,\n",
    "                      5, 3, 2, 1, 6, 4, 3, 2, 1, 5,\n",
    "                      7, 6, 4, 3, 2, 1, 5, 4, 3, 2,\n",
    "                      6, 7, 5, 4, 3, 2, 1, 6, 7, 5],\n",
    "    'BMI': [22.5, 24.0, 26.2, 21.8, 20.5, 27.9, 22.0, 23.5, 25.1, 28.0,\n",
    "            20.0, 21.5, 23.0, 24.8, 29.5, 30.2, 26.6, 23.2, 21.0, 25.6,\n",
    "            27.2, 24.0, 22.5, 19.8, 29.0, 26.1, 23.5, 22.0, 19.0, 27.5,\n",
    "            31.0, 28.5, 25.5, 22.8, 21.3, 19.5, 28.2, 25.6, 23.7, 21.9,\n",
    "            30.5, 29.8, 26.9, 25.0, 23.0, 21.1, 19.2, 31.5, 30.0, 27.7]\n",
    "}\n",
    "\n",
    "df = pd.DataFrame(data)\n",
    "\n",
    "# Calculate Pearson correlation coefficient\n",
    "pearson_corr = df['ExerciseHours'].corr(df['BMI'])\n",
    "print(\"Pearson Correlation Coefficient:\", pearson_corr)\n",
    "\n",
    "# Calculate Spearman's rank correlation coefficient\n",
    "spearman_corr =  df['ExerciseHours'].corr(df['BMI'], method='spearman')\n",
    "print(\"Spearman's Rank Correlation Coefficient:\", spearman_corr)"
   ]
  },
  {
   "cell_type": "markdown",
   "id": "30eec088-3a96-4906-ad3c-0a92a1da3016",
   "metadata": {},
   "source": [
    "Interpretation:\n",
    "\n",
    "The Pearson correlation coefficient measures the strength and direction of the linear relationship between two continuous variables. In this case, the Pearson coefficient between Exercise Hours and BMI is approximately 0.978936, which indicates a strong positive linear relationship between these two variables. This suggests that as the number of exercise hours per week increases, the BMI tends to increase as well. The coefficient is close to 1, indicating a strong positive correlation.\n",
    "\n",
    "The Spearman's rank correlation coefficient assesses the monotonic relationship between two variables, which means it captures both linear and non-linear relationships. In this case, the Spearman's coefficient between Exercise Hours and BMI is approximately 0.982743, indicating a strong positive monotonic relationship between the two variables. Similar to the Pearson coefficient, this suggests that as the number of exercise hours per week increases, the BMI tends to increase. The coefficient is again close to 1, signifying a strong positive correlation."
   ]
  },
  {
   "cell_type": "markdown",
   "id": "774cef9c-6f5e-4bdf-a6a7-bd697b66b335",
   "metadata": {},
   "source": [
    "Q4. A researcher is interested in examining the relationship between the number of hours individuals\n",
    "spend watching television per day and their level of physical activity. The researcher collected data on\n",
    "both variables from a sample of 50 participants. Calculate the Pearson correlation coefficient between\n",
    "these two variables."
   ]
  },
  {
   "cell_type": "code",
   "execution_count": 27,
   "id": "60e2c5d3-b53c-46bf-ab68-36974802aeec",
   "metadata": {},
   "outputs": [
    {
     "name": "stdout",
     "output_type": "stream",
     "text": [
      "Pearson Correlation Coefficient: -0.7372516338690444\n"
     ]
    }
   ],
   "source": [
    "import pandas as pd\n",
    "import numpy as np\n",
    "\n",
    "# Create a sample dataframe\n",
    "data = {\n",
    "    'Participant': np.arange(1, 51),\n",
    "    \"TVHoursPerDay\": [2.5, 1.0, 3.0, 4.5, 2.0, 1.5, 3.5, 4.0, 2.0, 5.0,\n",
    "                       1.5, 3.0, 2.5, 4.0, 1.0, 3.5, 2.0, 2.5, 1.0, 3.0,\n",
    "                       4.0, 2.5, 1.5, 3.5, 2.0, 3.0, 4.0, 2.5, 1.0, 3.5,\n",
    "                       2.0, 2.5, 1.0, 3.0, 2.5, 4.0, 2.0, 1.5, 3.5, 2.0,\n",
    "                       4.0, 2.5, 1.0, 3.0, 2.5, 4.0, 2.0, 1.5, 3.5, 2.0],\n",
    "    \"PhysicalActivityLevel\": [4, 7, 3, 2, 5, 6, 3, 2, 5, 1,\n",
    "                              6, 3, 4, 2, 7, 3, 5, 4, 7, 3,\n",
    "                              2, 4, 6, 3, 5, 3, 2, 4, 7, 3,\n",
    "                              5, 4, 7, 3, 2, 4, 5, 6, 3, 2,\n",
    "                              5, 4, 7, 3, 2, 5, 4, 3, 2, 1]}\n",
    "\n",
    "df = pd.DataFrame(data)\n",
    "\n",
    "# Calculate Pearson correlation coefficient\n",
    "pearson_corr = df['TVHoursPerDay'].corr(df['PhysicalActivityLevel'])\n",
    "print(\"Pearson Correlation Coefficient:\", pearson_corr)"
   ]
  },
  {
   "cell_type": "markdown",
   "id": "7529799e-466d-4adc-abba-f06a18c6a97a",
   "metadata": {},
   "source": [
    "The Pearson correlation coefficient between the \"TVHoursPerDay\" and \"PhysicalActivityLevel\" variables is approximately -0.737. This coefficient indicates a moderately strong negative correlation between the two variables.\\\n",
    "A negative correlation coefficient indicates that as the number of hours individuals spend watching television per day increases, their level of physical activity tends to decrease.\\\n",
    "In practical terms, individuals who spend more hours watching television per day are likely to have lower levels of physical activity, and those who spend fewer hours watching television tend to have higher levels of physical activity."
   ]
  },
  {
   "cell_type": "markdown",
   "id": "15c6f007-ff65-414f-80e8-bcb0f42c01a2",
   "metadata": {},
   "source": [
    "Q5. A survey was conducted to examine the relationship between age and preference for a particular\n",
    "brand of soft drink. The survey results are shown below:"
   ]
  },
  {
   "attachments": {
    "29575765-afe2-4415-972a-a5f36c8914cf.png": {
     "image/png": "[encoded data removed]"
    }
   },
   "cell_type": "markdown",
   "id": "492c9426-802a-4926-b000-3df7ec8f9909",
   "metadata": {},
   "source": [
    "![image.png](attachment:29575765-afe2-4415-972a-a5f36c8914cf.png)"
   ]
  },
  {
   "cell_type": "code",
   "execution_count": 48,
   "id": "7c0627f4-300e-41c2-8abb-4b3ec29cc725",
   "metadata": {},
   "outputs": [
    {
     "name": "stdout",
     "output_type": "stream",
     "text": [
      "Covariance Matrix:\n",
      "                                        Age  SoftDrinkPreference_Coke  \\\n",
      "Age                               68.666667                      -3.8   \n",
      "SoftDrinkPreference_Coke          -3.800000                       0.3   \n",
      "SoftDrinkPreference_Mountain Dew   1.333333                      -0.1   \n",
      "SoftDrinkPreference_Pepsi          2.466667                      -0.2   \n",
      "\n",
      "                                  SoftDrinkPreference_Mountain Dew  \\\n",
      "Age                                                       1.333333   \n",
      "SoftDrinkPreference_Coke                                 -0.100000   \n",
      "SoftDrinkPreference_Mountain Dew                          0.166667   \n",
      "SoftDrinkPreference_Pepsi                                -0.066667   \n",
      "\n",
      "                                  SoftDrinkPreference_Pepsi  \n",
      "Age                                                2.466667  \n",
      "SoftDrinkPreference_Coke                          -0.200000  \n",
      "SoftDrinkPreference_Mountain Dew                  -0.066667  \n",
      "SoftDrinkPreference_Pepsi                          0.266667  \n",
      "\n",
      "Correlation Matrix:\n",
      "                                       Age  SoftDrinkPreference_Coke  \\\n",
      "Age                               1.000000                 -0.837240   \n",
      "SoftDrinkPreference_Coke         -0.837240                  1.000000   \n",
      "SoftDrinkPreference_Mountain Dew  0.394132                 -0.447214   \n",
      "SoftDrinkPreference_Pepsi         0.576439                 -0.707107   \n",
      "\n",
      "                                  SoftDrinkPreference_Mountain Dew  \\\n",
      "Age                                                       0.394132   \n",
      "SoftDrinkPreference_Coke                                 -0.447214   \n",
      "SoftDrinkPreference_Mountain Dew                          1.000000   \n",
      "SoftDrinkPreference_Pepsi                                -0.316228   \n",
      "\n",
      "                                  SoftDrinkPreference_Pepsi  \n",
      "Age                                                0.576439  \n",
      "SoftDrinkPreference_Coke                          -0.707107  \n",
      "SoftDrinkPreference_Mountain Dew                  -0.316228  \n",
      "SoftDrinkPreference_Pepsi                          1.000000  \n"
     ]
    }
   ],
   "source": [
    "import pandas as pd\n",
    "from sklearn.preprocessing import OneHotEncoder\n",
    "\n",
    "# Create the DataFrame\n",
    "data = {\n",
    "    'Age': [25, 42, 37, 19, 31, 28],\n",
    "    'SoftDrinkPreference': ['Coke', 'Pepsi', 'Mountain Dew', 'Coke', 'Pepsi', 'Coke']\n",
    "}\n",
    "df = pd.DataFrame(data)\n",
    "\n",
    "# Encode soft drink preference\n",
    "# Create an instance of the OneHotEncoder\n",
    "encoder = OneHotEncoder(sparse_output=False)\n",
    "\n",
    "# Fit and transform the categorical column\n",
    "encoded_columns = encoder.fit_transform(df[['SoftDrinkPreference']])\n",
    "\n",
    "# Create a new DataFrame with the encoded columns\n",
    "encoded_df = pd.DataFrame(encoded_columns, columns=encoder.get_feature_names_out(['SoftDrinkPreference']))\n",
    "\n",
    "# Concatenate the encoded DataFrame with the original DataFrame\n",
    "df_encoded = pd.concat([df, encoded_df], axis=1)\n",
    "\n",
    "# Drop the original categorical column\n",
    "df_encoded.drop('SoftDrinkPreference', axis=1, inplace=True)\n",
    "\n",
    "# Calculate covariance matrix\n",
    "covariance_matrix = df_encoded.cov()\n",
    "\n",
    "# Calculate correlation matrix\n",
    "correlation_matrix = df_encoded.corr()\n",
    "\n",
    "print(\"Covariance Matrix:\")\n",
    "print(covariance_matrix)\n",
    "\n",
    "print(\"\\nCorrelation Matrix:\")\n",
    "print(correlation_matrix)"
   ]
  },
  {
   "cell_type": "markdown",
   "id": "14ee511f-ddd2-46fc-8b67-10a9fb3bad20",
   "metadata": {},
   "source": [
    "Age and Soft Drink Preference (Coke):\n",
    "\n",
    "The covariance between \"Age\" and \"SoftDrinkPreference_Coke\" is negative (-3.8), indicating a potential inverse relationship.\\\n",
    "The correlation coefficient between \"Age\" and \"SoftDrinkPreference_Coke\" is -0.837240, indicating a strong negative linear relationship.\\\n",
    "Interpreting the negative correlation: As age increases, there is a tendency for individuals to prefer \"Coke\" less. In other words, older individuals in the sample are less likely to prefer \"Coke\" as their soft drink choice.\n",
    "\n",
    "Age and Soft Drink Preference (Mountain Dew):\n",
    "\n",
    "The covariance between \"Age\" and \"SoftDrinkPreference_Mountain Dew\" is positive (1.333), suggesting a potential positive relationship.\\\n",
    "The correlation coefficient between \"Age\" and \"SoftDrinkPreference_Mountain Dew\" is 0.394132, indicating a moderate positive linear relationship.\\\n",
    "Interpreting the positive correlation: As age increases, there is a tendency for individuals to prefer \"Mountain Dew\" more. While the correlation is positive, it's not as strong as the one for \"Coke.\"\n",
    "\n",
    "Age and Soft Drink Preference (Pepsi):\n",
    "\n",
    "The covariance between \"Age\" and \"SoftDrinkPreference_Pepsi\" is positive (2.466667), suggesting a potential positive relationship.\\\n",
    "The correlation coefficient between \"Age\" and \"SoftDrinkPreference_Pepsi\" is 0.576439, indicating a moderate positive linear relationship.\\\n",
    "Interpreting the positive correlation: As age increases, there is a tendency for individuals to prefer \"Pepsi\" more. Similar to \"Mountain Dew,\" the correlation with \"Pepsi\" is positive but not as strong as with \"Coke.\"\n",
    "\n",
    "Older individuals in the sample are less likely to prefer \"Coke\" but more likely to prefer \"Mountain Dew\" and \"Pepsi\" compared to younger individuals."
   ]
  },
  {
   "cell_type": "markdown",
   "id": "35341dfd-bf59-4e06-b0e7-eef7cc3e9d00",
   "metadata": {},
   "source": [
    "Q6. A company is interested in examining the relationship between the number of sales calls made per day\n",
    "and the number of sales made per week. The company collected data on both variables from a sample of\n",
    "30 sales representatives. Calculate the Pearson correlation coefficient between these two variables."
   ]
  },
  {
   "cell_type": "code",
   "execution_count": 52,
   "id": "0506308b-993a-44a5-83b2-3a7cba59de0c",
   "metadata": {},
   "outputs": [
    {
     "name": "stdout",
     "output_type": "stream",
     "text": [
      "Pearson Correlation Coefficient: 0.9910631155919037\n"
     ]
    }
   ],
   "source": [
    "import pandas as pd\n",
    "\n",
    "# Create a sample DataFrame\n",
    "data = {\n",
    "    'SalesCallsPerDay': [20, 25, 30, 15, 18, 22, 28, 23, 19, 21,\n",
    "                          26, 29, 27, 24, 16, 17, 14, 31, 32, 35,\n",
    "                          34, 33, 36, 37, 38, 39, 40, 42, 43, 44],\n",
    "    'SalesPerWeek': [10, 15, 20, 8, 9, 11, 17, 12, 10, 13,\n",
    "                     16, 19, 18, 14, 7, 7, 6, 22, 23, 24,\n",
    "                     21, 20, 25, 26, 27, 28, 30, 32, 33, 34]\n",
    "}\n",
    "\n",
    "df = pd.DataFrame(data)\n",
    "\n",
    "# Calculate the Pearson correlation coefficient\n",
    "correlation_coefficient = df['SalesCallsPerDay'].corr(df['SalesPerWeek'])\n",
    "\n",
    "print(\"Pearson Correlation Coefficient:\", correlation_coefficient)"
   ]
  },
  {
   "cell_type": "markdown",
   "id": "c518d158-84aa-4f29-b036-3e97074161e6",
   "metadata": {},
   "source": [
    "The Pearson correlation coefficient between the number of sales calls made per day and the number of sales made per week is approximately 0.991. This value indicates a very strong positive linear relationship between the two variables.\\\n",
    "In other words, as the number of sales calls increases, the number of sales made per week tends to increase as well. This indicates that there is a strong linear association between these two variables, and they tend to move in the same direction."
   ]
  },
  {
   "cell_type": "code",
   "execution_count": null,
   "id": "71030c89-0a26-4058-86ef-c5efb5a0067b",
   "metadata": {},
   "outputs": [],
   "source": []
  }
 ],
 "metadata": {
  "kernelspec": {
   "display_name": "Python 3 (ipykernel)",
   "language": "python",
   "name": "python3"
  },
  "language_info": {
   "codemirror_mode": {
    "name": "ipython",
    "version": 3
   },
   "file_extension": ".py",
   "mimetype": "text/x-python",
   "name": "python",
   "nbconvert_exporter": "python",
   "pygments_lexer": "ipython3",
   "version": "3.10.8"
  }
 },
 "nbformat": 4,
 "nbformat_minor": 5
}
