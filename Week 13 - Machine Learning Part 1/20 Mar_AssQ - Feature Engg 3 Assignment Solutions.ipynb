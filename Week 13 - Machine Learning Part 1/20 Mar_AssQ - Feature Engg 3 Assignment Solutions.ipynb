{
 "cells": [
  {
   "cell_type": "markdown",
   "id": "1094d517-0cfe-4c4e-bffe-8d0b94aec7e1",
   "metadata": {},
   "source": [
    "Q1. What is data encoding? How is it useful in data science?"
   ]
  },
  {
   "cell_type": "markdown",
   "id": "d516b407-6723-4860-a590-df1bd2db2f22",
   "metadata": {},
   "source": [
    "Data encoding refers to the process of converting categorical or textual data into a numerical format that can be easily processed by machine learning algorithms.\n",
    "\n",
    "Here's why data encoding is useful in data science:\n",
    "\n",
    "1. Algorithm Compatibility: \n",
    "Most machine learning algorithms are designed to work with numerical data. By encoding categorical features into numerical representations, we make our data compatible with a wide range of algorithms.\n",
    "\n",
    "2. Feature Engineering: \n",
    "Categorical data encoding is a crucial step in feature engineering, where we create new features or modify existing ones to improve model performance. Proper encoding can uncover patterns and relationships in the data that were previously hidden in categorical features.\n",
    "\n",
    "3. Dimensionality Reduction: \n",
    "In some cases, data encoding can lead to a more compact representation of categorical variables, reducing the dimensionality of the feature space and improving computational efficiency.\n",
    "\n",
    "4. Interpretability: \n",
    "Encoded features can improve the interpretability of models. Numerical representations of categorical data allow for better visualization and understanding of relationships between features and the target variable.\n",
    "\n",
    "5. Avoiding Bias: \n",
    "Proper data encoding helps avoid introducing biases into the model due to the way categorical data is represented. Biased encoding can lead to incorrect model assumptions and predictions.\n",
    "\n",
    "6. Handling Missing Values: \n",
    "Data encoding can facilitate handling missing values in categorical features. Encoded representations allow for effective imputation strategies.\n",
    "\n",
    "7. Scalability: Encoded numerical data is computationally efficient and can be processed quickly, which is important for large datasets."
   ]
  },
  {
   "cell_type": "markdown",
   "id": "7e15e231-2f18-45fb-941f-f88f54b5a3ed",
   "metadata": {},
   "source": [
    "Q2. What is nominal encoding? Provide an example of how you would use it in a real-world scenario."
   ]
  },
  {
   "cell_type": "markdown",
   "id": "4efb4bc2-0f43-46e4-b118-029c36257daa",
   "metadata": {},
   "source": [
    "Nominal encoding, also known as categorical encoding, is a technique used to convert categorical data into numerical form. It is typically applied to categorical variables where the categories have no inherent order or ranking. For example: City of person lives in, Gender of person, Marital Status, etc… In nominal encoding, each category is assigned a unique numerical value, allowing machine learning algorithms to process the data. \n",
    "\n",
    "Here's an example of how nominal encoding could be used in a real-world scenario:\n",
    "\n",
    "Scenario: Predicting Car Prices\n",
    "\n",
    "Suppose we are building a machine learning model to predict car prices based on various features, including the car's make, model, and color. Since the make and model are categorical variables, we need to encode them numerically.\n",
    "\n",
    "We decide to use one-hot encoding for the \"Make\" feature, which has categories like \"Toyota,\" \"Honda,\" and \"Ford.\" Each make becomes a binary column, and if a car is a Toyota, the \"Make_Toyota\" column would be 1 while the others are 0.\n",
    "\n",
    "Similarly for the \"Model\" feature, we might use one-hot encoding. If the categories are \"Sedan,\" \"SUV,\" and \"Convertible,\" Each model becomes a binary column.\n",
    "\n",
    "By performing nominal encoding, we can transform categorical data into numerical format suitable for machine learning algorithms, allowing model to learn patterns and make predictions effectively. "
   ]
  },
  {
   "cell_type": "markdown",
   "id": "ee2571d7-34e3-4529-9012-52fe1ec3b9e5",
   "metadata": {},
   "source": [
    "Q3. In what situations is nominal encoding preferred over one-hot encoding? Provide a practical example."
   ]
  },
  {
   "cell_type": "markdown",
   "id": "37d7328e-9854-472a-ba61-cd99259bf28d",
   "metadata": {},
   "source": [
    "Nominal encoding is preferred over one-hot encoding in situations where the categorical variable has a large number of unique categories, and the resulting one-hot encoded matrix would become extremely high-dimensional. One-hot encoding can lead to a sparse and memory-intensive representation, making the dataset challenging to handle and increasing the computational complexity of algorithms. In such cases, nominal encoding provides a more compact and efficient representation.\n",
    "\n",
    "Practical Example Scenario: Movie Genres\n",
    "\n",
    "Imagine you are working on a movie recommendation system and you have a feature that represents movie genres. There are hundreds of unique genres like \"Action,\" \"Comedy,\" \"Drama,\" \"Sci-Fi,\" \"Fantasy,\" and so on.\n",
    "\n",
    "One-Hot Encoding:\n",
    "In one-hot encoding, each unique genre would be represented as a separate binary feature column. For example, if you have 10 unique genres, you would end up with 10 new columns, each representing a specific genre. If a movie belongs to a particular genre, its corresponding column would have a value of 1, and all other genre columns would have a value of 0. This leads to a sparse matrix when you have many unique genres.\n",
    "\n",
    "Nominal Encoding:\n",
    "In nominal encoding, you assign a unique integer identifier to each genre. For instance, \"Action\" might be encoded as 1, \"Comedy\" as 2, \"Drama\" as 3, and so on. This results in a single column of integers representing the genres."
   ]
  },
  {
   "cell_type": "markdown",
   "id": "07ba06f5-2e20-456a-b8f5-d81c09ae4151",
   "metadata": {},
   "source": [
    "Q4. Suppose you have a dataset containing categorical data with 5 unique values. Which encoding\n",
    "technique would you use to transform this data into a format suitable for machine learning algorithms?\n",
    "Explain why you made this choice."
   ]
  },
  {
   "cell_type": "markdown",
   "id": "e460703b-7d90-479f-bf96-36e38e3ee6e4",
   "metadata": {},
   "source": [
    "If you have a categorical variable with 5 unique values, you have a few options for encoding the data into numerical format suitable for machine learning algorithms. The choice of encoding technique depends on the nature of the categorical variable, its relationship to the target variable, and the algorithm you plan to use. \\\n",
    "In this scenario, with only 5 unique values, one-hot encoding (OHE) is a reasonable choice.\n",
    "\n",
    "One-Hot Encoding (OHE):\\\n",
    "One-hot encoding is a technique that converts categorical variables into binary columns, where each unique value gets its own column. For a categorical variable with 5 unique values, one-hot encoding would create 5 binary columns, each representing one of the values.\n",
    "\n",
    "Why Choose One-Hot Encoding:\n",
    "1. Preservation of Information: \n",
    "OHE ensures that each unique value is explicitly represented, allowing the algorithm to understand the distinctions between categories.\n",
    "\n",
    "2. No Assumption of Order: \n",
    "OHE is suitable for nominal categorical data, where there is no inherent order or ranking among the categories.\n",
    "\n",
    "3. Minimal Loss of Information: \n",
    "With only 5 unique values, the resulting one-hot encoded matrix would have a manageable number of features, avoiding excessive dimensionality.\n",
    "\n",
    "4. Compatibility with Many Algorithms: \n",
    "One-hot encoded data is compatible with a wide range of machine learning algorithms, including linear models, decision trees, and neural networks.\n",
    "\n",
    "5. Interpretability: \n",
    "One-hot encoded features are easy to interpret and visualize. Each binary column directly corresponds to a categorical value."
   ]
  },
  {
   "cell_type": "markdown",
   "id": "c675fb3a-92e5-42c8-a4ec-6c95c61b4166",
   "metadata": {},
   "source": [
    "Q5. In a machine learning project, you have a dataset with 1000 rows and 5 columns. Two of the columns\n",
    "are categorical, and the remaining three columns are numerical. If you were to use nominal encoding to\n",
    "transform the categorical data, how many new columns would be created? Show your calculations."
   ]
  },
  {
   "cell_type": "markdown",
   "id": "062dd0c4-c37b-4f62-b263-c5fc09573c1f",
   "metadata": {},
   "source": [
    "If you were to use nominal encoding to transform categorical data in a dataset with 2 categorical columns, you would create a new column for each unique value within each categorical column. Since nominal encoding converts each category into a unique numerical value, the number of new columns created would be equal to the total number of unique values across both categorical columns.\n",
    "\n",
    "Let's assume the following:\n",
    "\n",
    "The first categorical column has 10 unique values.\\\n",
    "The second categorical column has 8 unique values.\n",
    "\n",
    "The total number of new columns created for nominal encoding would be:\\\n",
    "Number of new columns = Total unique values in categorical column 1 + Total unique values in categorical column 2 \\\n",
    "Number of new columns = 10 + 8 \\\n",
    "Number of new columns = 18 \n",
    "\n",
    "So, if you were to use nominal encoding on a dataset with 2 categorical columns, where one has 10 unique values and the other has 8 unique values, you would create 18 new columns in the transformed dataset."
   ]
  },
  {
   "cell_type": "markdown",
   "id": "3cc070bb-d14b-454d-824a-182ff99951ac",
   "metadata": {},
   "source": [
    "Q6. You are working with a dataset containing information about different types of animals, including their\n",
    "species, habitat, and diet. Which encoding technique would you use to transform the categorical data into\n",
    "a format suitable for machine learning algorithms? Justify your answer."
   ]
  },
  {
   "cell_type": "markdown",
   "id": "519334de-924b-4549-a3a7-04d86aa549be",
   "metadata": {},
   "source": [
    "In the scenario where you're working with a dataset containing information about different types of animals, including their species, habitat, and diet, you would likely need to apply a combination of encoding techniques to transform the categorical data into a format suitable for machine learning algorithms. The choice of techniques depends on the nature of the categorical variables, their relationships, and the machine learning algorithms you plan to use.\n",
    "\n",
    "Here's how you might approach encoding for the different categorical variables:\n",
    "\n",
    "Species (Nominal Categorical):\\\n",
    "The \"species\" column likely represents nominal categorical data, where each species has no inherent order. One-hot encoding (OHE) is a suitable technique for this type of variable. Each species would get its own binary column, and OHE would ensure that the algorithm doesn't assume any relationships between species.\n",
    "\n",
    "Habitat (Nominal Categorical):\\\n",
    "Similarly, the \"habitat\" column is also likely nominal categorical data, as habitats typically don't have a natural order. You would again use one-hot encoding to create binary columns for each unique habitat.\n",
    "\n",
    "Diet (Ordinal Categorical):\\\n",
    "The \"diet\" column might represent ordinal categorical data, as different diets could have an order (e.g., herbivore, omnivore, carnivore). If the order is meaningful, you could use ordinal encoding, assigning numerical values that reflect the order. However, if the ordinal relationship is complex or the number of categories is small, you might consider one-hot encoding to avoid introducing an unintended ordinal relationship."
   ]
  },
  {
   "cell_type": "markdown",
   "id": "e096581b-c54c-423c-92ed-38d87a8c03d8",
   "metadata": {},
   "source": [
    "Q7.You are working on a project that involves predicting customer churn for a telecommunications\n",
    "company. You have a dataset with 5 features, including the customer's gender, age, contract type,\n",
    "monthly charges, and tenure. Which encoding technique(s) would you use to transform the categorical\n",
    "data into numerical data? Provide a step-by-step explanation of how you would implement the encoding."
   ]
  },
  {
   "cell_type": "markdown",
   "id": "6104e05a-1bd2-4238-a220-60f65ea426c3",
   "metadata": {},
   "source": [
    "The categorical features in the dataset are \"gender\" and \"contract type.\" These features have distinct and non-ordinal categories. \\\n",
    "OHE is particularly useful for nominal categorical data like gender and contract type, where no inherent order exists between categories. OHE will create separate binary columns for each category.\n",
    "\n",
    "Gender is a binary categorical feature with two unique values: \"male\" and \"female\" --> (2 binary columns representing each category). \\\n",
    "Contract type is a nominal categorical feature with multiple unique values: \"month-to-month\", \"one year\" and \"two year\" --> (3 binary columns representing each category). \\\n",
    "Age, Monthly Charges, and Tenure: These are already in numerical format and don't require encoding."
   ]
  },
  {
   "cell_type": "code",
   "execution_count": 8,
   "id": "bbe3c100-8218-424d-b43c-44e66561c9e9",
   "metadata": {},
   "outputs": [
    {
     "name": "stdout",
     "output_type": "stream",
     "text": [
      "   gender  age   contract_type  monthly_charges  tenure  gender_Female  \\\n",
      "0    Male   32  Month-to-month             65.5      12            0.0   \n",
      "1  Female   45        Two year             75.2      24            1.0   \n",
      "2    Male   22  Month-to-month             85.0       6            0.0   \n",
      "3  Female   28        One year             60.3      18            1.0   \n",
      "4    Male   59        Two year             95.7      36            0.0   \n",
      "\n",
      "   gender_Male  contract_type_Month-to-month  contract_type_One year  \\\n",
      "0          1.0                           1.0                     0.0   \n",
      "1          0.0                           0.0                     0.0   \n",
      "2          1.0                           1.0                     0.0   \n",
      "3          0.0                           0.0                     1.0   \n",
      "4          1.0                           0.0                     0.0   \n",
      "\n",
      "   contract_type_Two year  \n",
      "0                     0.0  \n",
      "1                     1.0  \n",
      "2                     0.0  \n",
      "3                     0.0  \n",
      "4                     1.0  \n"
     ]
    }
   ],
   "source": [
    "from sklearn.preprocessing import OneHotEncoder\n",
    "import pandas as pd\n",
    "\n",
    "# Sample dataset\n",
    "data = {\n",
    "    'gender': ['Male', 'Female', 'Male', 'Female', 'Male'],\n",
    "    'age': [32, 45, 22, 28, 59],\n",
    "    'contract_type': ['Month-to-month', 'Two year', 'Month-to-month', 'One year', 'Two year'],\n",
    "    'monthly_charges': [65.5, 75.2, 85.0, 60.3, 95.7],\n",
    "    'tenure': [12, 24, 6, 18, 36]\n",
    "}\n",
    "\n",
    "# Create a DataFrame\n",
    "df = pd.DataFrame(data)\n",
    "\n",
    "# Select categorical columns for encoding\n",
    "categorical_columns = ['gender', 'contract_type']\n",
    "\n",
    "# Initialize OneHotEncoder\n",
    "encoder = OneHotEncoder()\n",
    "\n",
    "# Fit and transform the categorical columns using OneHotEncoder\n",
    "encoded_data = encoder.fit_transform(df[categorical_columns])\n",
    "\n",
    "# Create a DataFrame from the encoded data\n",
    "encoded_df = pd.DataFrame(encoded_data.toarray(), columns=encoder.get_feature_names_out())\n",
    "\n",
    "# Concatenate the encoded DataFrame with the original DataFrame\n",
    "final_df = pd.concat([df, encoded_df], axis=1)\n",
    "\n",
    "print(final_df)"
   ]
  },
  {
   "cell_type": "code",
   "execution_count": null,
   "id": "b7c93b5e-b3e5-4eb0-ab71-56bd67962898",
   "metadata": {},
   "outputs": [],
   "source": []
  }
 ],
 "metadata": {
  "kernelspec": {
   "display_name": "Python 3 (ipykernel)",
   "language": "python",
   "name": "python3"
  },
  "language_info": {
   "codemirror_mode": {
    "name": "ipython",
    "version": 3
   },
   "file_extension": ".py",
   "mimetype": "text/x-python",
   "name": "python",
   "nbconvert_exporter": "python",
   "pygments_lexer": "ipython3",
   "version": "3.10.8"
  }
 },
 "nbformat": 4,
 "nbformat_minor": 5
}
