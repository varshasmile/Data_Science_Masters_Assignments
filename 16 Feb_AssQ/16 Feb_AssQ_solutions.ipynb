{
 "cells": [
  {
   "cell_type": "markdown",
   "id": "3e6b7521-adb4-4450-abdb-ff0a1552c10f",
   "metadata": {},
   "source": [
    "Q1. What is a database? Differentiate between SQL and NoSQL databases."
   ]
  },
  {
   "cell_type": "markdown",
   "id": "0872ca03-a146-49e2-aa87-c2ba716d9cca",
   "metadata": {},
   "source": [
    "A database is a structured collection of data that is organized and stored in a way that allows for efficient retrieval, management, and manipulation of data. \n",
    "\n",
    "Differentiate between SQL and NoSQL databases:\n",
    "\n",
    "SQL Databases:\n",
    "\n",
    "Based on the relational model.\n",
    "Use structured query language (SQL).\n",
    "Predefined schema structure.\n",
    "Data organized into tables with rows and columns.\n",
    "Relationships between tables established using keys.\n",
    "Suitable for complex relationships and rigid schemas.\n",
    "\n",
    "NoSQL Databases:\n",
    "\n",
    "Designed for unstructured, semi-structured, and structured data.\n",
    "Flexible schema or schema-less approach.\n",
    "Use various data models (key-value, document, columnar, graph).\n",
    "Handle large volumes of data.\n",
    "Commonly used in modern web applications and real-time analytics."
   ]
  },
  {
   "cell_type": "markdown",
   "id": "ab75e803-04c3-404c-ad8f-daa652c40dc3",
   "metadata": {},
   "source": [
    "Q2. What is DDL? Explain why CREATE, DROP, ALTER, and TRUNCATE are used with an example."
   ]
  },
  {
   "cell_type": "markdown",
   "id": "13125afa-5dc7-4a49-8b0f-037013836073",
   "metadata": {},
   "source": [
    "DDL stands for Data Definition Language. It is a subset of SQL (Structured Query Language) used to define and manage the structure of a database. DDL statements are responsible for creating, modifying, and deleting database objects such as tables, indexes, views, and constraints.\n",
    "\n",
    "CREATE: The CREATE statement is used to create new database objects. For example, creating a table named \"Customers\" with columns \"ID,\" \"Name,\" and \"Email\" would look like this:\n",
    "\n",
    "CREATE TABLE Customers (\n",
    "  ID INT,\n",
    "  Name VARCHAR(50),\n",
    "  Email VARCHAR(100)\n",
    ");\n",
    "\n",
    "DROP: The DROP statement is used to remove existing database objects. For instance, dropping the \"Customers\" table would be done with the following command:\n",
    "\n",
    "DROP TABLE Customers;\n",
    "\n",
    "ALTER: The ALTER statement is used to modify the structure of an existing database object. It allows adding, modifying, or deleting columns, constraints, or indexes. Here's an example of adding a new column \"Phone\" to the \"Customers\" table:\n",
    "\n",
    "ALTER TABLE Customers ADD Phone VARCHAR(15);\n",
    "\n",
    "TRUNCATE: The TRUNCATE statement is used to remove all data from a table while keeping the table structure intact. It is faster than using DELETE, as it deallocates the space used by the table. For instance, truncating the \"Customers\" table would be done with the following command:\n",
    "\n",
    "TRUNCATE TABLE Customers;"
   ]
  },
  {
   "cell_type": "markdown",
   "id": "a55c52e0-34f8-48f5-a5d0-73290c490ffd",
   "metadata": {},
   "source": [
    "Q3. What is DML? Explain INSERT, UPDATE, and DELETE with an example."
   ]
  },
  {
   "cell_type": "markdown",
   "id": "d3fe82ed-8c4a-43c1-9cc1-72a7391c7592",
   "metadata": {},
   "source": [
    "DML stands for Data Manipulation Language. It is a subset of SQL (Structured Query Language) used to manipulate data within a database. DML statements are responsible for inserting, updating, and deleting data in database tables. \n",
    "\n",
    "INSERT: The INSERT statement is used to add new rows of data into a table. It allows you to specify the values to be inserted into each column of the table. For example, inserting a new record into the \"Customers\" table with values for the \"Name\" and \"Email\" columns:\n",
    "\n",
    "INSERT INTO Customers (Name, Email) VALUES ('John Doe', 'johndoe@example.com');\n",
    "\n",
    "UPDATE: The UPDATE statement is used to modify existing data within a table. It allows you to change the values of specific columns in one or more rows.\n",
    "\n",
    "UPDATE Customers SET Email = 'newemail@example.com' WHERE ID = 1;\n",
    "\n",
    "DELETE: The DELETE statement is used to remove one or more rows of data from a table. It allows you to specify a condition to identify the rows to be deleted.\n",
    "\n",
    "DELETE FROM Customers WHERE ID = 1;"
   ]
  },
  {
   "cell_type": "markdown",
   "id": "68005d29-d9aa-46bd-b08e-1511aa222cf4",
   "metadata": {},
   "source": [
    "Q4. What is DQL? Explain SELECT with an example."
   ]
  },
  {
   "cell_type": "markdown",
   "id": "30873105-fc2a-4fef-9e35-00aa25843fa9",
   "metadata": {},
   "source": [
    "DQL stands for Data Query Language. It is a subset of SQL (Structured Query Language) used for querying and retrieving data from a database. DQL statements are primarily focused on fetching and retrieving data based on specific criteria. Here's an explanation of the SELECT statement with an example:\n",
    "\n",
    "SELECT: The SELECT statement is used to retrieve data from one or more tables in a database. It allows you to specify the columns you want to retrieve, the table(s) to query, and any conditions or criteria for filtering the results. \n",
    "\n",
    "SELECT FirstName, LastName\n",
    "FROM Employees\n",
    "WHERE Salary > 50000;"
   ]
  },
  {
   "cell_type": "markdown",
   "id": "abf5d47b-29fd-42b8-8cd4-c9f5990fd013",
   "metadata": {},
   "source": [
    "Q5. Explain Primary Key and Foreign Key."
   ]
  },
  {
   "cell_type": "markdown",
   "id": "4a7a4187-9d35-4794-bbef-0a22bcbb7f20",
   "metadata": {},
   "source": [
    "Primary Key:\n",
    "\n",
    "A primary key is a column or a set of columns in a table that uniquely identifies each row in that table.\n",
    "It must have a unique value for each row and cannot contain null values.\n",
    "A primary key is used to ensure the uniqueness of records in a table.\n",
    "It enables efficient indexing and retrieval of data, as well as establishing relationships with other tables through foreign keys.\n",
    "\n",
    "Example:\n",
    "Consider a table named \"Customers\" with columns such as \"CustomerID,\" \"Name,\" and \"Email.\" To make \"CustomerID\" the primary key:\n",
    "\n",
    "CREATE TABLE Customers (\n",
    "  CustomerID INT PRIMARY KEY,\n",
    "  Name VARCHAR(50),\n",
    "  Email VARCHAR(100)\n",
    ");\n",
    "\n",
    "Foreign Key:\n",
    "\n",
    "A foreign key is a column or a set of columns in a table that refers to the primary key of another table.\n",
    "It establishes a relationship between two tables, defining a parent-child relationship.\n",
    "The foreign key constraint ensures referential integrity by enforcing that the values in the foreign key column(s) must exist in the referenced table's primary key column(s).\n",
    "\n",
    "Example:\n",
    "Suppose we have another table named \"Orders\" with columns such as \"OrderID,\" \"CustomerID,\" and \"OrderDate.\" Here, \"CustomerID\" can be a foreign key referencing the \"CustomerID\" column in the \"Customers\" table.\n",
    "\n",
    "CREATE TABLE Orders (\n",
    "  OrderID INT PRIMARY KEY,\n",
    "  CustomerID INT,\n",
    "  OrderDate DATE,\n",
    "  FOREIGN KEY (CustomerID) REFERENCES Customers(CustomerID)\n",
    ");"
   ]
  },
  {
   "cell_type": "markdown",
   "id": "794a321d-7780-4f30-8c4b-a5fdaaed40a7",
   "metadata": {},
   "source": [
    "Q7. Give the order of execution of SQL clauses in an SQL query."
   ]
  },
  {
   "cell_type": "markdown",
   "id": "af432e9f-b28d-4902-b4af-ddae8d3ab133",
   "metadata": {},
   "source": [
    "1. FROM: Specifies the table or tables from which the data will be retrieved.\n",
    "2. JOIN: If there are any JOIN operations, they are performed next to combine data from multiple tables.\n",
    "3. WHERE: Filters the rows based on specified conditions.\n",
    "4. GROUP BY: Groups the rows based on specified columns.\n",
    "5. HAVING: Filters the grouped rows based on specified conditions.\n",
    "6. SELECT: Retrieves the desired columns or expressions from the resulting rows.\n",
    "7. DISTINCT: Removes duplicate rows from the result set, if specified.\n",
    "ORDER BY: Sorts the result set based on specified columns or expressions.\n",
    "LIMIT/OFFSET: Limits the number of rows returned or specifies the starting point for the result set, if specified."
   ]
  }
 ],
 "metadata": {
  "kernelspec": {
   "display_name": "Python 3 (ipykernel)",
   "language": "python",
   "name": "python3"
  },
  "language_info": {
   "codemirror_mode": {
    "name": "ipython",
    "version": 3
   },
   "file_extension": ".py",
   "mimetype": "text/x-python",
   "name": "python",
   "nbconvert_exporter": "python",
   "pygments_lexer": "ipython3",
   "version": "3.10.8"
  }
 },
 "nbformat": 4,
 "nbformat_minor": 5
}
