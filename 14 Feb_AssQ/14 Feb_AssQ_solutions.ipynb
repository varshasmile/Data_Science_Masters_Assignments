{
 "cells": [
  {
   "cell_type": "code",
   "execution_count": 1,
   "id": "0d52b1f0-d43e-4ceb-9615-67328c2b9c15",
   "metadata": {},
   "outputs": [],
   "source": [
    "import logging\n",
    "\n",
    "logging.basicConfig(filename='Multithreading.log', level=logging.DEBUG, format='%(asctime)s %(name)s %(levelname)s %(message)s')"
   ]
  },
  {
   "cell_type": "markdown",
   "id": "6fb06f07-d7c3-4859-916a-6fb2155b0d02",
   "metadata": {},
   "source": [
    "Q1. What is multithreading in python? Why is it used? Name the module used to handle threads in python"
   ]
  },
  {
   "cell_type": "markdown",
   "id": "194d9535-e317-468c-9816-70fb4a7392e6",
   "metadata": {},
   "source": [
    "Multithreading in Python refers to the execution of multiple threads concurrently within a single program. A thread is a lightweight subprocess that can perform tasks independently, sharing the same memory space as other threads within the same process. Multithreading allows for parallel execution of tasks, enabling programs to efficiently utilize system resources and improve performance.\n",
    "\n",
    "Multithreading is used in Python to achieve concurrency, where multiple tasks can be executed simultaneously, taking advantage of the available CPU cores. It is particularly useful for tasks that involve I/O operations, such as network requests or file operations, where the program can perform other tasks while waiting for I/O to complete.\n",
    "\n",
    "The module used to handle threads in Python is called 'threading'. It provides a high-level interface for creating, managing, and synchronizing threads. The threading module allows developers to define and start threads, control their execution, and implement synchronization mechanisms to coordinate shared resources among threads."
   ]
  },
  {
   "cell_type": "markdown",
   "id": "208aa4f9-ab8d-4655-a4a7-f99a3b17c262",
   "metadata": {},
   "source": [
    "Q2. Why threading module used? Write the use of the following functions:\n",
    " 1. activeCount()\n",
    " 2. currentThread()\n",
    " 3. enumerate()"
   ]
  },
  {
   "cell_type": "markdown",
   "id": "35e9d5ea-21a3-466a-baf7-39c8af51357e",
   "metadata": {},
   "source": [
    "The threading module in Python is used for working with threads, allowing developers to create and manage threads in their programs. It provides a high-level interface and functions to facilitate concurrent execution and synchronization of tasks.\n",
    "\n",
    "The following functions in the threading module are commonly used:\n",
    "\n",
    "1. activeCount(): This function returns the number of Thread objects currently alive. It provides the count of active threads in the program.\n",
    "\n",
    "2. currentThread(): This function returns the Thread object representing the current thread of execution. It allows you to access and manipulate properties of the current thread.\n",
    "\n",
    "3. enumerate(): This function returns a list of all Thread objects currently alive. It returns a list of active threads in the program."
   ]
  },
  {
   "cell_type": "markdown",
   "id": "e1c9a49a-78fd-4001-8e0a-ddaee75fa265",
   "metadata": {},
   "source": [
    "Q3. Explain the following functions:\n",
    " 1. run()\n",
    " 2. start()\n",
    " 3. join()\n",
    " 4. isAlive()"
   ]
  },
  {
   "cell_type": "markdown",
   "id": "271fec1f-9969-4181-845f-9fe91139df29",
   "metadata": {},
   "source": [
    "1. run(): This method represents the entry point for thread execution. When a Thread object is created, the run() method contains the code that will be executed in the separate thread. By default, the run() method calls the target function specified during the Thread object creation. You can override this method to define custom thread behavior.\n",
    "\n",
    "2. start(): This method starts the execution of a thread by calling the run() method. It initializes the thread and allocates system resources for its execution. Once the start() method is called, the run() method is invoked in a separate thread of execution.\n",
    "\n",
    "3. join(): This method is used to wait for a thread to complete its execution. When the join() method is called on a thread, the program blocks and waits until that thread terminates. This is useful when you want to ensure that all threads have finished before proceeding further.\n",
    "\n",
    "4. isAlive(): This method checks if a thread is still alive or running. It returns True if the thread is currently executing and has not yet terminated, and False otherwise."
   ]
  },
  {
   "cell_type": "markdown",
   "id": "8dfd6f09-30ea-45cb-af8b-88a7ecc47a7e",
   "metadata": {},
   "source": [
    "Q4. Write a python program to create two threads. Thread one must print the list of squares and thread\n",
    "two must print the list of cubes."
   ]
  },
  {
   "cell_type": "code",
   "execution_count": 2,
   "id": "a2af4dc6-59d0-4137-bd08-5d5fe84f465d",
   "metadata": {},
   "outputs": [],
   "source": [
    "logging.info('Question No. 4: ')\n",
    "\n",
    "import threading\n",
    "\n",
    "def print_squares():\n",
    "    logging.debug('Inside print_squares function, Printing list of squares')\n",
    "    squares = [x**2 for x in range(1, 10)]\n",
    "    logging.debug(f'list of squares: {squares}')\n",
    "    \n",
    "def print_cubes():\n",
    "    logging.debug('inside print_cubes function, Printing list of cubes')\n",
    "    cubes = [x**3 for x in range(1, 10)]\n",
    "    logging.debug(f'list of cubes: {cubes}')\n",
    "\n",
    "logging.info('Creating two threads, one prints the list of squares, another prints the list of cubes.')\n",
    "thread1 = threading.Thread(target=print_squares)\n",
    "thread2 = threading.Thread(target=print_cubes)\n",
    "\n",
    "# Start the threads\n",
    "thread1.start()\n",
    "thread2.start()\n",
    "\n",
    "# Use join() to wait for both threads to complete\n",
    "thread1.join()\n",
    "thread2.join()\n",
    "\n",
    "logging.debug('Main program execution completed')"
   ]
  },
  {
   "cell_type": "markdown",
   "id": "922d2d03-4f43-4498-9ac3-7f2ac5c1fad9",
   "metadata": {},
   "source": [
    "Q5. State advantages and disadvantages of multithreading"
   ]
  },
  {
   "cell_type": "markdown",
   "id": "554f1754-ab54-4b2b-a56e-a04449eaee38",
   "metadata": {},
   "source": [
    "Advantages of Multithreading:\n",
    "\n",
    "i. Improved performance by utilizing available CPU resources efficiently.\n",
    "\n",
    "ii. Enhanced responsiveness and user experience, especially for time-consuming or blocking operations.\n",
    "\n",
    "iii. Efficient resource sharing and communication between threads.\n",
    "\n",
    "iv. Simplified program design by dividing complex tasks into smaller, manageable threads.\n",
    "\n",
    "Disadvantages of Multithreading:\n",
    "\n",
    "i. Increased complexity in program design and implementation.\n",
    "\n",
    "ii. Overhead of synchronization mechanisms for shared resources.\n",
    "\n",
    "iii. Difficulty in reproducing and debugging certain types of bugs.\n",
    "\n",
    "iv. Consumption of system resources, especially with a large number of threads."
   ]
  },
  {
   "cell_type": "markdown",
   "id": "89256030-83ba-4eea-9254-b916ffefc6a8",
   "metadata": {},
   "source": [
    "Q6. Explain deadlocks and race conditions."
   ]
  },
  {
   "cell_type": "markdown",
   "id": "88603ad2-f686-4590-a7f1-25b15d647980",
   "metadata": {},
   "source": [
    "Deadlock:\n",
    "Deadlock refers to a situation in multithreading where two or more threads are unable to proceed because each is waiting for a resource that is held by another thread in the same set. In other words, deadlock occurs when two or more threads are blocked forever, waiting for each other to release the resources they hold.\n",
    "\n",
    "Race Condition:\n",
    "A race condition occurs in multithreading when the behavior of a program depends on the relative execution order of threads, which leads to unpredictable and undesired results. It happens when multiple threads access shared data concurrently, and the final outcome depends on the interleaving or timing of thread execution."
   ]
  },
  {
   "cell_type": "code",
   "execution_count": null,
   "id": "2311a906-74cd-4909-b3dd-da2ab6eae2d2",
   "metadata": {},
   "outputs": [],
   "source": []
  }
 ],
 "metadata": {
  "kernelspec": {
   "display_name": "Python 3 (ipykernel)",
   "language": "python",
   "name": "python3"
  },
  "language_info": {
   "codemirror_mode": {
    "name": "ipython",
    "version": 3
   },
   "file_extension": ".py",
   "mimetype": "text/x-python",
   "name": "python",
   "nbconvert_exporter": "python",
   "pygments_lexer": "ipython3",
   "version": "3.10.8"
  }
 },
 "nbformat": 4,
 "nbformat_minor": 5
}
