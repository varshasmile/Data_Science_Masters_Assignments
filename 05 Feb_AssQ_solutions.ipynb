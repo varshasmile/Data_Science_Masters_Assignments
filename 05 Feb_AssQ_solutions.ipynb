{
 "cells": [
  {
   "cell_type": "markdown",
   "id": "ee3475cf-6b95-42cd-a769-ffee145caada",
   "metadata": {},
   "source": [
    "Q1. Explain Class and Object with respect to Object-Oriented Programming. Give a suitable example."
   ]
  },
  {
   "cell_type": "markdown",
   "id": "5b2cc4be-bfb6-4b33-9efd-f8130a5041d3",
   "metadata": {},
   "source": [
    "Class: Class is a blueprint or a template that defines the properties (attributes) and behaviors (methods) of objects. It provides a way to create objects based on its defined structure. \n",
    "Object: An object is an instance of a class. It represents a specific entity that possesses the characteristics defined by its class.\n",
    "Example:"
   ]
  },
  {
   "cell_type": "code",
   "execution_count": 7,
   "id": "2310e7b8-70fe-44ac-8eb5-e1e38bd36bfd",
   "metadata": {},
   "outputs": [],
   "source": [
    "class Rectangle:\n",
    "    def __init__(self, length, width):\n",
    "        self.length = length\n",
    "        self.width = width\n",
    "    \n",
    "    def cal_area(self):\n",
    "        return self.length * self.width\n",
    "    \n",
    "    def cal_perimeter(self):\n",
    "        return 2 * (self.length + self.width)"
   ]
  },
  {
   "cell_type": "code",
   "execution_count": 8,
   "id": "276719ab-5a19-42af-a16a-5d93551a6c90",
   "metadata": {},
   "outputs": [],
   "source": [
    "rect1 = Rectangle(5,3)                   #Object1\n",
    "rect2 = Rectangle(6,9)                   #object2"
   ]
  },
  {
   "cell_type": "code",
   "execution_count": 9,
   "id": "809c8053-8f55-4dd3-8385-975564d2d0e4",
   "metadata": {},
   "outputs": [
    {
     "data": {
      "text/plain": [
       "15"
      ]
     },
     "execution_count": 9,
     "metadata": {},
     "output_type": "execute_result"
    }
   ],
   "source": [
    "rect1.cal_area()"
   ]
  },
  {
   "cell_type": "code",
   "execution_count": 10,
   "id": "97256c23-d51c-4fb0-b14d-cdea63dd7cdb",
   "metadata": {},
   "outputs": [
    {
     "data": {
      "text/plain": [
       "16"
      ]
     },
     "execution_count": 10,
     "metadata": {},
     "output_type": "execute_result"
    }
   ],
   "source": [
    "rect1.cal_perimeter()"
   ]
  },
  {
   "cell_type": "code",
   "execution_count": 12,
   "id": "79c4ffc0-af05-4bab-8db1-51c1e3e77c3a",
   "metadata": {},
   "outputs": [
    {
     "data": {
      "text/plain": [
       "54"
      ]
     },
     "execution_count": 12,
     "metadata": {},
     "output_type": "execute_result"
    }
   ],
   "source": [
    "rect2.cal_area()"
   ]
  },
  {
   "cell_type": "code",
   "execution_count": 13,
   "id": "cd8e994e-e6e7-42b6-8200-638780d3b110",
   "metadata": {},
   "outputs": [
    {
     "data": {
      "text/plain": [
       "30"
      ]
     },
     "execution_count": 13,
     "metadata": {},
     "output_type": "execute_result"
    }
   ],
   "source": [
    "rect2.cal_perimeter()"
   ]
  },
  {
   "cell_type": "markdown",
   "id": "d669c389-f6f5-4f2b-92bb-80461d0100ee",
   "metadata": {},
   "source": [
    "Q2. Name the four pillars of OOPs."
   ]
  },
  {
   "cell_type": "markdown",
   "id": "29eb80a9-00cb-403c-8c94-7fc86134bca2",
   "metadata": {},
   "source": [
    "The Four Pillars of Object Oriented Programming:\n",
    "1. Abstraction.\n",
    "2. Encapsulation.\n",
    "3. Inheritance.\n",
    "4. Polymorphism."
   ]
  },
  {
   "cell_type": "markdown",
   "id": "bdda59a5-65ad-4e91-b6ec-73b4759b279e",
   "metadata": {},
   "source": [
    "Q3. Explain why the __init__() function is used. Give a suitable example."
   ]
  },
  {
   "cell_type": "markdown",
   "id": "24018247-3458-4398-acb0-3c4ca2e97833",
   "metadata": {},
   "source": [
    "The __init__() function, also known as the constructor, is used in Python classes to initialize the attributes of an object when it is created. It is a special method that gets called automatically when a new instance of a class is instantiated.\n",
    "\n",
    "The purpose of the __init__() function is to set up the initial state of the object by assigning values to its attributes. This ensures that every object created from the class starts with the specified attributes in a consistent state."
   ]
  },
  {
   "cell_type": "code",
   "execution_count": 14,
   "id": "44d37d0c-ca8d-4782-8a04-95a2381b9016",
   "metadata": {},
   "outputs": [],
   "source": [
    "class Person:\n",
    "    def __init__(self, name, age):\n",
    "        self.name = name\n",
    "        self.age = age\n",
    "\n",
    "    def intro(self):\n",
    "        print(f\"Hello, my name is {self.name} and I am {self.age} years old.\")"
   ]
  },
  {
   "cell_type": "code",
   "execution_count": 15,
   "id": "57a1dcab-e0b3-425b-b20a-2af397aa11c1",
   "metadata": {},
   "outputs": [],
   "source": [
    "P1 = Person('Raj', 26)\n",
    "P2 = Person('Simran', 25)"
   ]
  },
  {
   "cell_type": "code",
   "execution_count": 16,
   "id": "e139e761-19ee-4501-a7ea-e803c35cf772",
   "metadata": {},
   "outputs": [
    {
     "data": {
      "text/plain": [
       "'Raj'"
      ]
     },
     "execution_count": 16,
     "metadata": {},
     "output_type": "execute_result"
    }
   ],
   "source": [
    "P1.name"
   ]
  },
  {
   "cell_type": "code",
   "execution_count": 17,
   "id": "3ad6bf08-53f1-4f51-99d6-c28defbba50d",
   "metadata": {},
   "outputs": [
    {
     "data": {
      "text/plain": [
       "25"
      ]
     },
     "execution_count": 17,
     "metadata": {},
     "output_type": "execute_result"
    }
   ],
   "source": [
    "P2.age"
   ]
  },
  {
   "cell_type": "code",
   "execution_count": 19,
   "id": "ef30db50-d16d-482d-8f69-90ee2aa86a3f",
   "metadata": {},
   "outputs": [
    {
     "name": "stdout",
     "output_type": "stream",
     "text": [
      "Hello, my name is Raj and I am 26 years old.\n"
     ]
    }
   ],
   "source": [
    "P1.intro()"
   ]
  },
  {
   "cell_type": "code",
   "execution_count": 21,
   "id": "a86657b4-48bc-40c8-9ed8-2a3bd8aca655",
   "metadata": {},
   "outputs": [
    {
     "name": "stdout",
     "output_type": "stream",
     "text": [
      "Hello, my name is Simran and I am 25 years old.\n"
     ]
    }
   ],
   "source": [
    "P2.intro()"
   ]
  },
  {
   "cell_type": "markdown",
   "id": "051c3769-1b5d-4733-a5f9-a7240fe2b55f",
   "metadata": {},
   "source": [
    "Q4. Why self is used in OOPs?"
   ]
  },
  {
   "cell_type": "markdown",
   "id": "07bed2fa-7e38-47f1-a0b2-ca9a1af8e3e4",
   "metadata": {},
   "source": [
    "In object-oriented programming (OOP), the self keyword is used as a convention to refer to the current instance of a class. It acts as a reference to the object itself and allows accessing its attributes and methods within the class definition."
   ]
  },
  {
   "cell_type": "markdown",
   "id": "ebf1ab0c-86c9-4ae3-bb5d-1369685cb3c6",
   "metadata": {},
   "source": [
    "Q5. What is inheritance? Give an example for each type of inheritance."
   ]
  },
  {
   "cell_type": "markdown",
   "id": "93a3aabb-5e80-4cc5-be28-28e89ac52fbe",
   "metadata": {},
   "source": [
    "Inheritance is a fundamental concept in object-oriented programming (OOP) that allows a class to inherit attributes and methods from another class. It establishes a parent-child relationship between classes, where the child class (derived class) inherits the properties of the parent class (base class). Inheritance promotes code reusability.\n",
    "\n",
    "3 Types of Inheritance:\n",
    "i. Single Inheritance: A class(child class) inherits properties from a single parent class.\n",
    "ii. Multi-level Inheritance: Multilevel inheritance refers to a chain of inheritance where a derived class becomes the parent class for another class. \n",
    "iii. Multiple Inheritance: Multiple inheritance involves inheriting properties from multiple parent classes."
   ]
  },
  {
   "cell_type": "code",
   "execution_count": 27,
   "id": "ec3e662b-717e-45b4-acee-4863c6f97603",
   "metadata": {},
   "outputs": [],
   "source": [
    "# Single Inheritance\n",
    "class Animal:                                         #parent class (base)\n",
    "    def eat(self):\n",
    "        print('This Animal is eating')\n",
    "         \n",
    "class Dog(Animal):                                    #child class (derived)\n",
    "    def bark(self):\n",
    "        print('The dog is barking')\n",
    "        \n",
    "dog = Dog()"
   ]
  },
  {
   "cell_type": "code",
   "execution_count": 28,
   "id": "5f40376a-9b88-4c92-bfe4-a9851c70e959",
   "metadata": {},
   "outputs": [
    {
     "name": "stdout",
     "output_type": "stream",
     "text": [
      "The dog is barking\n"
     ]
    }
   ],
   "source": [
    "dog.bark()"
   ]
  },
  {
   "cell_type": "code",
   "execution_count": 29,
   "id": "580160da-3a15-4e90-81c9-57e095cc30c0",
   "metadata": {},
   "outputs": [
    {
     "name": "stdout",
     "output_type": "stream",
     "text": [
      "This Animal is eating\n"
     ]
    }
   ],
   "source": [
    "dog.eat()"
   ]
  },
  {
   "cell_type": "code",
   "execution_count": 49,
   "id": "fa65611d-5b73-467d-97c1-bb98b0f0fba2",
   "metadata": {},
   "outputs": [],
   "source": [
    "# Multi-level Inheritance\n",
    "class Vehicle:\n",
    "    def start(self):\n",
    "        print(\"Vehicle is starting.\")\n",
    "\n",
    "class Car(Vehicle):\n",
    "    def drive(self):\n",
    "        print(\"Car is driving.\")\n",
    "\n",
    "class SportsCar(Car):\n",
    "    def race(self):\n",
    "        print(\"Sports car is racing.\")\n",
    "        \n",
    "sports_car1 = SportsCar()\n",
    "maruti = Car()"
   ]
  },
  {
   "cell_type": "code",
   "execution_count": 50,
   "id": "26ebb7c2-b9f8-44c4-a9c8-47def16ff8c2",
   "metadata": {},
   "outputs": [
    {
     "name": "stdout",
     "output_type": "stream",
     "text": [
      "Sports car is racing.\n"
     ]
    }
   ],
   "source": [
    "sports_car1.race()"
   ]
  },
  {
   "cell_type": "code",
   "execution_count": 51,
   "id": "340aa202-2534-4aea-a829-0c3a19eb285f",
   "metadata": {},
   "outputs": [
    {
     "name": "stdout",
     "output_type": "stream",
     "text": [
      "Car is driving.\n"
     ]
    }
   ],
   "source": [
    "sports_car1.drive()"
   ]
  },
  {
   "cell_type": "code",
   "execution_count": 52,
   "id": "aae106af-4516-44b1-a4e3-c5b833e89d20",
   "metadata": {},
   "outputs": [
    {
     "name": "stdout",
     "output_type": "stream",
     "text": [
      "Vehicle is starting.\n"
     ]
    }
   ],
   "source": [
    "sports_car1.start()"
   ]
  },
  {
   "cell_type": "code",
   "execution_count": 53,
   "id": "6f04fcd3-6db6-4649-ba72-719bc17a27c8",
   "metadata": {},
   "outputs": [
    {
     "name": "stdout",
     "output_type": "stream",
     "text": [
      "Car is driving.\n"
     ]
    }
   ],
   "source": [
    "maruti.drive()"
   ]
  },
  {
   "cell_type": "code",
   "execution_count": 54,
   "id": "024209d4-83ad-4356-8ca2-cc29b4ffe162",
   "metadata": {},
   "outputs": [
    {
     "name": "stdout",
     "output_type": "stream",
     "text": [
      "Vehicle is starting.\n"
     ]
    }
   ],
   "source": [
    "maruti.start()"
   ]
  },
  {
   "cell_type": "code",
   "execution_count": 44,
   "id": "75340cb2-dfcd-4b36-8e42-a4ac06f1c2bd",
   "metadata": {},
   "outputs": [],
   "source": [
    "# Multiple Inheritance\n",
    "class Shape:\n",
    "    def draw(self):\n",
    "        print(\"Drawing a shape.\")\n",
    "\n",
    "class Color:\n",
    "    def apply_color(self):\n",
    "        print(\"Applying color.\")\n",
    "\n",
    "class Square(Shape, Color):\n",
    "    def __init__(self, side_length):\n",
    "        self.side_length = side_length\n",
    "\n",
    "    def calculate_area(self):\n",
    "        return self.side_length ** 2\n",
    "    \n",
    "sqr1 = Square(4)"
   ]
  },
  {
   "cell_type": "code",
   "execution_count": 46,
   "id": "459c7293-c1c3-4621-b300-9821ed0de80e",
   "metadata": {},
   "outputs": [
    {
     "data": {
      "text/plain": [
       "16"
      ]
     },
     "execution_count": 46,
     "metadata": {},
     "output_type": "execute_result"
    }
   ],
   "source": [
    "sqr1.calculate_area()"
   ]
  },
  {
   "cell_type": "code",
   "execution_count": 47,
   "id": "02adeab6-16cb-48ba-886e-f1370a311c5d",
   "metadata": {},
   "outputs": [
    {
     "name": "stdout",
     "output_type": "stream",
     "text": [
      "Drawing a shape.\n"
     ]
    }
   ],
   "source": [
    "sqr1.draw()"
   ]
  },
  {
   "cell_type": "code",
   "execution_count": 48,
   "id": "e97c6e6e-57b3-465f-9783-00f4c3ebbbd8",
   "metadata": {},
   "outputs": [
    {
     "name": "stdout",
     "output_type": "stream",
     "text": [
      "Applying color.\n"
     ]
    }
   ],
   "source": [
    "sqr1.apply_color()"
   ]
  },
  {
   "cell_type": "code",
   "execution_count": null,
   "id": "27017621-bd43-439f-a202-61aba3889adf",
   "metadata": {},
   "outputs": [],
   "source": []
  }
 ],
 "metadata": {
  "kernelspec": {
   "display_name": "Python 3 (ipykernel)",
   "language": "python",
   "name": "python3"
  },
  "language_info": {
   "codemirror_mode": {
    "name": "ipython",
    "version": 3
   },
   "file_extension": ".py",
   "mimetype": "text/x-python",
   "name": "python",
   "nbconvert_exporter": "python",
   "pygments_lexer": "ipython3",
   "version": "3.10.8"
  }
 },
 "nbformat": 4,
 "nbformat_minor": 5
}
