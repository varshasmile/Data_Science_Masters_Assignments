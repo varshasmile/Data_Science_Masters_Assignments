{
 "cells": [
  {
   "cell_type": "markdown",
   "id": "5a17c519-161b-4f35-8520-6967b8b8297a",
   "metadata": {},
   "source": [
    "Q1. How do you comment code in Python? What are the different types of comments?"
   ]
  },
  {
   "cell_type": "markdown",
   "id": "ebbee3fa-180c-450c-a95b-01c67708669a",
   "metadata": {},
   "source": [
    "In Python, we can comment the code using the '#' symbol. Anything after the '#' on a line is considered a comment and is ignored by the interpreter. \n",
    "Python supports two types of comments:\n",
    "i. Single-line comments: These comments start with a '#' and only span a single line. They are useful for adding short descriptions or explanations.\n",
    "ii. Multi-line comments: These comments can span multiple lines and are often used for longer explanations or to temporarily disable blocks of code.\n",
    "Examples:"
   ]
  },
  {
   "cell_type": "code",
   "execution_count": 1,
   "id": "4e94fe29-8fee-462a-ae86-480f4bce08e7",
   "metadata": {},
   "outputs": [],
   "source": [
    "# This is a single-line comment"
   ]
  },
  {
   "cell_type": "code",
   "execution_count": 2,
   "id": "6f434b6d-621e-462c-aac6-3480ed9540f3",
   "metadata": {},
   "outputs": [
    {
     "data": {
      "text/plain": [
       "'\\nThis is a multi-line comment.\\nIt can span multiple lines.\\n'"
      ]
     },
     "execution_count": 2,
     "metadata": {},
     "output_type": "execute_result"
    }
   ],
   "source": [
    "\"\"\"\n",
    "This is a multi-line comment.\n",
    "It can span multiple lines.\n",
    "\"\"\""
   ]
  },
  {
   "cell_type": "markdown",
   "id": "dc2fb7ab-7a9f-4c9f-8b98-54d1b710b1bb",
   "metadata": {},
   "source": [
    "Q2. What are variables in Python? How do you declare and assign values to variables?"
   ]
  },
  {
   "cell_type": "markdown",
   "id": "4af90a75-8187-4c9c-8246-e15f98c98dac",
   "metadata": {},
   "source": [
    "In Python, variables are used to store and manipulate data. They act as containers that hold values of different types, such as numbers, strings, or objects. When you declare a variable, you are creating a named storage location in the computer's memory.\n",
    "\n",
    "To declare and assign a value to a variable in Python, you follow a simple syntax:\n",
    "variable_name = value"
   ]
  },
  {
   "cell_type": "code",
   "execution_count": 5,
   "id": "52f9e145-1acc-4a73-b710-fef5df75dd29",
   "metadata": {},
   "outputs": [],
   "source": [
    "# Assigning a number to a variable\n",
    "age = 25\n",
    "\n",
    "# Assigning a string to a variable\n",
    "name = \"Raj Singh\"\n",
    "\n",
    "# Assigning a boolean value to a variable\n",
    "is_student = True"
   ]
  },
  {
   "cell_type": "markdown",
   "id": "0ecd8ca9-d844-466f-8ee5-b41da845f4e5",
   "metadata": {},
   "source": [
    "Q3. How do you convert one data type to another in Python?"
   ]
  },
  {
   "cell_type": "markdown",
   "id": "5bcd564a-5f9d-4221-ab1c-7d52b3cfc30c",
   "metadata": {},
   "source": [
    "In Python, you can convert one data type to another using type conversion functions.\n",
    "int(): Converts a value to an integer.\n",
    "float(): Converts a value to a floating-point number.\n",
    "str(): Converts a value to a string.\n",
    "bool(): Converts a value to a boolean.  etc.."
   ]
  },
  {
   "cell_type": "code",
   "execution_count": 9,
   "id": "0c235f36-06fc-4cbc-afdb-e2c977bad06b",
   "metadata": {},
   "outputs": [
    {
     "name": "stdout",
     "output_type": "stream",
     "text": [
      "<class 'str'>\n",
      "10\n",
      "<class 'int'>\n"
     ]
    }
   ],
   "source": [
    "num_str = \"10\"\n",
    "print(type(num_str))\n",
    "\n",
    "num_int = int(num_str)\n",
    "\n",
    "print(num_int)\n",
    "print(type(num_int))"
   ]
  },
  {
   "cell_type": "markdown",
   "id": "e48bbf85-39c8-4117-9d16-9d1d5f113586",
   "metadata": {},
   "source": [
    "Q4. How do you write and execute a Python script from the command line?"
   ]
  },
  {
   "cell_type": "markdown",
   "id": "cc716175-ec5f-4c2c-88cf-fcdde6f350fe",
   "metadata": {},
   "source": [
    "To write and execute a Python script from the command line, follow these steps:\n",
    "\n",
    "i. Open a text editor and write your Python code. Save the file with a .py extension. For example, you can create a file named script.py.\n",
    "ii. Open a command prompt or terminal window.\n",
    "iii. Navigate to the directory where your Python script is located.\n",
    "iv. Once you are in the correct directory, you can execute the Python script by typing python followed by the script's filename: python script.py"
   ]
  },
  {
   "cell_type": "markdown",
   "id": "a45a830f-a51e-41bc-b8a9-1a12ef990b05",
   "metadata": {},
   "source": [
    "Q5. Given a list my_list = [1, 2, 3, 4, 5], write the code to slice the list and obtain the sub-list [2, 3]."
   ]
  },
  {
   "cell_type": "code",
   "execution_count": 10,
   "id": "ba8f8cb2-4725-48ea-8de4-865d5447292a",
   "metadata": {},
   "outputs": [
    {
     "data": {
      "text/plain": [
       "[2, 3]"
      ]
     },
     "execution_count": 10,
     "metadata": {},
     "output_type": "execute_result"
    }
   ],
   "source": [
    "my_list = [1, 2, 3, 4, 5]\n",
    "my_list[1:3]"
   ]
  },
  {
   "cell_type": "markdown",
   "id": "968956b5-4e53-4a59-a80e-6fdb563d0e4b",
   "metadata": {},
   "source": [
    "Q6. What is a complex number in mathematics, and how is it represented in Python?"
   ]
  },
  {
   "cell_type": "markdown",
   "id": "e955cbef-2abc-4680-8b46-ad996c15c030",
   "metadata": {},
   "source": [
    "In mathematics, a complex number is a number that comprises a real part and an imaginary part. It is expressed in the form \"a + bi\", where \"a\" represents the real part and \"b\" represents the imaginary part, and \"i\" represents the imaginary unit (√-1).\n",
    "\n",
    "In Python, complex numbers are represented using the complex data type. The imaginary part is specified by appending the letter \"j\" or \"J\" to the value."
   ]
  },
  {
   "cell_type": "code",
   "execution_count": 16,
   "id": "65f496c7-780f-4ee5-9649-cdaa044e3350",
   "metadata": {},
   "outputs": [
    {
     "name": "stdout",
     "output_type": "stream",
     "text": [
      "<class 'complex'>\n"
     ]
    }
   ],
   "source": [
    "z1 = 2 + 3j   # complex number with real part 2 and imaginary part 3\n",
    "print(type(z1))"
   ]
  },
  {
   "cell_type": "markdown",
   "id": "83b8fd7c-6b4d-4780-a8f6-508be84aac83",
   "metadata": {},
   "source": [
    "Q7. What is the correct way to declare a variable named age and assign the value 25 to it?"
   ]
  },
  {
   "cell_type": "code",
   "execution_count": 13,
   "id": "3359493c-43c7-494d-b9f5-37b5d3d435d7",
   "metadata": {},
   "outputs": [],
   "source": [
    "age = 25"
   ]
  },
  {
   "cell_type": "markdown",
   "id": "af38287f-1019-449b-b538-c151ce2fc193",
   "metadata": {},
   "source": [
    "Q8. Declare a variable named price and assign the value 9.99 to it. What data type does this variable\n",
    "belong to?"
   ]
  },
  {
   "cell_type": "code",
   "execution_count": 15,
   "id": "dfaaeb94-277b-4313-b0ec-f8ea05cbe01a",
   "metadata": {},
   "outputs": [
    {
     "name": "stdout",
     "output_type": "stream",
     "text": [
      "<class 'float'>\n"
     ]
    }
   ],
   "source": [
    "price = 9.99\n",
    "print(type(price))"
   ]
  },
  {
   "cell_type": "markdown",
   "id": "4ae4df3c-4e91-43a0-b19a-799b15a7f931",
   "metadata": {},
   "source": [
    "Q9. Create a variable named name and assign your full name to it as a string. How would you print the\n",
    "value of this variable?"
   ]
  },
  {
   "cell_type": "code",
   "execution_count": 18,
   "id": "178bebea-3f89-493e-b423-e28c15d8cd98",
   "metadata": {},
   "outputs": [
    {
     "name": "stdout",
     "output_type": "stream",
     "text": [
      "Varsha Biswal\n"
     ]
    }
   ],
   "source": [
    "name = 'Varsha Biswal'\n",
    "print(name)"
   ]
  },
  {
   "cell_type": "markdown",
   "id": "4a932479-bd0a-4845-a757-6efa41c965fc",
   "metadata": {},
   "source": [
    "Q10. Given the string \"Hello, World!\", extract the substring \"World\"."
   ]
  },
  {
   "cell_type": "code",
   "execution_count": 19,
   "id": "4c149fc1-4a51-4e0b-a1c0-ab8665289cca",
   "metadata": {},
   "outputs": [
    {
     "data": {
      "text/plain": [
       "'World'"
      ]
     },
     "execution_count": 19,
     "metadata": {},
     "output_type": "execute_result"
    }
   ],
   "source": [
    "string = \"Hello, World!\"\n",
    "string[7:12]"
   ]
  },
  {
   "cell_type": "markdown",
   "id": "7da5fe7b-aefa-4628-b398-77c0bf80475a",
   "metadata": {},
   "source": [
    "Q11. Create a variable named \"is_student\" and assign it a boolean value indicating whether you are\n",
    "currently a student or not."
   ]
  },
  {
   "cell_type": "code",
   "execution_count": 20,
   "id": "ed30a761-5631-440d-818b-f62ea99bdae3",
   "metadata": {},
   "outputs": [],
   "source": [
    "is_student = True"
   ]
  },
  {
   "cell_type": "code",
   "execution_count": null,
   "id": "119b2af7-89df-4a26-9de9-12f15299593d",
   "metadata": {},
   "outputs": [],
   "source": []
  }
 ],
 "metadata": {
  "kernelspec": {
   "display_name": "Python 3 (ipykernel)",
   "language": "python",
   "name": "python3"
  },
  "language_info": {
   "codemirror_mode": {
    "name": "ipython",
    "version": 3
   },
   "file_extension": ".py",
   "mimetype": "text/x-python",
   "name": "python",
   "nbconvert_exporter": "python",
   "pygments_lexer": "ipython3",
   "version": "3.10.8"
  }
 },
 "nbformat": 4,
 "nbformat_minor": 5
}
