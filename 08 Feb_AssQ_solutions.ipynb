{
 "cells": [
  {
   "cell_type": "markdown",
   "id": "f0613bc3-00c2-425e-a89a-03226590263c",
   "metadata": {},
   "source": [
    "Q1. What is Abstraction in OOps? Explain with an example."
   ]
  },
  {
   "cell_type": "markdown",
   "id": "070b8449-9be7-4bac-a25c-731e32601e6e",
   "metadata": {},
   "source": [
    "Abstraction in python is defined as a process of handling complexity by hiding unnecessary information from the user. In Python, abstraction can be achieved by using abstract classes and interfaces. Abstract class can be inherited by the subclass and abstract method gets its definition in the subclass. Abstraction classes are meant to be the blueprint of the other class. "
   ]
  },
  {
   "cell_type": "code",
   "execution_count": 2,
   "id": "c21ae27f-ee77-4c3f-b9c9-b2771ffade02",
   "metadata": {},
   "outputs": [],
   "source": [
    "import abc\n",
    "\n",
    "class Shape:\n",
    "    @abc.abstractmethod\n",
    "    def calculate_area(self):\n",
    "        pass\n",
    "\n",
    "class Rectangle(Shape):\n",
    "    def __init__(self, length, width):\n",
    "        self.length = length\n",
    "        self.width = width\n",
    "\n",
    "    def calculate_area(self):\n",
    "        return self.length * self.width\n",
    "\n",
    "class Circle(Shape):\n",
    "    def __init__(self, radius):\n",
    "        self.radius = radius\n",
    "\n",
    "    def calculate_area(self):\n",
    "        return 3.14 * self.radius**2"
   ]
  },
  {
   "cell_type": "code",
   "execution_count": 5,
   "id": "81b8ea39-1122-4703-b8f9-8f6756e0a566",
   "metadata": {},
   "outputs": [],
   "source": [
    "rect1 = Rectangle(5,6)\n",
    "circ1 = Circle(6)"
   ]
  },
  {
   "cell_type": "code",
   "execution_count": 6,
   "id": "dd8945ea-e0c1-480c-be98-b05f110e3468",
   "metadata": {},
   "outputs": [
    {
     "data": {
      "text/plain": [
       "30"
      ]
     },
     "execution_count": 6,
     "metadata": {},
     "output_type": "execute_result"
    }
   ],
   "source": [
    "rect1.calculate_area()"
   ]
  },
  {
   "cell_type": "code",
   "execution_count": 7,
   "id": "3832645a-0f8a-481f-8279-fe791d4cab33",
   "metadata": {},
   "outputs": [
    {
     "data": {
      "text/plain": [
       "113.04"
      ]
     },
     "execution_count": 7,
     "metadata": {},
     "output_type": "execute_result"
    }
   ],
   "source": [
    "circ1.calculate_area()"
   ]
  },
  {
   "cell_type": "markdown",
   "id": "e64cfcfd-f216-487f-a9a5-90c487d492b3",
   "metadata": {},
   "source": [
    "Q2. Differentiate between Abstraction and Encapsulation. Explain with an example."
   ]
  },
  {
   "cell_type": "markdown",
   "id": "dd415810-909c-49d8-84d3-43d1464d1738",
   "metadata": {},
   "source": [
    "Abstraction: Abstraction in python is defined as a process of handling complexity by hiding unnecessary information from the user. In Python, abstraction can be achieved by using abstract classes and interfaces. Abstract class can be inherited by the subclass and abstract method gets its definition in the subclass. Abstraction classes are meant to be the blueprint of the other class.\n",
    "\n",
    "Encapsulation: Encapsulation hides variables or some implementation that may be changed so often in a class to prevent outsiders access it directly. They must access it via getter and setter methods."
   ]
  },
  {
   "cell_type": "code",
   "execution_count": 14,
   "id": "d8aabee3-9144-415e-a62e-9b2ed2786a9f",
   "metadata": {},
   "outputs": [],
   "source": [
    "# Abstraction\n",
    "\n",
    "#abstract class\n",
    "import abc\n",
    "class BankAccount:\n",
    "    def __init__(self, accno):\n",
    "        self.accno = accno\n",
    "        self.balance = 0\n",
    "        \n",
    "    @abc.abstractmethod\n",
    "    def deposit(self, amount):\n",
    "        pass\n",
    "    \n",
    "    @abc.abstractmethod\n",
    "    def withdraw(self, amount):\n",
    "        pass\n",
    "    \n",
    "    @abc.abstractmethod\n",
    "    def show_balance(self):\n",
    "        pass"
   ]
  },
  {
   "cell_type": "code",
   "execution_count": 15,
   "id": "1fa23af8-cf4b-4d9e-a500-49e3e93a7053",
   "metadata": {},
   "outputs": [],
   "source": [
    "# sub-class\n",
    "class SavingsAccount(BankAccount):\n",
    "    def deposit(self, amount):\n",
    "        self.balance += amount\n",
    "        \n",
    "    def withdraw(self, amount):\n",
    "        if self.balance >= amount:\n",
    "            self.balance -= amount\n",
    "        else:\n",
    "            print('Insufficient Balance')\n",
    "            \n",
    "    def show_balance(self):\n",
    "        return self.balance"
   ]
  },
  {
   "cell_type": "code",
   "execution_count": 16,
   "id": "7c348362-8b1a-4423-8f04-86eb93b80cc4",
   "metadata": {},
   "outputs": [
    {
     "data": {
      "text/plain": [
       "8000"
      ]
     },
     "execution_count": 16,
     "metadata": {},
     "output_type": "execute_result"
    }
   ],
   "source": [
    "acc1 = SavingsAccount(1123456)\n",
    "acc1.deposit(10000)\n",
    "acc1.withdraw(2000)\n",
    "acc1.show_balance()"
   ]
  },
  {
   "cell_type": "code",
   "execution_count": 17,
   "id": "0f40ed9c-4a6e-4cec-ac0e-4708bd279f4a",
   "metadata": {},
   "outputs": [],
   "source": [
    "# Encapsulation\n",
    "\n",
    "class BankAccount:\n",
    "    def __init__(self, accno, bal):\n",
    "        self.__accno = accno\n",
    "        self.__bal = bal\n",
    "        \n",
    "    def get_balance(self):\n",
    "        return self.__bal\n",
    "    \n",
    "    def deposit(self, amount):\n",
    "        self.__bal += amount\n",
    "        \n",
    "    def withdraw(self, amount):\n",
    "        if self.__bal >= amount:\n",
    "            self.__bal -= amount\n",
    "        else:\n",
    "            print('Insufficient Balance')       "
   ]
  },
  {
   "cell_type": "code",
   "execution_count": 23,
   "id": "b1692372-5dc0-4856-b668-cdf86a1492a1",
   "metadata": {},
   "outputs": [
    {
     "data": {
      "text/plain": [
       "500000"
      ]
     },
     "execution_count": 23,
     "metadata": {},
     "output_type": "execute_result"
    }
   ],
   "source": [
    "acc2 = BankAccount(123456, 500000)\n",
    "acc2.get_balance()"
   ]
  },
  {
   "cell_type": "code",
   "execution_count": 24,
   "id": "f701b64d-be46-4ffb-8625-751f9930ca91",
   "metadata": {},
   "outputs": [
    {
     "data": {
      "text/plain": [
       "560000"
      ]
     },
     "execution_count": 24,
     "metadata": {},
     "output_type": "execute_result"
    }
   ],
   "source": [
    "acc2.deposit(100000)\n",
    "acc2.withdraw(40000)\n",
    "acc2.get_balance()"
   ]
  },
  {
   "cell_type": "markdown",
   "id": "dd1a5d9a-06e0-4666-8518-107e387e1088",
   "metadata": {},
   "source": [
    "Q3. What is abc module in python? Why is it used?"
   ]
  },
  {
   "cell_type": "markdown",
   "id": "084be014-492d-41aa-a083-ad6f3d42291a",
   "metadata": {},
   "source": [
    "The abc module in Python stands for \"Abstract Base Classes.\" It provides infrastructure for defining abstract base classes in Python. Abstract base classes (ABCs) are classes that cannot be instantiated directly but serve as blueprints for other classes.\n",
    "\n",
    "The abc module is used to define abstract base classes and abstract methods. An abstract base class is a class that contains one or more abstract methods. An abstract method is a method declared in the abstract base class but has no implementation. The responsibility of implementing abstract methods lies with the subclasses of the abstract base class."
   ]
  },
  {
   "cell_type": "markdown",
   "id": "451d9ad1-ff80-4c47-8b89-44316be166da",
   "metadata": {},
   "source": [
    "Q4. How can we achieve data abstraction?"
   ]
  },
  {
   "cell_type": "markdown",
   "id": "10aca6e1-6ec9-456d-9b7a-ea63fb72dedb",
   "metadata": {},
   "source": [
    "Data abstraction in object-oriented programming can be achieved using abstract methods. Abstract methods, defined within abstract base classes, serve as blueprints for subclasses. By declaring a method as abstract, we indicate that it must be implemented in the subclasses, but the abstract base class itself does not provide an implementation. This allows us to define a common interface for a group of related classes while hiding the specific implementation details. With data abstraction, we can focus on using the abstract methods to interact with objects without concerning ourselves with the internal complexities of how the methods are implemented in different subclasses."
   ]
  },
  {
   "cell_type": "markdown",
   "id": "a258ae51-5d40-4ffb-9a22-03e1d41fe83f",
   "metadata": {},
   "source": [
    "Q5. Can we create an instance of an abstract class? Explain your answer."
   ]
  },
  {
   "cell_type": "markdown",
   "id": "ceeaa0e8-0fc5-4ca7-a453-2431d1227316",
   "metadata": {},
   "source": [
    "No, we cannot create an instance of an abstract class. Abstract classes are designed to be incomplete and serve as blueprints for other classes. They are meant to be inherited by subclasses that provide implementations for the abstract methods.\n",
    "\n",
    "Attempting to create an instance of an abstract class will result in an error. This is because abstract classes typically contain one or more abstract methods that lack implementations. Since abstract methods are meant to be overridden in subclasses, creating an instance of the abstract class would lead to TypeError with a message stating that the abstract class cannot be instantiated."
   ]
  },
  {
   "cell_type": "code",
   "execution_count": 7,
   "id": "c0dde374-4507-4257-bf43-61dfb3ff2fc0",
   "metadata": {},
   "outputs": [
    {
     "ename": "TypeError",
     "evalue": "Can't instantiate abstract class AbstractClass with abstract method abstract_method",
     "output_type": "error",
     "traceback": [
      "\u001b[0;31m---------------------------------------------------------------------------\u001b[0m",
      "\u001b[0;31mTypeError\u001b[0m                                 Traceback (most recent call last)",
      "Cell \u001b[0;32mIn[7], line 9\u001b[0m\n\u001b[1;32m      4\u001b[0m     \u001b[38;5;129m@abstractmethod\u001b[39m\n\u001b[1;32m      5\u001b[0m     \u001b[38;5;28;01mdef\u001b[39;00m \u001b[38;5;21mabstract_method\u001b[39m(\u001b[38;5;28mself\u001b[39m):\n\u001b[1;32m      6\u001b[0m         \u001b[38;5;28;01mpass\u001b[39;00m\n\u001b[0;32m----> 9\u001b[0m obj \u001b[38;5;241m=\u001b[39m \u001b[43mAbstractClass\u001b[49m\u001b[43m(\u001b[49m\u001b[43m)\u001b[49m\n",
      "\u001b[0;31mTypeError\u001b[0m: Can't instantiate abstract class AbstractClass with abstract method abstract_method"
     ]
    }
   ],
   "source": [
    "from abc import ABC, abstractmethod\n",
    "\n",
    "class AbstractClass(ABC):\n",
    "    @abstractmethod\n",
    "    def abstract_method(self):\n",
    "        pass\n",
    "\n",
    "\n",
    "obj = AbstractClass()"
   ]
  },
  {
   "cell_type": "code",
   "execution_count": null,
   "id": "221af937-6f62-45cc-b28c-dfb5b32c91bb",
   "metadata": {},
   "outputs": [],
   "source": []
  }
 ],
 "metadata": {
  "kernelspec": {
   "display_name": "Python 3 (ipykernel)",
   "language": "python",
   "name": "python3"
  },
  "language_info": {
   "codemirror_mode": {
    "name": "ipython",
    "version": 3
   },
   "file_extension": ".py",
   "mimetype": "text/x-python",
   "name": "python",
   "nbconvert_exporter": "python",
   "pygments_lexer": "ipython3",
   "version": "3.10.8"
  }
 },
 "nbformat": 4,
 "nbformat_minor": 5
}
