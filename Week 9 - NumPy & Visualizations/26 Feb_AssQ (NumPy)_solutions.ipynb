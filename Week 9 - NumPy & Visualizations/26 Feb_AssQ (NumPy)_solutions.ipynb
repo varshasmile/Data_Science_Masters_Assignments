{
 "cells": [
  {
   "cell_type": "markdown",
   "id": "75cc60c4-2388-42dc-bbcb-a26030bb8704",
   "metadata": {},
   "source": [
    "Consider the below code to answer further questions:"
   ]
  },
  {
   "cell_type": "code",
   "execution_count": 2,
   "id": "b3dba1b1-1717-4c37-ab63-9aeeccb97522",
   "metadata": {},
   "outputs": [
    {
     "data": {
      "text/plain": [
       "array(['1', '2', '3', '4', '5'], dtype='<U1')"
      ]
     },
     "execution_count": 2,
     "metadata": {},
     "output_type": "execute_result"
    }
   ],
   "source": [
    "import numpy as np\n",
    "list_ = [ '1' , '2' , '3' , '4' , '5' ]\n",
    "array_list = np.array(object = list_)\n",
    "\n",
    "array_list"
   ]
  },
  {
   "cell_type": "markdown",
   "id": "0e02c7ff-9bb0-48aa-83bf-dda933f7056b",
   "metadata": {},
   "source": [
    "Q1. Is there any difference in the data type of variables list_ and array_list? If there is then write a code\n",
    "to print the data types of both the variables."
   ]
  },
  {
   "cell_type": "markdown",
   "id": "85869f7f-39b3-45a9-b0e4-9abaca437d54",
   "metadata": {},
   "source": [
    "Yes, there is a difference in the data type of the variables list_ and array_list.\n",
    "\n",
    "list_ is a Python list, which is a built-in data type in Python. It can hold elements of different data types.\n",
    "\n",
    "array_list is a NumPy array, which is a data structure provided by the NumPy library. NumPy arrays are homogeneous, meaning they can only hold elements of the same data type. When you create a NumPy array from a list, the data type of the array is determined by the data type of the elements in the list."
   ]
  },
  {
   "cell_type": "code",
   "execution_count": 4,
   "id": "9f6656b4-13ca-4d8f-be71-8ae8725f793e",
   "metadata": {},
   "outputs": [
    {
     "name": "stdout",
     "output_type": "stream",
     "text": [
      "Data type of list_: <class 'list'>\n",
      "Data type of array_list: <class 'numpy.ndarray'>\n"
     ]
    }
   ],
   "source": [
    "print(\"Data type of list_:\", type(list_))\n",
    "print(\"Data type of array_list:\", type(array_list))"
   ]
  },
  {
   "cell_type": "markdown",
   "id": "1a4e4ff7-09fe-470f-8619-2fb289589851",
   "metadata": {},
   "source": [
    "Q2. Write a code to print the data type of each and every element of both the variables list_ and\n",
    "arra_list."
   ]
  },
  {
   "cell_type": "code",
   "execution_count": 7,
   "id": "a0a6180e-9448-4baf-b51e-08ec94a416c5",
   "metadata": {},
   "outputs": [
    {
     "name": "stdout",
     "output_type": "stream",
     "text": [
      "Data type of elements in list_:\n",
      "Data type of list_ element '1': <class 'str'>\n",
      "Data type of list_ element '2': <class 'str'>\n",
      "Data type of list_ element '3': <class 'str'>\n",
      "Data type of list_ element '4': <class 'str'>\n",
      "Data type of list_ element '5': <class 'str'>\n",
      "\n",
      "Data type of elements in array_list:\n",
      "Data type of array_list element '1': <class 'numpy.str_'>\n",
      "Data type of array_list element '2': <class 'numpy.str_'>\n",
      "Data type of array_list element '3': <class 'numpy.str_'>\n",
      "Data type of array_list element '4': <class 'numpy.str_'>\n",
      "Data type of array_list element '5': <class 'numpy.str_'>\n"
     ]
    }
   ],
   "source": [
    "print(\"Data type of elements in list_:\")\n",
    "for i in list_:\n",
    "    print(f\"Data type of list_ element '{i}': {type(i)}\")\n",
    "\n",
    "print(\"\\nData type of elements in array_list:\")\n",
    "for i in array_list:\n",
    "    print(f\"Data type of array_list element '{i}': {type(i)}\")"
   ]
  },
  {
   "cell_type": "markdown",
   "id": "63018af2-f3a4-4b68-8fbd-f7c447b0d179",
   "metadata": {},
   "source": [
    "Q3. Considering the following changes in the variable, array_list:\n",
    "array_list = np.array(object = list_, dtype = int)\n",
    "Will there be any difference in the data type of the elements present in both the variables, list_ and\n",
    "arra_list? If so then print the data types of each and every element present in both the variables, list_\n",
    "and arra_list."
   ]
  },
  {
   "cell_type": "markdown",
   "id": "305313ab-d7c3-43e1-9428-556e6393ae48",
   "metadata": {},
   "source": [
    "Yes, there will be a difference in the data type of the elements present in list_ and array_list after the specified change.\n",
    "\n",
    "By specifying dtype = int when creating the NumPy array array_list, you are explicitly instructing NumPy to convert the elements from strings to integers."
   ]
  },
  {
   "cell_type": "code",
   "execution_count": 8,
   "id": "1210701e-59b8-4818-a230-f6604561ee57",
   "metadata": {},
   "outputs": [],
   "source": [
    "array_list = np.array(object = list_, dtype = int)"
   ]
  },
  {
   "cell_type": "code",
   "execution_count": 9,
   "id": "88a6ee59-d049-4990-8366-b4a7a2c8c8d6",
   "metadata": {},
   "outputs": [
    {
     "name": "stdout",
     "output_type": "stream",
     "text": [
      "Data type of elements in list_:\n",
      "Data type of list_ element '1': <class 'str'>\n",
      "Data type of list_ element '2': <class 'str'>\n",
      "Data type of list_ element '3': <class 'str'>\n",
      "Data type of list_ element '4': <class 'str'>\n",
      "Data type of list_ element '5': <class 'str'>\n",
      "\n",
      "Data type of elements in array_list:\n",
      "Data type of array_list element '1': <class 'numpy.int64'>\n",
      "Data type of array_list element '2': <class 'numpy.int64'>\n",
      "Data type of array_list element '3': <class 'numpy.int64'>\n",
      "Data type of array_list element '4': <class 'numpy.int64'>\n",
      "Data type of array_list element '5': <class 'numpy.int64'>\n"
     ]
    }
   ],
   "source": [
    "print(\"Data type of elements in list_:\")\n",
    "for i in list_:\n",
    "    print(f\"Data type of list_ element '{i}': {type(i)}\")\n",
    "\n",
    "print(\"\\nData type of elements in array_list:\")\n",
    "for i in array_list:\n",
    "    print(f\"Data type of array_list element '{i}': {type(i)}\")"
   ]
  },
  {
   "cell_type": "markdown",
   "id": "b2b1ded9-7994-497e-a5ad-20a7c3264b4c",
   "metadata": {},
   "source": [
    "Consider the below code to answer further questions:"
   ]
  },
  {
   "cell_type": "code",
   "execution_count": 10,
   "id": "9702d516-6986-48cb-90df-789f387e46da",
   "metadata": {},
   "outputs": [
    {
     "data": {
      "text/plain": [
       "array([[1, 2, 3],\n",
       "       [4, 5, 6]])"
      ]
     },
     "execution_count": 10,
     "metadata": {},
     "output_type": "execute_result"
    }
   ],
   "source": [
    "import numpy as np\n",
    "num_list = [ [ 1 , 2 , 3 ] , [ 4 , 5 , 6 ] ]\n",
    "num_array = np.array(object = num_list)\n",
    "\n",
    "num_array"
   ]
  },
  {
   "cell_type": "markdown",
   "id": "b304bcbc-e68c-46f7-8e38-2ee38220c394",
   "metadata": {},
   "source": [
    "Q4. Write a code to find the following characteristics of variable, num_array:\n",
    "(i) shape\n",
    "(ii) size"
   ]
  },
  {
   "cell_type": "code",
   "execution_count": 11,
   "id": "165da9f5-25d7-46cf-a698-957df3cb624b",
   "metadata": {},
   "outputs": [
    {
     "name": "stdout",
     "output_type": "stream",
     "text": [
      "Shape of num_array: (2, 3)\n",
      "Size of num_array: 6\n"
     ]
    }
   ],
   "source": [
    "# (i) Shape\n",
    "print(\"Shape of num_array:\", num_array.shape)\n",
    "\n",
    "# (ii) Size\n",
    "print(\"Size of num_array:\", num_array.size)"
   ]
  },
  {
   "cell_type": "markdown",
   "id": "02b0a0df-4c8c-4ae0-a5b1-a3bd9559d473",
   "metadata": {},
   "source": [
    "Q5. Write a code to create numpy array of 3*3 matrix containing zeros only, using a numpy array\n",
    "creation function.\n",
    "[Hint: The size of the array will be 9 and the shape will be (3,3).]"
   ]
  },
  {
   "cell_type": "code",
   "execution_count": 16,
   "id": "7d61664c-9bca-4e15-8a9e-812a6d6a68b3",
   "metadata": {},
   "outputs": [
    {
     "data": {
      "text/plain": [
       "array([[0., 0., 0.],\n",
       "       [0., 0., 0.],\n",
       "       [0., 0., 0.]])"
      ]
     },
     "execution_count": 16,
     "metadata": {},
     "output_type": "execute_result"
    }
   ],
   "source": [
    "zero_arr = np.zeros([3,3])\n",
    "\n",
    "zero_arr"
   ]
  },
  {
   "cell_type": "code",
   "execution_count": 17,
   "id": "39f7dec2-236f-43ce-bdba-b9a761c3d972",
   "metadata": {},
   "outputs": [
    {
     "name": "stdout",
     "output_type": "stream",
     "text": [
      "Shape of zero_arr: (3, 3)\n",
      "Size of zero_arr: 9\n"
     ]
    }
   ],
   "source": [
    "# (i) Shape\n",
    "print(\"Shape of zero_arr:\", zero_arr.shape)\n",
    "\n",
    "# (ii) Size\n",
    "print(\"Size of zero_arr:\", zero_arr.size)"
   ]
  },
  {
   "cell_type": "markdown",
   "id": "4dadc1e6-5c82-4d79-9476-acd5cb9746ce",
   "metadata": {},
   "source": [
    "Q6. Create an identity matrix of shape (5,5) using numpy functions?\n",
    "[Hint: An identity matrix is a matrix containing 1 diagonally and other elements will be 0.]"
   ]
  },
  {
   "cell_type": "code",
   "execution_count": 18,
   "id": "532cf1f4-6348-4aab-a7d6-3505551d2d54",
   "metadata": {},
   "outputs": [
    {
     "data": {
      "text/plain": [
       "array([[1., 0., 0., 0., 0.],\n",
       "       [0., 1., 0., 0., 0.],\n",
       "       [0., 0., 1., 0., 0.],\n",
       "       [0., 0., 0., 1., 0.],\n",
       "       [0., 0., 0., 0., 1.]])"
      ]
     },
     "execution_count": 18,
     "metadata": {},
     "output_type": "execute_result"
    }
   ],
   "source": [
    "identity_matrix = np.eye(5)\n",
    "\n",
    "identity_matrix"
   ]
  },
  {
   "cell_type": "code",
   "execution_count": 20,
   "id": "738b9773-f5e3-4686-8d43-15806ac896f6",
   "metadata": {},
   "outputs": [
    {
     "name": "stdout",
     "output_type": "stream",
     "text": [
      "Shape of identity_matrix: (5, 5)\n"
     ]
    }
   ],
   "source": [
    "# Shape\n",
    "print(\"Shape of identity_matrix:\", identity_matrix.shape)"
   ]
  },
  {
   "cell_type": "code",
   "execution_count": null,
   "id": "cb08c463-f6f0-488f-9fe7-8dae9eacbb98",
   "metadata": {},
   "outputs": [],
   "source": []
  }
 ],
 "metadata": {
  "kernelspec": {
   "display_name": "Python 3 (ipykernel)",
   "language": "python",
   "name": "python3"
  },
  "language_info": {
   "codemirror_mode": {
    "name": "ipython",
    "version": 3
   },
   "file_extension": ".py",
   "mimetype": "text/x-python",
   "name": "python",
   "nbconvert_exporter": "python",
   "pygments_lexer": "ipython3",
   "version": "3.10.8"
  }
 },
 "nbformat": 4,
 "nbformat_minor": 5
}
